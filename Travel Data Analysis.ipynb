{
 "cells": [
  {
   "cell_type": "raw",
   "metadata": {},
   "source": [
    "Part 1. Exploratory data analysis\n",
    "Perform an exploratory data analysis on the given dataset and share your findings.\n",
    "\n",
    "Part 2. Metric calculation\n",
    "What is the average duration between the 1st trip and the 2nd trip of customers? Note: Consider only the customers who have done 2 or more trips.\n",
    "\n",
    "Part 3. Model building\n",
    "Build a model to predict trip_fare using travel_distance and travel_time. Measure the accuracy of the model and use the model to predict trip_fare for a trip with travel_distance of 3.5 kms and travel_time of 15 minutes.\n",
    "\n",
    "Part 4. Top Hex clusters\n",
    "Top 5 pairs of hex (resolution=8) clusters where most of the trips happened? You can refer to the library listed below to get hexid for a given latitude and longitude.\n"
   ]
  },
  {
   "cell_type": "code",
   "execution_count": 228,
   "metadata": {},
   "outputs": [],
   "source": [
    "import numpy as np\n",
    "import pandas as pd\n",
    "import matplotlib.pyplot as plt\n",
    "import seaborn as sns\n",
    "%matplotlib inline\n",
    "import statsmodels.formula.api as smf\n",
    "import statsmodels.api as sm\n",
    "from sklearn.linear_model import LinearRegression\n",
    "from sklearn import metrics\n",
    "from sklearn.model_selection import train_test_split\n",
    "from sklearn.linear_model import LinearRegression"
   ]
  },
  {
   "cell_type": "code",
   "execution_count": 139,
   "metadata": {},
   "outputs": [],
   "source": [
    "##PART 1"
   ]
  },
  {
   "cell_type": "code",
   "execution_count": 140,
   "metadata": {},
   "outputs": [],
   "source": [
    "df = pd.read_excel('Rapido Data Analyst Assignment DataSet.xlsx')"
   ]
  },
  {
   "cell_type": "code",
   "execution_count": 141,
   "metadata": {},
   "outputs": [
    {
     "data": {
      "text/html": [
       "<div>\n",
       "<style scoped>\n",
       "    .dataframe tbody tr th:only-of-type {\n",
       "        vertical-align: middle;\n",
       "    }\n",
       "\n",
       "    .dataframe tbody tr th {\n",
       "        vertical-align: top;\n",
       "    }\n",
       "\n",
       "    .dataframe thead th {\n",
       "        text-align: right;\n",
       "    }\n",
       "</style>\n",
       "<table border=\"1\" class=\"dataframe\">\n",
       "  <thead>\n",
       "    <tr style=\"text-align: right;\">\n",
       "      <th></th>\n",
       "      <th>trip_id</th>\n",
       "      <th>customer_id</th>\n",
       "      <th>timestamp</th>\n",
       "      <th>pick_lat</th>\n",
       "      <th>pick_lng</th>\n",
       "      <th>drop_lat</th>\n",
       "      <th>drop_lng</th>\n",
       "      <th>travel_distance</th>\n",
       "      <th>travel_time</th>\n",
       "      <th>trip_fare</th>\n",
       "    </tr>\n",
       "  </thead>\n",
       "  <tbody>\n",
       "    <tr>\n",
       "      <td>0</td>\n",
       "      <td>ID001</td>\n",
       "      <td>CUST_001</td>\n",
       "      <td>1546709270211</td>\n",
       "      <td>17.442705</td>\n",
       "      <td>78.387878</td>\n",
       "      <td>17.457829</td>\n",
       "      <td>78.399056</td>\n",
       "      <td>2.806</td>\n",
       "      <td>12.609667</td>\n",
       "      <td>37</td>\n",
       "    </tr>\n",
       "    <tr>\n",
       "      <td>1</td>\n",
       "      <td>ID002</td>\n",
       "      <td>CUST_002</td>\n",
       "      <td>1546709309524</td>\n",
       "      <td>17.490189</td>\n",
       "      <td>78.415512</td>\n",
       "      <td>17.450548</td>\n",
       "      <td>78.367294</td>\n",
       "      <td>11.991</td>\n",
       "      <td>24.075200</td>\n",
       "      <td>119</td>\n",
       "    </tr>\n",
       "    <tr>\n",
       "      <td>2</td>\n",
       "      <td>ID003</td>\n",
       "      <td>CUST_003</td>\n",
       "      <td>1546709331857</td>\n",
       "      <td>17.370108</td>\n",
       "      <td>78.515045</td>\n",
       "      <td>17.377041</td>\n",
       "      <td>78.517921</td>\n",
       "      <td>1.322</td>\n",
       "      <td>8.708300</td>\n",
       "      <td>27</td>\n",
       "    </tr>\n",
       "    <tr>\n",
       "      <td>3</td>\n",
       "      <td>ID004</td>\n",
       "      <td>CUST_004</td>\n",
       "      <td>1546709358403</td>\n",
       "      <td>17.439314</td>\n",
       "      <td>78.443001</td>\n",
       "      <td>17.397131</td>\n",
       "      <td>78.516586</td>\n",
       "      <td>11.822</td>\n",
       "      <td>24.037550</td>\n",
       "      <td>121</td>\n",
       "    </tr>\n",
       "    <tr>\n",
       "      <td>4</td>\n",
       "      <td>ID005</td>\n",
       "      <td>CUST_005</td>\n",
       "      <td>1546709386884</td>\n",
       "      <td>17.432325</td>\n",
       "      <td>78.381966</td>\n",
       "      <td>17.401625</td>\n",
       "      <td>78.400032</td>\n",
       "      <td>6.978</td>\n",
       "      <td>16.120867</td>\n",
       "      <td>58</td>\n",
       "    </tr>\n",
       "  </tbody>\n",
       "</table>\n",
       "</div>"
      ],
      "text/plain": [
       "  trip_id customer_id      timestamp   pick_lat   pick_lng   drop_lat  \\\n",
       "0   ID001    CUST_001  1546709270211  17.442705  78.387878  17.457829   \n",
       "1   ID002    CUST_002  1546709309524  17.490189  78.415512  17.450548   \n",
       "2   ID003    CUST_003  1546709331857  17.370108  78.515045  17.377041   \n",
       "3   ID004    CUST_004  1546709358403  17.439314  78.443001  17.397131   \n",
       "4   ID005    CUST_005  1546709386884  17.432325  78.381966  17.401625   \n",
       "\n",
       "    drop_lng  travel_distance  travel_time  trip_fare  \n",
       "0  78.399056            2.806    12.609667         37  \n",
       "1  78.367294           11.991    24.075200        119  \n",
       "2  78.517921            1.322     8.708300         27  \n",
       "3  78.516586           11.822    24.037550        121  \n",
       "4  78.400032            6.978    16.120867         58  "
      ]
     },
     "execution_count": 141,
     "metadata": {},
     "output_type": "execute_result"
    }
   ],
   "source": [
    "df.head()"
   ]
  },
  {
   "cell_type": "code",
   "execution_count": 142,
   "metadata": {},
   "outputs": [
    {
     "data": {
      "text/plain": [
       "trip_id            0\n",
       "customer_id        0\n",
       "timestamp          0\n",
       "pick_lat           0\n",
       "pick_lng           0\n",
       "drop_lat           0\n",
       "drop_lng           0\n",
       "travel_distance    0\n",
       "travel_time        0\n",
       "trip_fare          0\n",
       "dtype: int64"
      ]
     },
     "execution_count": 142,
     "metadata": {},
     "output_type": "execute_result"
    }
   ],
   "source": [
    "df.isna().sum()"
   ]
  },
  {
   "cell_type": "code",
   "execution_count": 143,
   "metadata": {},
   "outputs": [],
   "source": [
    "##WE see no missing values in the dataset"
   ]
  },
  {
   "cell_type": "code",
   "execution_count": 144,
   "metadata": {},
   "outputs": [
    {
     "data": {
      "text/plain": [
       "trip_id             object\n",
       "customer_id         object\n",
       "timestamp            int64\n",
       "pick_lat           float64\n",
       "pick_lng           float64\n",
       "drop_lat           float64\n",
       "drop_lng           float64\n",
       "travel_distance    float64\n",
       "travel_time        float64\n",
       "trip_fare            int64\n",
       "dtype: object"
      ]
     },
     "execution_count": 144,
     "metadata": {},
     "output_type": "execute_result"
    }
   ],
   "source": [
    "df.dtypes"
   ]
  },
  {
   "cell_type": "code",
   "execution_count": 145,
   "metadata": {},
   "outputs": [],
   "source": [
    "##Latitutes and Longitudes are not exactly numbers, but instead they will be treated as co-ordinates, so we will not\n",
    "#evaluate them as numbers as such"
   ]
  },
  {
   "cell_type": "code",
   "execution_count": 146,
   "metadata": {},
   "outputs": [
    {
     "data": {
      "text/plain": [
       "(44587, 10)"
      ]
     },
     "execution_count": 146,
     "metadata": {},
     "output_type": "execute_result"
    }
   ],
   "source": [
    "df.shape"
   ]
  },
  {
   "cell_type": "code",
   "execution_count": 147,
   "metadata": {},
   "outputs": [
    {
     "data": {
      "text/plain": [
       "44587"
      ]
     },
     "execution_count": 147,
     "metadata": {},
     "output_type": "execute_result"
    }
   ],
   "source": [
    "df['trip_id'].nunique()"
   ]
  },
  {
   "cell_type": "code",
   "execution_count": 148,
   "metadata": {},
   "outputs": [
    {
     "data": {
      "text/plain": [
       "19139"
      ]
     },
     "execution_count": 148,
     "metadata": {},
     "output_type": "execute_result"
    }
   ],
   "source": [
    "df['customer_id'].nunique()"
   ]
  },
  {
   "cell_type": "code",
   "execution_count": 149,
   "metadata": {},
   "outputs": [],
   "source": [
    "#19139 customers"
   ]
  },
  {
   "cell_type": "code",
   "execution_count": 150,
   "metadata": {},
   "outputs": [
    {
     "data": {
      "text/plain": [
       "<matplotlib.axes._subplots.AxesSubplot at 0x21b12d93688>"
      ]
     },
     "execution_count": 150,
     "metadata": {},
     "output_type": "execute_result"
    },
    {
     "data": {
      "image/png": "[encoded data removed]",
      "text/plain": [
       "<Figure size 1440x720 with 1 Axes>"
      ]
     },
     "metadata": {
      "needs_background": "light"
     },
     "output_type": "display_data"
    }
   ],
   "source": [
    "df.groupby('customer_id').agg({'trip_id':'count'}).sort_values(by='trip_id',ascending=False).head(50).plot.bar(figsize=(20,10))"
   ]
  },
  {
   "cell_type": "code",
   "execution_count": 151,
   "metadata": {},
   "outputs": [],
   "source": [
    "##Above we see top 50 customers based on the number of rides they have taken"
   ]
  },
  {
   "cell_type": "code",
   "execution_count": 152,
   "metadata": {},
   "outputs": [],
   "source": [
    "##We see that Customer 279 has actually taken a lot more rides than all the other customers"
   ]
  },
  {
   "cell_type": "code",
   "execution_count": 153,
   "metadata": {},
   "outputs": [
    {
     "data": {
      "text/plain": [
       "<matplotlib.axes._subplots.AxesSubplot at 0x21b1297cd88>"
      ]
     },
     "execution_count": 153,
     "metadata": {},
     "output_type": "execute_result"
    },
    {
     "data": {
      "image/png": "[encoded data removed]",
      "text/plain": [
       "<Figure size 1440x720 with 1 Axes>"
      ]
     },
     "metadata": {
      "needs_background": "light"
     },
     "output_type": "display_data"
    }
   ],
   "source": [
    "##similarly we can find the customers which have taken the least number of rides:\n",
    "\n",
    "df.groupby('customer_id').agg({'trip_id':'count'}).sort_values(by='trip_id',ascending=True).head(50).plot.bar(figsize=(20,10))"
   ]
  },
  {
   "cell_type": "code",
   "execution_count": 154,
   "metadata": {},
   "outputs": [],
   "source": [
    "##so, we see that the least number of rides is actually only 1, which means that there are quite a few customers who just\n",
    "#took a single ride, so let's find out how many customers took only one ride until now"
   ]
  },
  {
   "cell_type": "code",
   "execution_count": 155,
   "metadata": {},
   "outputs": [
    {
     "data": {
      "text/plain": [
       "52.29635822143268"
      ]
     },
     "execution_count": 155,
     "metadata": {},
     "output_type": "execute_result"
    }
   ],
   "source": [
    "dfx = df.groupby('customer_id').agg({'trip_id':'count'}).reset_index()\n",
    "(dfx[dfx['trip_id']==1].shape[0]/dfx.shape[0])*100"
   ]
  },
  {
   "cell_type": "code",
   "execution_count": 156,
   "metadata": {},
   "outputs": [],
   "source": [
    "##so, 52.3% (approx) of customers took only one ride after installing the app, until now\n",
    "##This is a business insight to note and this will help us target these customers for offers"
   ]
  },
  {
   "cell_type": "code",
   "execution_count": 157,
   "metadata": {},
   "outputs": [
    {
     "data": {
      "text/html": [
       "<div>\n",
       "<style scoped>\n",
       "    .dataframe tbody tr th:only-of-type {\n",
       "        vertical-align: middle;\n",
       "    }\n",
       "\n",
       "    .dataframe tbody tr th {\n",
       "        vertical-align: top;\n",
       "    }\n",
       "\n",
       "    .dataframe thead th {\n",
       "        text-align: right;\n",
       "    }\n",
       "</style>\n",
       "<table border=\"1\" class=\"dataframe\">\n",
       "  <thead>\n",
       "    <tr style=\"text-align: right;\">\n",
       "      <th></th>\n",
       "      <th>trip_id</th>\n",
       "      <th>customer_id</th>\n",
       "      <th>timestamp</th>\n",
       "      <th>pick_lat</th>\n",
       "      <th>pick_lng</th>\n",
       "      <th>drop_lat</th>\n",
       "      <th>drop_lng</th>\n",
       "      <th>travel_distance</th>\n",
       "      <th>travel_time</th>\n",
       "      <th>trip_fare</th>\n",
       "    </tr>\n",
       "  </thead>\n",
       "  <tbody>\n",
       "    <tr>\n",
       "      <td>0</td>\n",
       "      <td>ID001</td>\n",
       "      <td>CUST_001</td>\n",
       "      <td>1546709270211</td>\n",
       "      <td>17.442705</td>\n",
       "      <td>78.387878</td>\n",
       "      <td>17.457829</td>\n",
       "      <td>78.399056</td>\n",
       "      <td>2.806</td>\n",
       "      <td>12.609667</td>\n",
       "      <td>37</td>\n",
       "    </tr>\n",
       "    <tr>\n",
       "      <td>1</td>\n",
       "      <td>ID002</td>\n",
       "      <td>CUST_002</td>\n",
       "      <td>1546709309524</td>\n",
       "      <td>17.490189</td>\n",
       "      <td>78.415512</td>\n",
       "      <td>17.450548</td>\n",
       "      <td>78.367294</td>\n",
       "      <td>11.991</td>\n",
       "      <td>24.075200</td>\n",
       "      <td>119</td>\n",
       "    </tr>\n",
       "    <tr>\n",
       "      <td>2</td>\n",
       "      <td>ID003</td>\n",
       "      <td>CUST_003</td>\n",
       "      <td>1546709331857</td>\n",
       "      <td>17.370108</td>\n",
       "      <td>78.515045</td>\n",
       "      <td>17.377041</td>\n",
       "      <td>78.517921</td>\n",
       "      <td>1.322</td>\n",
       "      <td>8.708300</td>\n",
       "      <td>27</td>\n",
       "    </tr>\n",
       "    <tr>\n",
       "      <td>3</td>\n",
       "      <td>ID004</td>\n",
       "      <td>CUST_004</td>\n",
       "      <td>1546709358403</td>\n",
       "      <td>17.439314</td>\n",
       "      <td>78.443001</td>\n",
       "      <td>17.397131</td>\n",
       "      <td>78.516586</td>\n",
       "      <td>11.822</td>\n",
       "      <td>24.037550</td>\n",
       "      <td>121</td>\n",
       "    </tr>\n",
       "    <tr>\n",
       "      <td>4</td>\n",
       "      <td>ID005</td>\n",
       "      <td>CUST_005</td>\n",
       "      <td>1546709386884</td>\n",
       "      <td>17.432325</td>\n",
       "      <td>78.381966</td>\n",
       "      <td>17.401625</td>\n",
       "      <td>78.400032</td>\n",
       "      <td>6.978</td>\n",
       "      <td>16.120867</td>\n",
       "      <td>58</td>\n",
       "    </tr>\n",
       "  </tbody>\n",
       "</table>\n",
       "</div>"
      ],
      "text/plain": [
       "  trip_id customer_id      timestamp   pick_lat   pick_lng   drop_lat  \\\n",
       "0   ID001    CUST_001  1546709270211  17.442705  78.387878  17.457829   \n",
       "1   ID002    CUST_002  1546709309524  17.490189  78.415512  17.450548   \n",
       "2   ID003    CUST_003  1546709331857  17.370108  78.515045  17.377041   \n",
       "3   ID004    CUST_004  1546709358403  17.439314  78.443001  17.397131   \n",
       "4   ID005    CUST_005  1546709386884  17.432325  78.381966  17.401625   \n",
       "\n",
       "    drop_lng  travel_distance  travel_time  trip_fare  \n",
       "0  78.399056            2.806    12.609667         37  \n",
       "1  78.367294           11.991    24.075200        119  \n",
       "2  78.517921            1.322     8.708300         27  \n",
       "3  78.516586           11.822    24.037550        121  \n",
       "4  78.400032            6.978    16.120867         58  "
      ]
     },
     "execution_count": 157,
     "metadata": {},
     "output_type": "execute_result"
    }
   ],
   "source": [
    "df.head()"
   ]
  },
  {
   "cell_type": "code",
   "execution_count": 158,
   "metadata": {},
   "outputs": [
    {
     "data": {
      "text/plain": [
       "trip_id             object\n",
       "customer_id         object\n",
       "timestamp            int64\n",
       "pick_lat           float64\n",
       "pick_lng           float64\n",
       "drop_lat           float64\n",
       "drop_lng           float64\n",
       "travel_distance    float64\n",
       "travel_time        float64\n",
       "trip_fare            int64\n",
       "dtype: object"
      ]
     },
     "execution_count": 158,
     "metadata": {},
     "output_type": "execute_result"
    }
   ],
   "source": [
    "df.dtypes"
   ]
  },
  {
   "cell_type": "code",
   "execution_count": 159,
   "metadata": {},
   "outputs": [
    {
     "data": {
      "text/plain": [
       "<matplotlib.axes._subplots.AxesSubplot at 0x21b1170c3c8>"
      ]
     },
     "execution_count": 159,
     "metadata": {},
     "output_type": "execute_result"
    },
    {
     "data": {
      "image/png": "[encoded data removed]",
      "text/plain": [
       "<Figure size 1440x720 with 1 Axes>"
      ]
     },
     "metadata": {
      "needs_background": "light"
     },
     "output_type": "display_data"
    }
   ],
   "source": [
    "df.groupby('customer_id').agg({'travel_distance':'mean'}).sort_values(by='travel_distance',ascending=False).head(100).plot.bar(figsize=(20,10))"
   ]
  },
  {
   "cell_type": "code",
   "execution_count": 160,
   "metadata": {},
   "outputs": [],
   "source": [
    "##Top 100 customers by the mean of their travel distance, showcased above"
   ]
  },
  {
   "cell_type": "code",
   "execution_count": 161,
   "metadata": {},
   "outputs": [
    {
     "data": {
      "text/plain": [
       "<matplotlib.axes._subplots.AxesSubplot at 0x21b11613808>"
      ]
     },
     "execution_count": 161,
     "metadata": {},
     "output_type": "execute_result"
    },
    {
     "data": {
      "image/png": "[encoded data removed]",
      "text/plain": [
       "<Figure size 1440x720 with 1 Axes>"
      ]
     },
     "metadata": {
      "needs_background": "light"
     },
     "output_type": "display_data"
    }
   ],
   "source": [
    "df.groupby('customer_id').agg({'travel_distance':'mean'}).sort_values(by='travel_distance',ascending=True).head(100).plot.bar(figsize=(20,10))"
   ]
  },
  {
   "cell_type": "code",
   "execution_count": 162,
   "metadata": {},
   "outputs": [],
   "source": [
    "#Bottom 100 customers by the mean of their travel distance, showcased above"
   ]
  },
  {
   "cell_type": "code",
   "execution_count": 163,
   "metadata": {},
   "outputs": [],
   "source": [
    "##So, we notice that one customer has traveled a mean distance of -1. Now, this could mean two things: Either the data was entered\n",
    "#incorrectly, or else the customer travelled in the wrong direction(opposite to the one shown in the map) for 1 KM\n",
    "##It could actually mean other things as well, but at this moment, we can understand that something did go wrong with this\n",
    "#customer\n",
    "##And the other customers who have not traveled at all, have traveled distance as 0. But, again, these customers do have\n",
    "#co-ordinates in the data, which means that they have surely booked rides, and then cancelled them\n",
    "#so, again an insight to note, that quite a few customers have cancelled rides, which is not a good sign.\n",
    "##These users again become a target, for promoting offers, so that they start travelling"
   ]
  },
  {
   "cell_type": "code",
   "execution_count": 164,
   "metadata": {},
   "outputs": [
    {
     "data": {
      "text/plain": [
       "<matplotlib.axes._subplots.AxesSubplot at 0x21b115a2cc8>"
      ]
     },
     "execution_count": 164,
     "metadata": {},
     "output_type": "execute_result"
    },
    {
     "data": {
      "image/png": "[encoded data removed]",
      "text/plain": [
       "<Figure size 1440x720 with 1 Axes>"
      ]
     },
     "metadata": {
      "needs_background": "light"
     },
     "output_type": "display_data"
    }
   ],
   "source": [
    "df.groupby('customer_id').agg({'travel_time':'mean'}).sort_values(by='travel_time',ascending=False).head(100).plot.bar(figsize=(20,10))"
   ]
  },
  {
   "cell_type": "code",
   "execution_count": 165,
   "metadata": {},
   "outputs": [
    {
     "data": {
      "text/html": [
       "<div>\n",
       "<style scoped>\n",
       "    .dataframe tbody tr th:only-of-type {\n",
       "        vertical-align: middle;\n",
       "    }\n",
       "\n",
       "    .dataframe tbody tr th {\n",
       "        vertical-align: top;\n",
       "    }\n",
       "\n",
       "    .dataframe thead th {\n",
       "        text-align: right;\n",
       "    }\n",
       "</style>\n",
       "<table border=\"1\" class=\"dataframe\">\n",
       "  <thead>\n",
       "    <tr style=\"text-align: right;\">\n",
       "      <th></th>\n",
       "      <th>travel_distance</th>\n",
       "      <th>travel_time</th>\n",
       "      <th>trip_fare</th>\n",
       "    </tr>\n",
       "  </thead>\n",
       "  <tbody>\n",
       "    <tr>\n",
       "      <td>travel_distance</td>\n",
       "      <td>1.000000</td>\n",
       "      <td>0.371180</td>\n",
       "      <td>0.889397</td>\n",
       "    </tr>\n",
       "    <tr>\n",
       "      <td>travel_time</td>\n",
       "      <td>0.371180</td>\n",
       "      <td>1.000000</td>\n",
       "      <td>0.345552</td>\n",
       "    </tr>\n",
       "    <tr>\n",
       "      <td>trip_fare</td>\n",
       "      <td>0.889397</td>\n",
       "      <td>0.345552</td>\n",
       "      <td>1.000000</td>\n",
       "    </tr>\n",
       "  </tbody>\n",
       "</table>\n",
       "</div>"
      ],
      "text/plain": [
       "                 travel_distance  travel_time  trip_fare\n",
       "travel_distance         1.000000     0.371180   0.889397\n",
       "travel_time             0.371180     1.000000   0.345552\n",
       "trip_fare               0.889397     0.345552   1.000000"
      ]
     },
     "execution_count": 165,
     "metadata": {},
     "output_type": "execute_result"
    }
   ],
   "source": [
    "df[['travel_distance','travel_time','trip_fare']].corr()  ##Checking correlation among numeric variables"
   ]
  },
  {
   "cell_type": "code",
   "execution_count": 166,
   "metadata": {},
   "outputs": [
    {
     "data": {
      "image/png": "[encoded data removed]",
      "text/plain": [
       "<Figure size 720x360 with 2 Axes>"
      ]
     },
     "metadata": {
      "needs_background": "light"
     },
     "output_type": "display_data"
    }
   ],
   "source": [
    "plt.figure(figsize=(10,5))\n",
    "sns.heatmap(df[['travel_distance','travel_time','trip_fare']].corr(),annot=True)\n",
    "plt.show()"
   ]
  },
  {
   "cell_type": "code",
   "execution_count": 167,
   "metadata": {},
   "outputs": [],
   "source": [
    "##We see that quite obviously, travel distance and trip fare are very much correlated to each other"
   ]
  },
  {
   "cell_type": "code",
   "execution_count": 168,
   "metadata": {},
   "outputs": [
    {
     "data": {
      "image/png": "[encoded data removed]",
      "text/plain": [
       "<Figure size 720x360 with 2 Axes>"
      ]
     },
     "metadata": {
      "needs_background": "light"
     },
     "output_type": "display_data"
    }
   ],
   "source": [
    "plt.figure(figsize=(10,5))\n",
    "sns.heatmap(df[['pick_lat','pick_lng','drop_lat','drop_lng']].corr(),annot=True)\n",
    "plt.show()"
   ]
  },
  {
   "cell_type": "code",
   "execution_count": 169,
   "metadata": {},
   "outputs": [],
   "source": [
    "##We do see correlation among latitudes and longitudes, which is again very obvious because latitudes and longitudes are\n",
    "#used to measure the position of the vehicle/person"
   ]
  },
  {
   "cell_type": "code",
   "execution_count": 332,
   "metadata": {},
   "outputs": [
    {
     "data": {
      "text/html": [
       "<div>\n",
       "<style scoped>\n",
       "    .dataframe tbody tr th:only-of-type {\n",
       "        vertical-align: middle;\n",
       "    }\n",
       "\n",
       "    .dataframe tbody tr th {\n",
       "        vertical-align: top;\n",
       "    }\n",
       "\n",
       "    .dataframe thead th {\n",
       "        text-align: right;\n",
       "    }\n",
       "</style>\n",
       "<table border=\"1\" class=\"dataframe\">\n",
       "  <thead>\n",
       "    <tr style=\"text-align: right;\">\n",
       "      <th></th>\n",
       "      <th>trip_id</th>\n",
       "      <th>customer_id</th>\n",
       "      <th>timestamp</th>\n",
       "      <th>pick_lat</th>\n",
       "      <th>pick_lng</th>\n",
       "      <th>drop_lat</th>\n",
       "      <th>drop_lng</th>\n",
       "      <th>travel_distance</th>\n",
       "      <th>travel_time</th>\n",
       "      <th>trip_fare</th>\n",
       "    </tr>\n",
       "  </thead>\n",
       "  <tbody>\n",
       "    <tr>\n",
       "      <td>0</td>\n",
       "      <td>ID001</td>\n",
       "      <td>CUST_001</td>\n",
       "      <td>1546709270211</td>\n",
       "      <td>17.442705</td>\n",
       "      <td>78.387878</td>\n",
       "      <td>17.457829</td>\n",
       "      <td>78.399056</td>\n",
       "      <td>2.806</td>\n",
       "      <td>12.609667</td>\n",
       "      <td>37</td>\n",
       "    </tr>\n",
       "    <tr>\n",
       "      <td>1</td>\n",
       "      <td>ID002</td>\n",
       "      <td>CUST_002</td>\n",
       "      <td>1546709309524</td>\n",
       "      <td>17.490189</td>\n",
       "      <td>78.415512</td>\n",
       "      <td>17.450548</td>\n",
       "      <td>78.367294</td>\n",
       "      <td>11.991</td>\n",
       "      <td>24.075200</td>\n",
       "      <td>119</td>\n",
       "    </tr>\n",
       "    <tr>\n",
       "      <td>2</td>\n",
       "      <td>ID003</td>\n",
       "      <td>CUST_003</td>\n",
       "      <td>1546709331857</td>\n",
       "      <td>17.370108</td>\n",
       "      <td>78.515045</td>\n",
       "      <td>17.377041</td>\n",
       "      <td>78.517921</td>\n",
       "      <td>1.322</td>\n",
       "      <td>8.708300</td>\n",
       "      <td>27</td>\n",
       "    </tr>\n",
       "    <tr>\n",
       "      <td>3</td>\n",
       "      <td>ID004</td>\n",
       "      <td>CUST_004</td>\n",
       "      <td>1546709358403</td>\n",
       "      <td>17.439314</td>\n",
       "      <td>78.443001</td>\n",
       "      <td>17.397131</td>\n",
       "      <td>78.516586</td>\n",
       "      <td>11.822</td>\n",
       "      <td>24.037550</td>\n",
       "      <td>121</td>\n",
       "    </tr>\n",
       "    <tr>\n",
       "      <td>4</td>\n",
       "      <td>ID005</td>\n",
       "      <td>CUST_005</td>\n",
       "      <td>1546709386884</td>\n",
       "      <td>17.432325</td>\n",
       "      <td>78.381966</td>\n",
       "      <td>17.401625</td>\n",
       "      <td>78.400032</td>\n",
       "      <td>6.978</td>\n",
       "      <td>16.120867</td>\n",
       "      <td>58</td>\n",
       "    </tr>\n",
       "  </tbody>\n",
       "</table>\n",
       "</div>"
      ],
      "text/plain": [
       "  trip_id customer_id      timestamp   pick_lat   pick_lng   drop_lat  \\\n",
       "0   ID001    CUST_001  1546709270211  17.442705  78.387878  17.457829   \n",
       "1   ID002    CUST_002  1546709309524  17.490189  78.415512  17.450548   \n",
       "2   ID003    CUST_003  1546709331857  17.370108  78.515045  17.377041   \n",
       "3   ID004    CUST_004  1546709358403  17.439314  78.443001  17.397131   \n",
       "4   ID005    CUST_005  1546709386884  17.432325  78.381966  17.401625   \n",
       "\n",
       "    drop_lng  travel_distance  travel_time  trip_fare  \n",
       "0  78.399056            2.806    12.609667         37  \n",
       "1  78.367294           11.991    24.075200        119  \n",
       "2  78.517921            1.322     8.708300         27  \n",
       "3  78.516586           11.822    24.037550        121  \n",
       "4  78.400032            6.978    16.120867         58  "
      ]
     },
     "execution_count": 332,
     "metadata": {},
     "output_type": "execute_result"
    }
   ],
   "source": [
    "df.head()"
   ]
  },
  {
   "cell_type": "code",
   "execution_count": 333,
   "metadata": {},
   "outputs": [],
   "source": [
    "dfcopy = df"
   ]
  },
  {
   "cell_type": "code",
   "execution_count": 334,
   "metadata": {},
   "outputs": [],
   "source": [
    "import time\n",
    "import datetime\n",
    "from datetime import timedelta\n",
    "dfcopy['timestamp'] = dfcopy['timestamp'].apply(lambda d: time.strftime('%m/%d/%Y %H:%M:%S',  time.gmtime(d/1000.)))"
   ]
  },
  {
   "cell_type": "code",
   "execution_count": 336,
   "metadata": {},
   "outputs": [
    {
     "data": {
      "text/html": [
       "<div>\n",
       "<style scoped>\n",
       "    .dataframe tbody tr th:only-of-type {\n",
       "        vertical-align: middle;\n",
       "    }\n",
       "\n",
       "    .dataframe tbody tr th {\n",
       "        vertical-align: top;\n",
       "    }\n",
       "\n",
       "    .dataframe thead th {\n",
       "        text-align: right;\n",
       "    }\n",
       "</style>\n",
       "<table border=\"1\" class=\"dataframe\">\n",
       "  <thead>\n",
       "    <tr style=\"text-align: right;\">\n",
       "      <th></th>\n",
       "      <th>trip_id</th>\n",
       "      <th>customer_id</th>\n",
       "      <th>timestamp</th>\n",
       "      <th>pick_lat</th>\n",
       "      <th>pick_lng</th>\n",
       "      <th>drop_lat</th>\n",
       "      <th>drop_lng</th>\n",
       "      <th>travel_distance</th>\n",
       "      <th>travel_time</th>\n",
       "      <th>trip_fare</th>\n",
       "    </tr>\n",
       "  </thead>\n",
       "  <tbody>\n",
       "    <tr>\n",
       "      <td>0</td>\n",
       "      <td>ID001</td>\n",
       "      <td>CUST_001</td>\n",
       "      <td>01/05/2019 17:27:50</td>\n",
       "      <td>17.442705</td>\n",
       "      <td>78.387878</td>\n",
       "      <td>17.457829</td>\n",
       "      <td>78.399056</td>\n",
       "      <td>2.806</td>\n",
       "      <td>12.609667</td>\n",
       "      <td>37</td>\n",
       "    </tr>\n",
       "    <tr>\n",
       "      <td>1</td>\n",
       "      <td>ID002</td>\n",
       "      <td>CUST_002</td>\n",
       "      <td>01/05/2019 17:28:29</td>\n",
       "      <td>17.490189</td>\n",
       "      <td>78.415512</td>\n",
       "      <td>17.450548</td>\n",
       "      <td>78.367294</td>\n",
       "      <td>11.991</td>\n",
       "      <td>24.075200</td>\n",
       "      <td>119</td>\n",
       "    </tr>\n",
       "    <tr>\n",
       "      <td>2</td>\n",
       "      <td>ID003</td>\n",
       "      <td>CUST_003</td>\n",
       "      <td>01/05/2019 17:28:51</td>\n",
       "      <td>17.370108</td>\n",
       "      <td>78.515045</td>\n",
       "      <td>17.377041</td>\n",
       "      <td>78.517921</td>\n",
       "      <td>1.322</td>\n",
       "      <td>8.708300</td>\n",
       "      <td>27</td>\n",
       "    </tr>\n",
       "    <tr>\n",
       "      <td>3</td>\n",
       "      <td>ID004</td>\n",
       "      <td>CUST_004</td>\n",
       "      <td>01/05/2019 17:29:18</td>\n",
       "      <td>17.439314</td>\n",
       "      <td>78.443001</td>\n",
       "      <td>17.397131</td>\n",
       "      <td>78.516586</td>\n",
       "      <td>11.822</td>\n",
       "      <td>24.037550</td>\n",
       "      <td>121</td>\n",
       "    </tr>\n",
       "    <tr>\n",
       "      <td>4</td>\n",
       "      <td>ID005</td>\n",
       "      <td>CUST_005</td>\n",
       "      <td>01/05/2019 17:29:46</td>\n",
       "      <td>17.432325</td>\n",
       "      <td>78.381966</td>\n",
       "      <td>17.401625</td>\n",
       "      <td>78.400032</td>\n",
       "      <td>6.978</td>\n",
       "      <td>16.120867</td>\n",
       "      <td>58</td>\n",
       "    </tr>\n",
       "  </tbody>\n",
       "</table>\n",
       "</div>"
      ],
      "text/plain": [
       "  trip_id customer_id            timestamp   pick_lat   pick_lng   drop_lat  \\\n",
       "0   ID001    CUST_001  01/05/2019 17:27:50  17.442705  78.387878  17.457829   \n",
       "1   ID002    CUST_002  01/05/2019 17:28:29  17.490189  78.415512  17.450548   \n",
       "2   ID003    CUST_003  01/05/2019 17:28:51  17.370108  78.515045  17.377041   \n",
       "3   ID004    CUST_004  01/05/2019 17:29:18  17.439314  78.443001  17.397131   \n",
       "4   ID005    CUST_005  01/05/2019 17:29:46  17.432325  78.381966  17.401625   \n",
       "\n",
       "    drop_lng  travel_distance  travel_time  trip_fare  \n",
       "0  78.399056            2.806    12.609667         37  \n",
       "1  78.367294           11.991    24.075200        119  \n",
       "2  78.517921            1.322     8.708300         27  \n",
       "3  78.516586           11.822    24.037550        121  \n",
       "4  78.400032            6.978    16.120867         58  "
      ]
     },
     "execution_count": 336,
     "metadata": {},
     "output_type": "execute_result"
    }
   ],
   "source": [
    "dfcopy.head()"
   ]
  },
  {
   "cell_type": "code",
   "execution_count": 335,
   "metadata": {},
   "outputs": [
    {
     "data": {
      "image/png": "[encoded data removed]",
      "text/plain": [
       "<Figure size 1260x1260 with 56 Axes>"
      ]
     },
     "metadata": {
      "needs_background": "light"
     },
     "output_type": "display_data"
    }
   ],
   "source": [
    "sns.pairplot(data=dfcopy)\n",
    "plt.show()"
   ]
  },
  {
   "cell_type": "code",
   "execution_count": null,
   "metadata": {},
   "outputs": [],
   "source": [
    "##So, if we see the last row, we can understand that the trip fare does not depend on the pick location, but trip fare\n",
    "#does depend on travel distance, but not travel time (which is a good thing for customers in busy citis with lots of traffic\n",
    "#since they won't have to pay more for spending time in the traffic)\n",
    "##Travel distance does not depend on pick and drop locations in any way, since we do see a properly spread cluster of values in\n",
    "#the scatterplot, and this is quite obvious in a real life perspective\n",
    "#Latitude VS Longitude scatterplot is not much interpretable at this moment(since it would be better to check it out\n",
    "#on a map, but of course the spread of values in the plot is what shows that trips are being taken all across the city/country\n",
    "#and not just in some specific location--of course, there might be ceratin areas where trips might be more, and we'll check\n",
    "#that out using clustering)"
   ]
  },
  {
   "cell_type": "code",
   "execution_count": 339,
   "metadata": {},
   "outputs": [
    {
     "data": {
      "text/plain": [
       "Index(['pick_lat', 'pick_lng', 'drop_lat', 'drop_lng', 'travel_distance',\n",
       "       'travel_time', 'trip_fare'],\n",
       "      dtype='object')"
      ]
     },
     "execution_count": 339,
     "metadata": {},
     "output_type": "execute_result"
    }
   ],
   "source": [
    "dfcopy.dtypes[dfcopy.dtypes!=object].index"
   ]
  },
  {
   "cell_type": "code",
   "execution_count": 340,
   "metadata": {},
   "outputs": [
    {
     "data": {
      "image/png": "[encoded data removed]",
      "text/plain": [
       "<Figure size 432x288 with 1 Axes>"
      ]
     },
     "metadata": {
      "needs_background": "light"
     },
     "output_type": "display_data"
    },
    {
     "data": {
      "image/png": "[encoded data removed]",
      "text/plain": [
       "<Figure size 432x288 with 1 Axes>"
      ]
     },
     "metadata": {
      "needs_background": "light"
     },
     "output_type": "display_data"
    },
    {
     "data": {
      "image/png": "[encoded data removed]",
      "text/plain": [
       "<Figure size 432x288 with 1 Axes>"
      ]
     },
     "metadata": {
      "needs_background": "light"
     },
     "output_type": "display_data"
    },
    {
     "data": {
      "image/png": "[encoded data removed]",
      "text/plain": [
       "<Figure size 432x288 with 1 Axes>"
      ]
     },
     "metadata": {
      "needs_background": "light"
     },
     "output_type": "display_data"
    },
    {
     "data": {
      "image/png": "[encoded data removed]",
      "text/plain": [
       "<Figure size 432x288 with 1 Axes>"
      ]
     },
     "metadata": {
      "needs_background": "light"
     },
     "output_type": "display_data"
    },
    {
     "data": {
      "image/png": "[encoded data removed]",
      "text/plain": [
       "<Figure size 432x288 with 1 Axes>"
      ]
     },
     "metadata": {
      "needs_background": "light"
     },
     "output_type": "display_data"
    },
    {
     "data": {
      "image/png": "[encoded data removed]",
      "text/plain": [
       "<Figure size 432x288 with 1 Axes>"
      ]
     },
     "metadata": {
      "needs_background": "light"
     },
     "output_type": "display_data"
    }
   ],
   "source": [
    "for i in dfcopy.dtypes[dfcopy.dtypes!=object].index:\n",
    "    sns.boxplot(df[i])\n",
    "    plt.show()"
   ]
  },
  {
   "cell_type": "code",
   "execution_count": null,
   "metadata": {},
   "outputs": [],
   "source": [
    "##Latitudes and longitudes are definitely bound to have outliers, because there would be people taking trips from remote\n",
    "#areas of the city, almost everyday, but the number of those people would be very less, which is acceptable, and hence these\n",
    "#outliers are still important for our predictions then\n",
    "##Travel distance also sees a lot of outiers, particularly above the upper whisker, which could definitely signify that\n",
    "#certain people do prefer to take trips only when they have to travel to a very far off place, or let's say if they are late,\n",
    "#and they feel like they won't be able to make it in time to the far off place--this could be one of the many insights"
   ]
  },
  {
   "cell_type": "code",
   "execution_count": 350,
   "metadata": {},
   "outputs": [
    {
     "data": {
      "text/plain": [
       "array(['2019'], dtype=object)"
      ]
     },
     "execution_count": 350,
     "metadata": {},
     "output_type": "execute_result"
    }
   ],
   "source": [
    "dfcopy['timestamp'].apply(lambda d: str(d)[6:10]).unique()"
   ]
  },
  {
   "cell_type": "code",
   "execution_count": 353,
   "metadata": {},
   "outputs": [],
   "source": [
    "##So, we see we have data only for 2019 at the moment. If we had had data for other years as well, I would have created\n",
    "#a column for year too, for analyzing it through the years\n",
    "##For now, let's check the months:\n",
    "dfcopy['month'] = dfcopy['timestamp'].apply(lambda d: str(d)[3:5])"
   ]
  },
  {
   "cell_type": "code",
   "execution_count": 354,
   "metadata": {},
   "outputs": [
    {
     "data": {
      "text/html": [
       "<div>\n",
       "<style scoped>\n",
       "    .dataframe tbody tr th:only-of-type {\n",
       "        vertical-align: middle;\n",
       "    }\n",
       "\n",
       "    .dataframe tbody tr th {\n",
       "        vertical-align: top;\n",
       "    }\n",
       "\n",
       "    .dataframe thead th {\n",
       "        text-align: right;\n",
       "    }\n",
       "</style>\n",
       "<table border=\"1\" class=\"dataframe\">\n",
       "  <thead>\n",
       "    <tr style=\"text-align: right;\">\n",
       "      <th></th>\n",
       "      <th>trip_id</th>\n",
       "      <th>customer_id</th>\n",
       "      <th>timestamp</th>\n",
       "      <th>pick_lat</th>\n",
       "      <th>pick_lng</th>\n",
       "      <th>drop_lat</th>\n",
       "      <th>drop_lng</th>\n",
       "      <th>travel_distance</th>\n",
       "      <th>travel_time</th>\n",
       "      <th>trip_fare</th>\n",
       "      <th>month</th>\n",
       "    </tr>\n",
       "  </thead>\n",
       "  <tbody>\n",
       "    <tr>\n",
       "      <td>0</td>\n",
       "      <td>ID001</td>\n",
       "      <td>CUST_001</td>\n",
       "      <td>01/05/2019 17:27:50</td>\n",
       "      <td>17.442705</td>\n",
       "      <td>78.387878</td>\n",
       "      <td>17.457829</td>\n",
       "      <td>78.399056</td>\n",
       "      <td>2.806</td>\n",
       "      <td>12.609667</td>\n",
       "      <td>37</td>\n",
       "      <td>05</td>\n",
       "    </tr>\n",
       "    <tr>\n",
       "      <td>1</td>\n",
       "      <td>ID002</td>\n",
       "      <td>CUST_002</td>\n",
       "      <td>01/05/2019 17:28:29</td>\n",
       "      <td>17.490189</td>\n",
       "      <td>78.415512</td>\n",
       "      <td>17.450548</td>\n",
       "      <td>78.367294</td>\n",
       "      <td>11.991</td>\n",
       "      <td>24.075200</td>\n",
       "      <td>119</td>\n",
       "      <td>05</td>\n",
       "    </tr>\n",
       "    <tr>\n",
       "      <td>2</td>\n",
       "      <td>ID003</td>\n",
       "      <td>CUST_003</td>\n",
       "      <td>01/05/2019 17:28:51</td>\n",
       "      <td>17.370108</td>\n",
       "      <td>78.515045</td>\n",
       "      <td>17.377041</td>\n",
       "      <td>78.517921</td>\n",
       "      <td>1.322</td>\n",
       "      <td>8.708300</td>\n",
       "      <td>27</td>\n",
       "      <td>05</td>\n",
       "    </tr>\n",
       "    <tr>\n",
       "      <td>3</td>\n",
       "      <td>ID004</td>\n",
       "      <td>CUST_004</td>\n",
       "      <td>01/05/2019 17:29:18</td>\n",
       "      <td>17.439314</td>\n",
       "      <td>78.443001</td>\n",
       "      <td>17.397131</td>\n",
       "      <td>78.516586</td>\n",
       "      <td>11.822</td>\n",
       "      <td>24.037550</td>\n",
       "      <td>121</td>\n",
       "      <td>05</td>\n",
       "    </tr>\n",
       "    <tr>\n",
       "      <td>4</td>\n",
       "      <td>ID005</td>\n",
       "      <td>CUST_005</td>\n",
       "      <td>01/05/2019 17:29:46</td>\n",
       "      <td>17.432325</td>\n",
       "      <td>78.381966</td>\n",
       "      <td>17.401625</td>\n",
       "      <td>78.400032</td>\n",
       "      <td>6.978</td>\n",
       "      <td>16.120867</td>\n",
       "      <td>58</td>\n",
       "      <td>05</td>\n",
       "    </tr>\n",
       "  </tbody>\n",
       "</table>\n",
       "</div>"
      ],
      "text/plain": [
       "  trip_id customer_id            timestamp   pick_lat   pick_lng   drop_lat  \\\n",
       "0   ID001    CUST_001  01/05/2019 17:27:50  17.442705  78.387878  17.457829   \n",
       "1   ID002    CUST_002  01/05/2019 17:28:29  17.490189  78.415512  17.450548   \n",
       "2   ID003    CUST_003  01/05/2019 17:28:51  17.370108  78.515045  17.377041   \n",
       "3   ID004    CUST_004  01/05/2019 17:29:18  17.439314  78.443001  17.397131   \n",
       "4   ID005    CUST_005  01/05/2019 17:29:46  17.432325  78.381966  17.401625   \n",
       "\n",
       "    drop_lng  travel_distance  travel_time  trip_fare month  \n",
       "0  78.399056            2.806    12.609667         37    05  \n",
       "1  78.367294           11.991    24.075200        119    05  \n",
       "2  78.517921            1.322     8.708300         27    05  \n",
       "3  78.516586           11.822    24.037550        121    05  \n",
       "4  78.400032            6.978    16.120867         58    05  "
      ]
     },
     "execution_count": 354,
     "metadata": {},
     "output_type": "execute_result"
    }
   ],
   "source": [
    "dfcopy.head()"
   ]
  },
  {
   "cell_type": "code",
   "execution_count": 361,
   "metadata": {},
   "outputs": [
    {
     "data": {
      "text/html": [
       "<div>\n",
       "<style scoped>\n",
       "    .dataframe tbody tr th:only-of-type {\n",
       "        vertical-align: middle;\n",
       "    }\n",
       "\n",
       "    .dataframe tbody tr th {\n",
       "        vertical-align: top;\n",
       "    }\n",
       "\n",
       "    .dataframe thead th {\n",
       "        text-align: right;\n",
       "    }\n",
       "</style>\n",
       "<table border=\"1\" class=\"dataframe\">\n",
       "  <thead>\n",
       "    <tr style=\"text-align: right;\">\n",
       "      <th></th>\n",
       "      <th></th>\n",
       "      <th>trip_id</th>\n",
       "    </tr>\n",
       "    <tr>\n",
       "      <th>customer_id</th>\n",
       "      <th>month</th>\n",
       "      <th></th>\n",
       "    </tr>\n",
       "  </thead>\n",
       "  <tbody>\n",
       "    <tr>\n",
       "      <td rowspan=\"4\" valign=\"top\">CUST_279</td>\n",
       "      <td>06</td>\n",
       "      <td>13</td>\n",
       "    </tr>\n",
       "    <tr>\n",
       "      <td>02</td>\n",
       "      <td>9</td>\n",
       "    </tr>\n",
       "    <tr>\n",
       "      <td>03</td>\n",
       "      <td>9</td>\n",
       "    </tr>\n",
       "    <tr>\n",
       "      <td>04</td>\n",
       "      <td>9</td>\n",
       "    </tr>\n",
       "    <tr>\n",
       "      <td>CUST_9356</td>\n",
       "      <td>02</td>\n",
       "      <td>8</td>\n",
       "    </tr>\n",
       "    <tr>\n",
       "      <td>CUST_6169</td>\n",
       "      <td>04</td>\n",
       "      <td>7</td>\n",
       "    </tr>\n",
       "    <tr>\n",
       "      <td>CUST_1120</td>\n",
       "      <td>05</td>\n",
       "      <td>7</td>\n",
       "    </tr>\n",
       "    <tr>\n",
       "      <td>CUST_232</td>\n",
       "      <td>02</td>\n",
       "      <td>7</td>\n",
       "    </tr>\n",
       "    <tr>\n",
       "      <td>CUST_279</td>\n",
       "      <td>07</td>\n",
       "      <td>7</td>\n",
       "    </tr>\n",
       "    <tr>\n",
       "      <td>CUST_746</td>\n",
       "      <td>05</td>\n",
       "      <td>6</td>\n",
       "    </tr>\n",
       "    <tr>\n",
       "      <td>CUST_2103</td>\n",
       "      <td>02</td>\n",
       "      <td>6</td>\n",
       "    </tr>\n",
       "    <tr>\n",
       "      <td>CUST_2999</td>\n",
       "      <td>05</td>\n",
       "      <td>6</td>\n",
       "    </tr>\n",
       "    <tr>\n",
       "      <td>CUST_2280</td>\n",
       "      <td>07</td>\n",
       "      <td>6</td>\n",
       "    </tr>\n",
       "    <tr>\n",
       "      <td>CUST_6871</td>\n",
       "      <td>04</td>\n",
       "      <td>6</td>\n",
       "    </tr>\n",
       "    <tr>\n",
       "      <td>CUST_605</td>\n",
       "      <td>04</td>\n",
       "      <td>6</td>\n",
       "    </tr>\n",
       "    <tr>\n",
       "      <td>CUST_11480</td>\n",
       "      <td>03</td>\n",
       "      <td>6</td>\n",
       "    </tr>\n",
       "    <tr>\n",
       "      <td>CUST_14881</td>\n",
       "      <td>05</td>\n",
       "      <td>6</td>\n",
       "    </tr>\n",
       "    <tr>\n",
       "      <td>CUST_5839</td>\n",
       "      <td>05</td>\n",
       "      <td>6</td>\n",
       "    </tr>\n",
       "    <tr>\n",
       "      <td>CUST_10441</td>\n",
       "      <td>02</td>\n",
       "      <td>6</td>\n",
       "    </tr>\n",
       "    <tr>\n",
       "      <td>CUST_6583</td>\n",
       "      <td>03</td>\n",
       "      <td>6</td>\n",
       "    </tr>\n",
       "  </tbody>\n",
       "</table>\n",
       "</div>"
      ],
      "text/plain": [
       "                   trip_id\n",
       "customer_id month         \n",
       "CUST_279    06          13\n",
       "            02           9\n",
       "            03           9\n",
       "            04           9\n",
       "CUST_9356   02           8\n",
       "CUST_6169   04           7\n",
       "CUST_1120   05           7\n",
       "CUST_232    02           7\n",
       "CUST_279    07           7\n",
       "CUST_746    05           6\n",
       "CUST_2103   02           6\n",
       "CUST_2999   05           6\n",
       "CUST_2280   07           6\n",
       "CUST_6871   04           6\n",
       "CUST_605    04           6\n",
       "CUST_11480  03           6\n",
       "CUST_14881  05           6\n",
       "CUST_5839   05           6\n",
       "CUST_10441  02           6\n",
       "CUST_6583   03           6"
      ]
     },
     "execution_count": 361,
     "metadata": {},
     "output_type": "execute_result"
    }
   ],
   "source": [
    "df.groupby(['customer_id','month']).agg({'trip_id':'count'}).sort_values(by='trip_id',ascending=False).head(20)"
   ]
  },
  {
   "cell_type": "code",
   "execution_count": 362,
   "metadata": {},
   "outputs": [],
   "source": [
    "##Above we can see that our top customers have travelled in which month, and how many trips they have taken in that month"
   ]
  },
  {
   "cell_type": "code",
   "execution_count": 367,
   "metadata": {},
   "outputs": [
    {
     "data": {
      "text/plain": [
       "<matplotlib.axes._subplots.AxesSubplot at 0x21b222c9ac8>"
      ]
     },
     "execution_count": 367,
     "metadata": {},
     "output_type": "execute_result"
    },
    {
     "data": {
      "image/png": "[encoded data removed]",
      "text/plain": [
       "<Figure size 432x288 with 1 Axes>"
      ]
     },
     "metadata": {
      "needs_background": "light"
     },
     "output_type": "display_data"
    }
   ],
   "source": [
    "df.groupby('month').agg({'trip_id':'count'}).plot()"
   ]
  },
  {
   "cell_type": "code",
   "execution_count": null,
   "metadata": {},
   "outputs": [],
   "source": [
    "##Above we can see the trend analysis of trips across months in the year 2019\n",
    "##Trips shot up from January to February (which gives us an insight to work upon offers, etc. in January)\n",
    "##and of course, if people are travelling extensively in February, we can try to cool down on the offers(since people are\n",
    "#already willing to travel much in this period--based on the trend)\n",
    "##Trips started falling in April and came to the lowest in June, but then again shot up in July\n",
    "##Again, it is very much possible that new offers were introduced in these months, which caused the trips to shoot up, or maybe\n",
    "##like based on the weather conditions in February, people started taking more rides\n",
    "##July is again a part of monsoon, so heavy rains could be a reason for trips shooting up. There could be many such reasons\n",
    "#which we can analyze based on which locations the data was collected from and what were the social, economic and weather\n",
    "#conditions in that area at the period of time which is being analyzed"
   ]
  },
  {
   "cell_type": "raw",
   "metadata": {},
   "source": [
    "Part 2. Metric calculation\n",
    "What is the average duration between the 1st trip and the 2nd trip of customers? Note: Consider only the customers who have done 2 or more trips.\n"
   ]
  },
  {
   "cell_type": "code",
   "execution_count": 171,
   "metadata": {},
   "outputs": [
    {
     "data": {
      "text/html": [
       "<div>\n",
       "<style scoped>\n",
       "    .dataframe tbody tr th:only-of-type {\n",
       "        vertical-align: middle;\n",
       "    }\n",
       "\n",
       "    .dataframe tbody tr th {\n",
       "        vertical-align: top;\n",
       "    }\n",
       "\n",
       "    .dataframe thead th {\n",
       "        text-align: right;\n",
       "    }\n",
       "</style>\n",
       "<table border=\"1\" class=\"dataframe\">\n",
       "  <thead>\n",
       "    <tr style=\"text-align: right;\">\n",
       "      <th></th>\n",
       "      <th>trip_id</th>\n",
       "      <th>customer_id</th>\n",
       "      <th>timestamp</th>\n",
       "      <th>pick_lat</th>\n",
       "      <th>pick_lng</th>\n",
       "      <th>drop_lat</th>\n",
       "      <th>drop_lng</th>\n",
       "      <th>travel_distance</th>\n",
       "      <th>travel_time</th>\n",
       "      <th>trip_fare</th>\n",
       "    </tr>\n",
       "  </thead>\n",
       "  <tbody>\n",
       "    <tr>\n",
       "      <td>0</td>\n",
       "      <td>ID001</td>\n",
       "      <td>CUST_001</td>\n",
       "      <td>1546709270211</td>\n",
       "      <td>17.442705</td>\n",
       "      <td>78.387878</td>\n",
       "      <td>17.457829</td>\n",
       "      <td>78.399056</td>\n",
       "      <td>2.806</td>\n",
       "      <td>12.609667</td>\n",
       "      <td>37</td>\n",
       "    </tr>\n",
       "    <tr>\n",
       "      <td>1</td>\n",
       "      <td>ID002</td>\n",
       "      <td>CUST_002</td>\n",
       "      <td>1546709309524</td>\n",
       "      <td>17.490189</td>\n",
       "      <td>78.415512</td>\n",
       "      <td>17.450548</td>\n",
       "      <td>78.367294</td>\n",
       "      <td>11.991</td>\n",
       "      <td>24.075200</td>\n",
       "      <td>119</td>\n",
       "    </tr>\n",
       "    <tr>\n",
       "      <td>2</td>\n",
       "      <td>ID003</td>\n",
       "      <td>CUST_003</td>\n",
       "      <td>1546709331857</td>\n",
       "      <td>17.370108</td>\n",
       "      <td>78.515045</td>\n",
       "      <td>17.377041</td>\n",
       "      <td>78.517921</td>\n",
       "      <td>1.322</td>\n",
       "      <td>8.708300</td>\n",
       "      <td>27</td>\n",
       "    </tr>\n",
       "    <tr>\n",
       "      <td>3</td>\n",
       "      <td>ID004</td>\n",
       "      <td>CUST_004</td>\n",
       "      <td>1546709358403</td>\n",
       "      <td>17.439314</td>\n",
       "      <td>78.443001</td>\n",
       "      <td>17.397131</td>\n",
       "      <td>78.516586</td>\n",
       "      <td>11.822</td>\n",
       "      <td>24.037550</td>\n",
       "      <td>121</td>\n",
       "    </tr>\n",
       "    <tr>\n",
       "      <td>4</td>\n",
       "      <td>ID005</td>\n",
       "      <td>CUST_005</td>\n",
       "      <td>1546709386884</td>\n",
       "      <td>17.432325</td>\n",
       "      <td>78.381966</td>\n",
       "      <td>17.401625</td>\n",
       "      <td>78.400032</td>\n",
       "      <td>6.978</td>\n",
       "      <td>16.120867</td>\n",
       "      <td>58</td>\n",
       "    </tr>\n",
       "  </tbody>\n",
       "</table>\n",
       "</div>"
      ],
      "text/plain": [
       "  trip_id customer_id      timestamp   pick_lat   pick_lng   drop_lat  \\\n",
       "0   ID001    CUST_001  1546709270211  17.442705  78.387878  17.457829   \n",
       "1   ID002    CUST_002  1546709309524  17.490189  78.415512  17.450548   \n",
       "2   ID003    CUST_003  1546709331857  17.370108  78.515045  17.377041   \n",
       "3   ID004    CUST_004  1546709358403  17.439314  78.443001  17.397131   \n",
       "4   ID005    CUST_005  1546709386884  17.432325  78.381966  17.401625   \n",
       "\n",
       "    drop_lng  travel_distance  travel_time  trip_fare  \n",
       "0  78.399056            2.806    12.609667         37  \n",
       "1  78.367294           11.991    24.075200        119  \n",
       "2  78.517921            1.322     8.708300         27  \n",
       "3  78.516586           11.822    24.037550        121  \n",
       "4  78.400032            6.978    16.120867         58  "
      ]
     },
     "execution_count": 171,
     "metadata": {},
     "output_type": "execute_result"
    }
   ],
   "source": [
    "df.head()"
   ]
  },
  {
   "cell_type": "code",
   "execution_count": 172,
   "metadata": {},
   "outputs": [],
   "source": [
    "dfc  = df.groupby('customer_id').agg({'trip_id':'count'}).reset_index()"
   ]
  },
  {
   "cell_type": "code",
   "execution_count": 181,
   "metadata": {},
   "outputs": [
    {
     "data": {
      "text/plain": [
       "array(['CUST_001', 'CUST_003', 'CUST_004', ..., 'CUST_9994', 'CUST_9997',\n",
       "       'CUST_9998'], dtype=object)"
      ]
     },
     "execution_count": 181,
     "metadata": {},
     "output_type": "execute_result"
    }
   ],
   "source": [
    "dfc[dfc['trip_id']>=2]['customer_id'].values"
   ]
  },
  {
   "cell_type": "code",
   "execution_count": 200,
   "metadata": {},
   "outputs": [],
   "source": [
    "dfimp = df.set_index('customer_id').loc[dfc[dfc['trip_id']>=2]['customer_id'].values].reset_index()"
   ]
  },
  {
   "cell_type": "code",
   "execution_count": 201,
   "metadata": {},
   "outputs": [
    {
     "data": {
      "text/html": [
       "<div>\n",
       "<style scoped>\n",
       "    .dataframe tbody tr th:only-of-type {\n",
       "        vertical-align: middle;\n",
       "    }\n",
       "\n",
       "    .dataframe tbody tr th {\n",
       "        vertical-align: top;\n",
       "    }\n",
       "\n",
       "    .dataframe thead th {\n",
       "        text-align: right;\n",
       "    }\n",
       "</style>\n",
       "<table border=\"1\" class=\"dataframe\">\n",
       "  <thead>\n",
       "    <tr style=\"text-align: right;\">\n",
       "      <th></th>\n",
       "      <th>customer_id</th>\n",
       "      <th>trip_id</th>\n",
       "      <th>timestamp</th>\n",
       "      <th>pick_lat</th>\n",
       "      <th>pick_lng</th>\n",
       "      <th>drop_lat</th>\n",
       "      <th>drop_lng</th>\n",
       "      <th>travel_distance</th>\n",
       "      <th>travel_time</th>\n",
       "      <th>trip_fare</th>\n",
       "    </tr>\n",
       "  </thead>\n",
       "  <tbody>\n",
       "    <tr>\n",
       "      <td>32541</td>\n",
       "      <td>CUST_8946</td>\n",
       "      <td>ID42402</td>\n",
       "      <td>1546518741034</td>\n",
       "      <td>17.435299</td>\n",
       "      <td>78.407646</td>\n",
       "      <td>17.433300</td>\n",
       "      <td>78.386146</td>\n",
       "      <td>0.626</td>\n",
       "      <td>0.022750</td>\n",
       "      <td>21</td>\n",
       "    </tr>\n",
       "    <tr>\n",
       "      <td>31852</td>\n",
       "      <td>CUST_8654</td>\n",
       "      <td>ID12669</td>\n",
       "      <td>1546603056993</td>\n",
       "      <td>17.452524</td>\n",
       "      <td>78.369995</td>\n",
       "      <td>17.454834</td>\n",
       "      <td>78.380447</td>\n",
       "      <td>0.000</td>\n",
       "      <td>0.043200</td>\n",
       "      <td>20</td>\n",
       "    </tr>\n",
       "    <tr>\n",
       "      <td>30467</td>\n",
       "      <td>CUST_806</td>\n",
       "      <td>ID22054</td>\n",
       "      <td>1546443552343</td>\n",
       "      <td>17.411129</td>\n",
       "      <td>78.483528</td>\n",
       "      <td>17.418114</td>\n",
       "      <td>78.456963</td>\n",
       "      <td>1.586</td>\n",
       "      <td>0.044133</td>\n",
       "      <td>29</td>\n",
       "    </tr>\n",
       "    <tr>\n",
       "      <td>7488</td>\n",
       "      <td>CUST_1486</td>\n",
       "      <td>ID1661</td>\n",
       "      <td>1546872491138</td>\n",
       "      <td>17.441166</td>\n",
       "      <td>78.346619</td>\n",
       "      <td>17.433927</td>\n",
       "      <td>78.384758</td>\n",
       "      <td>0.000</td>\n",
       "      <td>0.044667</td>\n",
       "      <td>20</td>\n",
       "    </tr>\n",
       "    <tr>\n",
       "      <td>30831</td>\n",
       "      <td>CUST_8218</td>\n",
       "      <td>ID21130</td>\n",
       "      <td>1546437811615</td>\n",
       "      <td>17.453932</td>\n",
       "      <td>78.365944</td>\n",
       "      <td>17.451685</td>\n",
       "      <td>78.371239</td>\n",
       "      <td>0.000</td>\n",
       "      <td>0.047017</td>\n",
       "      <td>20</td>\n",
       "    </tr>\n",
       "    <tr>\n",
       "      <td>...</td>\n",
       "      <td>...</td>\n",
       "      <td>...</td>\n",
       "      <td>...</td>\n",
       "      <td>...</td>\n",
       "      <td>...</td>\n",
       "      <td>...</td>\n",
       "      <td>...</td>\n",
       "      <td>...</td>\n",
       "      <td>...</td>\n",
       "      <td>...</td>\n",
       "    </tr>\n",
       "    <tr>\n",
       "      <td>2668</td>\n",
       "      <td>CUST_11323</td>\n",
       "      <td>ID34022</td>\n",
       "      <td>1546683655226</td>\n",
       "      <td>17.439615</td>\n",
       "      <td>78.396111</td>\n",
       "      <td>17.437134</td>\n",
       "      <td>78.443306</td>\n",
       "      <td>12.694</td>\n",
       "      <td>151.360383</td>\n",
       "      <td>134</td>\n",
       "    </tr>\n",
       "    <tr>\n",
       "      <td>33899</td>\n",
       "      <td>CUST_9608</td>\n",
       "      <td>ID42630</td>\n",
       "      <td>1546519891598</td>\n",
       "      <td>17.398933</td>\n",
       "      <td>78.484329</td>\n",
       "      <td>17.408371</td>\n",
       "      <td>78.511322</td>\n",
       "      <td>10.907</td>\n",
       "      <td>199.998283</td>\n",
       "      <td>106</td>\n",
       "    </tr>\n",
       "    <tr>\n",
       "      <td>8745</td>\n",
       "      <td>CUST_16145</td>\n",
       "      <td>ID32819</td>\n",
       "      <td>1546673001186</td>\n",
       "      <td>17.441961</td>\n",
       "      <td>78.380425</td>\n",
       "      <td>17.464079</td>\n",
       "      <td>78.351417</td>\n",
       "      <td>2.222</td>\n",
       "      <td>276.133667</td>\n",
       "      <td>34</td>\n",
       "    </tr>\n",
       "    <tr>\n",
       "      <td>24711</td>\n",
       "      <td>CUST_636</td>\n",
       "      <td>ID670</td>\n",
       "      <td>1546537665127</td>\n",
       "      <td>17.465956</td>\n",
       "      <td>78.376404</td>\n",
       "      <td>17.439905</td>\n",
       "      <td>78.376053</td>\n",
       "      <td>11.330</td>\n",
       "      <td>467.443383</td>\n",
       "      <td>113</td>\n",
       "    </tr>\n",
       "    <tr>\n",
       "      <td>34306</td>\n",
       "      <td>CUST_9834</td>\n",
       "      <td>ID15079</td>\n",
       "      <td>1546372237662</td>\n",
       "      <td>17.431397</td>\n",
       "      <td>78.438911</td>\n",
       "      <td>17.434099</td>\n",
       "      <td>78.404922</td>\n",
       "      <td>0.000</td>\n",
       "      <td>473.183900</td>\n",
       "      <td>20</td>\n",
       "    </tr>\n",
       "  </tbody>\n",
       "</table>\n",
       "<p>34578 rows × 10 columns</p>\n",
       "</div>"
      ],
      "text/plain": [
       "      customer_id  trip_id      timestamp   pick_lat   pick_lng   drop_lat  \\\n",
       "32541   CUST_8946  ID42402  1546518741034  17.435299  78.407646  17.433300   \n",
       "31852   CUST_8654  ID12669  1546603056993  17.452524  78.369995  17.454834   \n",
       "30467    CUST_806  ID22054  1546443552343  17.411129  78.483528  17.418114   \n",
       "7488    CUST_1486   ID1661  1546872491138  17.441166  78.346619  17.433927   \n",
       "30831   CUST_8218  ID21130  1546437811615  17.453932  78.365944  17.451685   \n",
       "...           ...      ...            ...        ...        ...        ...   \n",
       "2668   CUST_11323  ID34022  1546683655226  17.439615  78.396111  17.437134   \n",
       "33899   CUST_9608  ID42630  1546519891598  17.398933  78.484329  17.408371   \n",
       "8745   CUST_16145  ID32819  1546673001186  17.441961  78.380425  17.464079   \n",
       "24711    CUST_636    ID670  1546537665127  17.465956  78.376404  17.439905   \n",
       "34306   CUST_9834  ID15079  1546372237662  17.431397  78.438911  17.434099   \n",
       "\n",
       "        drop_lng  travel_distance  travel_time  trip_fare  \n",
       "32541  78.386146            0.626     0.022750         21  \n",
       "31852  78.380447            0.000     0.043200         20  \n",
       "30467  78.456963            1.586     0.044133         29  \n",
       "7488   78.384758            0.000     0.044667         20  \n",
       "30831  78.371239            0.000     0.047017         20  \n",
       "...          ...              ...          ...        ...  \n",
       "2668   78.443306           12.694   151.360383        134  \n",
       "33899  78.511322           10.907   199.998283        106  \n",
       "8745   78.351417            2.222   276.133667         34  \n",
       "24711  78.376053           11.330   467.443383        113  \n",
       "34306  78.404922            0.000   473.183900         20  \n",
       "\n",
       "[34578 rows x 10 columns]"
      ]
     },
     "execution_count": 201,
     "metadata": {},
     "output_type": "execute_result"
    }
   ],
   "source": [
    "dfimp.sort_values(by='travel_time',ascending=True)\n",
    "##To check whether the person travelled or not"
   ]
  },
  {
   "cell_type": "code",
   "execution_count": 202,
   "metadata": {},
   "outputs": [
    {
     "data": {
      "text/html": [
       "<div>\n",
       "<style scoped>\n",
       "    .dataframe tbody tr th:only-of-type {\n",
       "        vertical-align: middle;\n",
       "    }\n",
       "\n",
       "    .dataframe tbody tr th {\n",
       "        vertical-align: top;\n",
       "    }\n",
       "\n",
       "    .dataframe thead th {\n",
       "        text-align: right;\n",
       "    }\n",
       "</style>\n",
       "<table border=\"1\" class=\"dataframe\">\n",
       "  <thead>\n",
       "    <tr style=\"text-align: right;\">\n",
       "      <th></th>\n",
       "      <th>customer_id</th>\n",
       "      <th>trip_id</th>\n",
       "      <th>timestamp</th>\n",
       "      <th>pick_lat</th>\n",
       "      <th>pick_lng</th>\n",
       "      <th>drop_lat</th>\n",
       "      <th>drop_lng</th>\n",
       "      <th>travel_distance</th>\n",
       "      <th>travel_time</th>\n",
       "      <th>trip_fare</th>\n",
       "    </tr>\n",
       "  </thead>\n",
       "  <tbody>\n",
       "    <tr>\n",
       "      <td>28324</td>\n",
       "      <td>CUST_7245</td>\n",
       "      <td>ID34918</td>\n",
       "      <td>1546690913934</td>\n",
       "      <td>17.425589</td>\n",
       "      <td>78.548241</td>\n",
       "      <td>17.394815</td>\n",
       "      <td>78.541061</td>\n",
       "      <td>0.613</td>\n",
       "      <td>4.902867</td>\n",
       "      <td>20</td>\n",
       "    </tr>\n",
       "    <tr>\n",
       "      <td>16442</td>\n",
       "      <td>CUST_3507</td>\n",
       "      <td>ID30871</td>\n",
       "      <td>1546655841789</td>\n",
       "      <td>17.367819</td>\n",
       "      <td>78.467850</td>\n",
       "      <td>17.378286</td>\n",
       "      <td>78.482071</td>\n",
       "      <td>0.000</td>\n",
       "      <td>0.065400</td>\n",
       "      <td>20</td>\n",
       "    </tr>\n",
       "    <tr>\n",
       "      <td>16535</td>\n",
       "      <td>CUST_3539</td>\n",
       "      <td>ID33062</td>\n",
       "      <td>1546675096351</td>\n",
       "      <td>17.387089</td>\n",
       "      <td>78.485764</td>\n",
       "      <td>17.400879</td>\n",
       "      <td>78.471619</td>\n",
       "      <td>0.105</td>\n",
       "      <td>0.331717</td>\n",
       "      <td>20</td>\n",
       "    </tr>\n",
       "    <tr>\n",
       "      <td>16562</td>\n",
       "      <td>CUST_3553</td>\n",
       "      <td>ID12333</td>\n",
       "      <td>1546600753946</td>\n",
       "      <td>17.407560</td>\n",
       "      <td>78.440773</td>\n",
       "      <td>17.438858</td>\n",
       "      <td>78.390732</td>\n",
       "      <td>0.037</td>\n",
       "      <td>1.635983</td>\n",
       "      <td>20</td>\n",
       "    </tr>\n",
       "    <tr>\n",
       "      <td>31948</td>\n",
       "      <td>CUST_8694</td>\n",
       "      <td>ID21225</td>\n",
       "      <td>1546438327159</td>\n",
       "      <td>17.443996</td>\n",
       "      <td>78.391876</td>\n",
       "      <td>17.458584</td>\n",
       "      <td>78.385841</td>\n",
       "      <td>0.440</td>\n",
       "      <td>2.831383</td>\n",
       "      <td>20</td>\n",
       "    </tr>\n",
       "    <tr>\n",
       "      <td>...</td>\n",
       "      <td>...</td>\n",
       "      <td>...</td>\n",
       "      <td>...</td>\n",
       "      <td>...</td>\n",
       "      <td>...</td>\n",
       "      <td>...</td>\n",
       "      <td>...</td>\n",
       "      <td>...</td>\n",
       "      <td>...</td>\n",
       "      <td>...</td>\n",
       "    </tr>\n",
       "    <tr>\n",
       "      <td>20396</td>\n",
       "      <td>CUST_4924</td>\n",
       "      <td>ID12637</td>\n",
       "      <td>1546602838986</td>\n",
       "      <td>17.440790</td>\n",
       "      <td>78.377480</td>\n",
       "      <td>17.447018</td>\n",
       "      <td>78.363709</td>\n",
       "      <td>-1.000</td>\n",
       "      <td>11.838667</td>\n",
       "      <td>959</td>\n",
       "    </tr>\n",
       "    <tr>\n",
       "      <td>28026</td>\n",
       "      <td>CUST_7151</td>\n",
       "      <td>ID17207</td>\n",
       "      <td>1546407689604</td>\n",
       "      <td>17.433880</td>\n",
       "      <td>78.384483</td>\n",
       "      <td>17.441532</td>\n",
       "      <td>78.362556</td>\n",
       "      <td>-1.000</td>\n",
       "      <td>11.014850</td>\n",
       "      <td>959</td>\n",
       "    </tr>\n",
       "    <tr>\n",
       "      <td>12087</td>\n",
       "      <td>CUST_2196</td>\n",
       "      <td>ID27305</td>\n",
       "      <td>1546858611537</td>\n",
       "      <td>17.404274</td>\n",
       "      <td>78.492340</td>\n",
       "      <td>17.411062</td>\n",
       "      <td>78.493576</td>\n",
       "      <td>2.700</td>\n",
       "      <td>10.949667</td>\n",
       "      <td>959</td>\n",
       "    </tr>\n",
       "    <tr>\n",
       "      <td>2259</td>\n",
       "      <td>CUST_11066</td>\n",
       "      <td>ID26723</td>\n",
       "      <td>1546853008950</td>\n",
       "      <td>17.430353</td>\n",
       "      <td>78.406220</td>\n",
       "      <td>17.432350</td>\n",
       "      <td>78.449013</td>\n",
       "      <td>4.000</td>\n",
       "      <td>10.143917</td>\n",
       "      <td>959</td>\n",
       "    </tr>\n",
       "    <tr>\n",
       "      <td>24969</td>\n",
       "      <td>CUST_6416</td>\n",
       "      <td>ID36240</td>\n",
       "      <td>1546699878502</td>\n",
       "      <td>17.397224</td>\n",
       "      <td>78.480911</td>\n",
       "      <td>17.428328</td>\n",
       "      <td>78.450958</td>\n",
       "      <td>1.000</td>\n",
       "      <td>1.596217</td>\n",
       "      <td>959</td>\n",
       "    </tr>\n",
       "  </tbody>\n",
       "</table>\n",
       "<p>34578 rows × 10 columns</p>\n",
       "</div>"
      ],
      "text/plain": [
       "      customer_id  trip_id      timestamp   pick_lat   pick_lng   drop_lat  \\\n",
       "28324   CUST_7245  ID34918  1546690913934  17.425589  78.548241  17.394815   \n",
       "16442   CUST_3507  ID30871  1546655841789  17.367819  78.467850  17.378286   \n",
       "16535   CUST_3539  ID33062  1546675096351  17.387089  78.485764  17.400879   \n",
       "16562   CUST_3553  ID12333  1546600753946  17.407560  78.440773  17.438858   \n",
       "31948   CUST_8694  ID21225  1546438327159  17.443996  78.391876  17.458584   \n",
       "...           ...      ...            ...        ...        ...        ...   \n",
       "20396   CUST_4924  ID12637  1546602838986  17.440790  78.377480  17.447018   \n",
       "28026   CUST_7151  ID17207  1546407689604  17.433880  78.384483  17.441532   \n",
       "12087   CUST_2196  ID27305  1546858611537  17.404274  78.492340  17.411062   \n",
       "2259   CUST_11066  ID26723  1546853008950  17.430353  78.406220  17.432350   \n",
       "24969   CUST_6416  ID36240  1546699878502  17.397224  78.480911  17.428328   \n",
       "\n",
       "        drop_lng  travel_distance  travel_time  trip_fare  \n",
       "28324  78.541061            0.613     4.902867         20  \n",
       "16442  78.482071            0.000     0.065400         20  \n",
       "16535  78.471619            0.105     0.331717         20  \n",
       "16562  78.390732            0.037     1.635983         20  \n",
       "31948  78.385841            0.440     2.831383         20  \n",
       "...          ...              ...          ...        ...  \n",
       "20396  78.363709           -1.000    11.838667        959  \n",
       "28026  78.362556           -1.000    11.014850        959  \n",
       "12087  78.493576            2.700    10.949667        959  \n",
       "2259   78.449013            4.000    10.143917        959  \n",
       "24969  78.450958            1.000     1.596217        959  \n",
       "\n",
       "[34578 rows x 10 columns]"
      ]
     },
     "execution_count": 202,
     "metadata": {},
     "output_type": "execute_result"
    }
   ],
   "source": [
    "dfimp.sort_values(by='trip_fare',ascending=True)\n",
    "##To check whether the person travelled or not"
   ]
  },
  {
   "cell_type": "code",
   "execution_count": 203,
   "metadata": {},
   "outputs": [],
   "source": [
    "##So, now we know that in dfimp, people have travelled at least twice, and none of these trips were cancelled"
   ]
  },
  {
   "cell_type": "code",
   "execution_count": 204,
   "metadata": {},
   "outputs": [
    {
     "data": {
      "text/plain": [
       "9130"
      ]
     },
     "execution_count": 204,
     "metadata": {},
     "output_type": "execute_result"
    }
   ],
   "source": [
    "dfimp['customer_id'].nunique()"
   ]
  },
  {
   "cell_type": "code",
   "execution_count": 205,
   "metadata": {},
   "outputs": [
    {
     "data": {
      "text/plain": [
       "34578"
      ]
     },
     "execution_count": 205,
     "metadata": {},
     "output_type": "execute_result"
    }
   ],
   "source": [
    "dfimp.shape[0]"
   ]
  },
  {
   "cell_type": "code",
   "execution_count": 206,
   "metadata": {},
   "outputs": [
    {
     "data": {
      "text/plain": [
       "array(['CUST_001', 'CUST_003', 'CUST_004', ..., 'CUST_9994', 'CUST_9997',\n",
       "       'CUST_9998'], dtype=object)"
      ]
     },
     "execution_count": 206,
     "metadata": {},
     "output_type": "execute_result"
    }
   ],
   "source": [
    "dfimp['customer_id'].unique()"
   ]
  },
  {
   "cell_type": "code",
   "execution_count": 207,
   "metadata": {},
   "outputs": [],
   "source": [
    "import time\n",
    "import datetime\n",
    "from datetime import timedelta\n",
    "dfimp['timestamp'] = dfimp['timestamp'].apply(lambda d: time.strftime('%m/%d/%Y %H:%M:%S',  time.gmtime(d/1000.)))"
   ]
  },
  {
   "cell_type": "code",
   "execution_count": 208,
   "metadata": {},
   "outputs": [
    {
     "data": {
      "text/html": [
       "<div>\n",
       "<style scoped>\n",
       "    .dataframe tbody tr th:only-of-type {\n",
       "        vertical-align: middle;\n",
       "    }\n",
       "\n",
       "    .dataframe tbody tr th {\n",
       "        vertical-align: top;\n",
       "    }\n",
       "\n",
       "    .dataframe thead th {\n",
       "        text-align: right;\n",
       "    }\n",
       "</style>\n",
       "<table border=\"1\" class=\"dataframe\">\n",
       "  <thead>\n",
       "    <tr style=\"text-align: right;\">\n",
       "      <th></th>\n",
       "      <th>customer_id</th>\n",
       "      <th>trip_id</th>\n",
       "      <th>timestamp</th>\n",
       "      <th>pick_lat</th>\n",
       "      <th>pick_lng</th>\n",
       "      <th>drop_lat</th>\n",
       "      <th>drop_lng</th>\n",
       "      <th>travel_distance</th>\n",
       "      <th>travel_time</th>\n",
       "      <th>trip_fare</th>\n",
       "    </tr>\n",
       "  </thead>\n",
       "  <tbody>\n",
       "    <tr>\n",
       "      <td>0</td>\n",
       "      <td>CUST_001</td>\n",
       "      <td>ID001</td>\n",
       "      <td>01/05/2019 17:27:50</td>\n",
       "      <td>17.442705</td>\n",
       "      <td>78.387878</td>\n",
       "      <td>17.457829</td>\n",
       "      <td>78.399056</td>\n",
       "      <td>2.806</td>\n",
       "      <td>12.609667</td>\n",
       "      <td>37</td>\n",
       "    </tr>\n",
       "    <tr>\n",
       "      <td>1</td>\n",
       "      <td>CUST_001</td>\n",
       "      <td>ID1390</td>\n",
       "      <td>01/07/2019 14:24:43</td>\n",
       "      <td>17.451511</td>\n",
       "      <td>78.370468</td>\n",
       "      <td>17.443994</td>\n",
       "      <td>78.363037</td>\n",
       "      <td>10.624</td>\n",
       "      <td>26.600417</td>\n",
       "      <td>99</td>\n",
       "    </tr>\n",
       "    <tr>\n",
       "      <td>2</td>\n",
       "      <td>CUST_001</td>\n",
       "      <td>ID1867</td>\n",
       "      <td>01/07/2019 15:07:29</td>\n",
       "      <td>17.421120</td>\n",
       "      <td>78.339172</td>\n",
       "      <td>17.426586</td>\n",
       "      <td>78.324600</td>\n",
       "      <td>10.896</td>\n",
       "      <td>33.192900</td>\n",
       "      <td>107</td>\n",
       "    </tr>\n",
       "    <tr>\n",
       "      <td>3</td>\n",
       "      <td>CUST_001</td>\n",
       "      <td>ID4984</td>\n",
       "      <td>01/06/2019 09:07:22</td>\n",
       "      <td>17.340305</td>\n",
       "      <td>78.543899</td>\n",
       "      <td>17.340197</td>\n",
       "      <td>78.543892</td>\n",
       "      <td>3.547</td>\n",
       "      <td>8.611033</td>\n",
       "      <td>41</td>\n",
       "    </tr>\n",
       "    <tr>\n",
       "      <td>4</td>\n",
       "      <td>CUST_001</td>\n",
       "      <td>ID5270</td>\n",
       "      <td>01/06/2019 10:12:37</td>\n",
       "      <td>17.441196</td>\n",
       "      <td>78.391518</td>\n",
       "      <td>17.441196</td>\n",
       "      <td>78.391518</td>\n",
       "      <td>7.523</td>\n",
       "      <td>17.608217</td>\n",
       "      <td>73</td>\n",
       "    </tr>\n",
       "    <tr>\n",
       "      <td>...</td>\n",
       "      <td>...</td>\n",
       "      <td>...</td>\n",
       "      <td>...</td>\n",
       "      <td>...</td>\n",
       "      <td>...</td>\n",
       "      <td>...</td>\n",
       "      <td>...</td>\n",
       "      <td>...</td>\n",
       "      <td>...</td>\n",
       "      <td>...</td>\n",
       "    </tr>\n",
       "    <tr>\n",
       "      <td>34573</td>\n",
       "      <td>CUST_9997</td>\n",
       "      <td>ID17906</td>\n",
       "      <td>01/02/2019 07:16:29</td>\n",
       "      <td>17.402945</td>\n",
       "      <td>78.510292</td>\n",
       "      <td>17.409569</td>\n",
       "      <td>78.495979</td>\n",
       "      <td>3.650</td>\n",
       "      <td>10.519383</td>\n",
       "      <td>44</td>\n",
       "    </tr>\n",
       "    <tr>\n",
       "      <td>34574</td>\n",
       "      <td>CUST_9997</td>\n",
       "      <td>ID33233</td>\n",
       "      <td>01/05/2019 08:20:55</td>\n",
       "      <td>17.422640</td>\n",
       "      <td>78.382416</td>\n",
       "      <td>17.395067</td>\n",
       "      <td>78.439102</td>\n",
       "      <td>9.021</td>\n",
       "      <td>15.895017</td>\n",
       "      <td>78</td>\n",
       "    </tr>\n",
       "    <tr>\n",
       "      <td>34575</td>\n",
       "      <td>CUST_9998</td>\n",
       "      <td>ID15428</td>\n",
       "      <td>01/02/2019 02:52:12</td>\n",
       "      <td>17.464779</td>\n",
       "      <td>78.367683</td>\n",
       "      <td>17.443724</td>\n",
       "      <td>78.380577</td>\n",
       "      <td>2.340</td>\n",
       "      <td>5.758983</td>\n",
       "      <td>34</td>\n",
       "    </tr>\n",
       "    <tr>\n",
       "      <td>34576</td>\n",
       "      <td>CUST_9998</td>\n",
       "      <td>ID16329</td>\n",
       "      <td>01/02/2019 04:19:48</td>\n",
       "      <td>17.397318</td>\n",
       "      <td>78.400559</td>\n",
       "      <td>17.413199</td>\n",
       "      <td>78.394524</td>\n",
       "      <td>0.000</td>\n",
       "      <td>0.078683</td>\n",
       "      <td>20</td>\n",
       "    </tr>\n",
       "    <tr>\n",
       "      <td>34577</td>\n",
       "      <td>CUST_9998</td>\n",
       "      <td>ID17224</td>\n",
       "      <td>01/02/2019 05:43:03</td>\n",
       "      <td>17.453785</td>\n",
       "      <td>78.424438</td>\n",
       "      <td>17.457062</td>\n",
       "      <td>78.369057</td>\n",
       "      <td>1.361</td>\n",
       "      <td>4.099567</td>\n",
       "      <td>27</td>\n",
       "    </tr>\n",
       "  </tbody>\n",
       "</table>\n",
       "<p>34578 rows × 10 columns</p>\n",
       "</div>"
      ],
      "text/plain": [
       "      customer_id  trip_id            timestamp   pick_lat   pick_lng  \\\n",
       "0        CUST_001    ID001  01/05/2019 17:27:50  17.442705  78.387878   \n",
       "1        CUST_001   ID1390  01/07/2019 14:24:43  17.451511  78.370468   \n",
       "2        CUST_001   ID1867  01/07/2019 15:07:29  17.421120  78.339172   \n",
       "3        CUST_001   ID4984  01/06/2019 09:07:22  17.340305  78.543899   \n",
       "4        CUST_001   ID5270  01/06/2019 10:12:37  17.441196  78.391518   \n",
       "...           ...      ...                  ...        ...        ...   \n",
       "34573   CUST_9997  ID17906  01/02/2019 07:16:29  17.402945  78.510292   \n",
       "34574   CUST_9997  ID33233  01/05/2019 08:20:55  17.422640  78.382416   \n",
       "34575   CUST_9998  ID15428  01/02/2019 02:52:12  17.464779  78.367683   \n",
       "34576   CUST_9998  ID16329  01/02/2019 04:19:48  17.397318  78.400559   \n",
       "34577   CUST_9998  ID17224  01/02/2019 05:43:03  17.453785  78.424438   \n",
       "\n",
       "        drop_lat   drop_lng  travel_distance  travel_time  trip_fare  \n",
       "0      17.457829  78.399056            2.806    12.609667         37  \n",
       "1      17.443994  78.363037           10.624    26.600417         99  \n",
       "2      17.426586  78.324600           10.896    33.192900        107  \n",
       "3      17.340197  78.543892            3.547     8.611033         41  \n",
       "4      17.441196  78.391518            7.523    17.608217         73  \n",
       "...          ...        ...              ...          ...        ...  \n",
       "34573  17.409569  78.495979            3.650    10.519383         44  \n",
       "34574  17.395067  78.439102            9.021    15.895017         78  \n",
       "34575  17.443724  78.380577            2.340     5.758983         34  \n",
       "34576  17.413199  78.394524            0.000     0.078683         20  \n",
       "34577  17.457062  78.369057            1.361     4.099567         27  \n",
       "\n",
       "[34578 rows x 10 columns]"
      ]
     },
     "execution_count": 208,
     "metadata": {},
     "output_type": "execute_result"
    }
   ],
   "source": [
    "dfimp"
   ]
  },
  {
   "cell_type": "code",
   "execution_count": 209,
   "metadata": {},
   "outputs": [
    {
     "data": {
      "text/plain": [
       "'01/05/2019 17:27:50'"
      ]
     },
     "execution_count": 209,
     "metadata": {},
     "output_type": "execute_result"
    }
   ],
   "source": [
    "dfimp[dfimp['customer_id']=='CUST_001'].head(2).iloc[0]['timestamp']\n",
    "##Trying for one customer"
   ]
  },
  {
   "cell_type": "code",
   "execution_count": 218,
   "metadata": {},
   "outputs": [],
   "source": [
    "difflist = []\n",
    "for i in dfimp['customer_id'].unique():\n",
    "    datetimeFormat = '%m/%d/%Y %H:%M:%S'\n",
    "    dat1 = dfimp[dfimp['customer_id']==i].sort_values(by='timestamp',ascending=True).head(2).iloc[0]['timestamp']\n",
    "    dat2 = dfimp[dfimp['customer_id']==i].sort_values(by='timestamp',ascending=True).head(2).iloc[1]['timestamp']\n",
    "    diff = datetime.datetime.strptime(dat2, datetimeFormat) - datetime.datetime.strptime(dat1, datetimeFormat)\n",
    "    difflist.append(diff)"
   ]
  },
  {
   "cell_type": "code",
   "execution_count": 219,
   "metadata": {},
   "outputs": [
    {
     "data": {
      "text/plain": [
       "[datetime.timedelta(seconds=26288),\n",
       " datetime.timedelta(days=1, seconds=6673),\n",
       " datetime.timedelta(seconds=37027),\n",
       " datetime.timedelta(seconds=51460),\n",
       " datetime.timedelta(seconds=29468),\n",
       " datetime.timedelta(seconds=13991),\n",
       " datetime.timedelta(days=1, seconds=13717),\n",
       " datetime.timedelta(days=1, seconds=50368),\n",
       " datetime.timedelta(seconds=3085),\n",
       " datetime.timedelta(seconds=11166),\n",
       " datetime.timedelta(seconds=42047),\n",
       " datetime.timedelta(seconds=2934),\n",
       " datetime.timedelta(seconds=11548),\n",
       " datetime.timedelta(seconds=84639),\n",
       " datetime.timedelta(seconds=48070),\n",
       " datetime.timedelta(days=1, seconds=880),\n",
       " datetime.timedelta(seconds=38236),\n",
       " datetime.timedelta(seconds=86247),\n",
       " datetime.timedelta(seconds=13055),\n",
       " datetime.timedelta(seconds=35023),\n",
       " datetime.timedelta(seconds=7035),\n",
       " datetime.timedelta(seconds=9256),\n",
       " datetime.timedelta(seconds=34263),\n",
       " datetime.timedelta(seconds=85304),\n",
       " datetime.timedelta(seconds=37869),\n",
       " datetime.timedelta(seconds=882),\n",
       " datetime.timedelta(days=3, seconds=13454),\n",
       " datetime.timedelta(days=1, seconds=1965),\n",
       " datetime.timedelta(seconds=13360),\n",
       " datetime.timedelta(days=1, seconds=86395),\n",
       " datetime.timedelta(days=2, seconds=624),\n",
       " datetime.timedelta(seconds=20129),\n",
       " datetime.timedelta(days=1, seconds=44742),\n",
       " datetime.timedelta(seconds=35448),\n",
       " datetime.timedelta(days=3, seconds=25704),\n",
       " datetime.timedelta(seconds=74699),\n",
       " datetime.timedelta(seconds=84403),\n",
       " datetime.timedelta(seconds=51434),\n",
       " datetime.timedelta(seconds=72884),\n",
       " datetime.timedelta(seconds=3190),\n",
       " datetime.timedelta(seconds=34195),\n",
       " datetime.timedelta(seconds=886),\n",
       " datetime.timedelta(days=1, seconds=1310),\n",
       " datetime.timedelta(seconds=1475),\n",
       " datetime.timedelta(seconds=33671),\n",
       " datetime.timedelta(seconds=42100),\n",
       " datetime.timedelta(seconds=8516),\n",
       " datetime.timedelta(seconds=15948),\n",
       " datetime.timedelta(seconds=80215),\n",
       " datetime.timedelta(days=1, seconds=86151),\n",
       " datetime.timedelta(seconds=65943),\n",
       " datetime.timedelta(seconds=4630),\n",
       " datetime.timedelta(days=2, seconds=44747),\n",
       " datetime.timedelta(days=3, seconds=7979),\n",
       " datetime.timedelta(days=1, seconds=2100),\n",
       " datetime.timedelta(seconds=46782),\n",
       " datetime.timedelta(days=3, seconds=51846),\n",
       " datetime.timedelta(days=1, seconds=15262),\n",
       " datetime.timedelta(days=2, seconds=5320),\n",
       " datetime.timedelta(seconds=5691),\n",
       " datetime.timedelta(seconds=33065),\n",
       " datetime.timedelta(days=1, seconds=84995),\n",
       " datetime.timedelta(days=1, seconds=15015),\n",
       " datetime.timedelta(seconds=1818),\n",
       " datetime.timedelta(seconds=2838),\n",
       " datetime.timedelta(seconds=231),\n",
       " datetime.timedelta(seconds=1161),\n",
       " datetime.timedelta(seconds=72205),\n",
       " datetime.timedelta(days=3, seconds=33297),\n",
       " datetime.timedelta(seconds=15788),\n",
       " datetime.timedelta(seconds=86049),\n",
       " datetime.timedelta(days=3, seconds=50172),\n",
       " datetime.timedelta(seconds=8819),\n",
       " datetime.timedelta(days=1, seconds=347),\n",
       " datetime.timedelta(seconds=32528),\n",
       " datetime.timedelta(days=4, seconds=85887),\n",
       " datetime.timedelta(days=1, seconds=2482),\n",
       " datetime.timedelta(seconds=43463),\n",
       " datetime.timedelta(seconds=32592),\n",
       " datetime.timedelta(seconds=36285),\n",
       " datetime.timedelta(seconds=84404),\n",
       " datetime.timedelta(days=1, seconds=1895),\n",
       " datetime.timedelta(days=3, seconds=20157),\n",
       " datetime.timedelta(seconds=32520),\n",
       " datetime.timedelta(seconds=15985),\n",
       " datetime.timedelta(seconds=24263),\n",
       " datetime.timedelta(seconds=18026),\n",
       " datetime.timedelta(seconds=41761),\n",
       " datetime.timedelta(seconds=39644),\n",
       " datetime.timedelta(seconds=84512),\n",
       " datetime.timedelta(days=2, seconds=86350),\n",
       " datetime.timedelta(days=1, seconds=92),\n",
       " datetime.timedelta(seconds=14547),\n",
       " datetime.timedelta(seconds=4737),\n",
       " datetime.timedelta(days=4, seconds=85367),\n",
       " datetime.timedelta(seconds=85434),\n",
       " datetime.timedelta(days=4, seconds=86261),\n",
       " datetime.timedelta(seconds=11509),\n",
       " datetime.timedelta(seconds=41473),\n",
       " datetime.timedelta(seconds=86070),\n",
       " datetime.timedelta(days=1, seconds=687),\n",
       " datetime.timedelta(days=1, seconds=13119),\n",
       " datetime.timedelta(days=1, seconds=13193),\n",
       " datetime.timedelta(seconds=20277),\n",
       " datetime.timedelta(seconds=19414),\n",
       " datetime.timedelta(days=1, seconds=634),\n",
       " datetime.timedelta(seconds=83414),\n",
       " datetime.timedelta(days=4, seconds=85310),\n",
       " datetime.timedelta(days=2, seconds=83124),\n",
       " datetime.timedelta(seconds=17160),\n",
       " datetime.timedelta(days=1, seconds=6),\n",
       " datetime.timedelta(days=3, seconds=81037),\n",
       " datetime.timedelta(seconds=37557),\n",
       " datetime.timedelta(days=1, seconds=27675),\n",
       " datetime.timedelta(days=2, seconds=48434),\n",
       " datetime.timedelta(seconds=2850),\n",
       " datetime.timedelta(seconds=18868),\n",
       " datetime.timedelta(seconds=23652),\n",
       " datetime.timedelta(days=4, seconds=86135),\n",
       " datetime.timedelta(days=5, seconds=136),\n",
       " datetime.timedelta(days=3, seconds=32493),\n",
       " datetime.timedelta(seconds=35147),\n",
       " datetime.timedelta(seconds=33188),\n",
       " datetime.timedelta(seconds=35231),\n",
       " datetime.timedelta(seconds=35074),\n",
       " datetime.timedelta(days=5, seconds=273),\n",
       " datetime.timedelta(seconds=82961),\n",
       " datetime.timedelta(seconds=86071),\n",
       " datetime.timedelta(seconds=34078),\n",
       " datetime.timedelta(seconds=6523),\n",
       " datetime.timedelta(seconds=9836),\n",
       " datetime.timedelta(seconds=11484),\n",
       " datetime.timedelta(days=1, seconds=481),\n",
       " datetime.timedelta(seconds=19565),\n",
       " datetime.timedelta(days=4, seconds=85442),\n",
       " datetime.timedelta(days=5, seconds=28681),\n",
       " datetime.timedelta(seconds=28053),\n",
       " datetime.timedelta(seconds=18511),\n",
       " datetime.timedelta(seconds=10224),\n",
       " datetime.timedelta(seconds=39577),\n",
       " datetime.timedelta(days=4, seconds=86127),\n",
       " datetime.timedelta(seconds=17480),\n",
       " datetime.timedelta(days=4, seconds=85774),\n",
       " datetime.timedelta(seconds=5035),\n",
       " datetime.timedelta(seconds=32720),\n",
       " datetime.timedelta(seconds=16868),\n",
       " datetime.timedelta(seconds=33060),\n",
       " datetime.timedelta(seconds=86019),\n",
       " datetime.timedelta(seconds=84905),\n",
       " datetime.timedelta(days=1, seconds=2027),\n",
       " datetime.timedelta(seconds=39431),\n",
       " datetime.timedelta(seconds=38717),\n",
       " datetime.timedelta(days=1, seconds=3796),\n",
       " datetime.timedelta(seconds=33117),\n",
       " datetime.timedelta(seconds=11074),\n",
       " datetime.timedelta(seconds=21227),\n",
       " datetime.timedelta(seconds=35008),\n",
       " datetime.timedelta(days=1, seconds=36083),\n",
       " datetime.timedelta(days=1, seconds=48180),\n",
       " datetime.timedelta(days=1, seconds=16477),\n",
       " datetime.timedelta(seconds=33262),\n",
       " datetime.timedelta(days=3, seconds=33404),\n",
       " datetime.timedelta(days=3, seconds=569),\n",
       " datetime.timedelta(days=3, seconds=8865),\n",
       " datetime.timedelta(days=2, seconds=31760),\n",
       " datetime.timedelta(seconds=86054),\n",
       " datetime.timedelta(seconds=43698),\n",
       " datetime.timedelta(days=1, seconds=3218),\n",
       " datetime.timedelta(seconds=33171),\n",
       " datetime.timedelta(seconds=27291),\n",
       " datetime.timedelta(days=1, seconds=826),\n",
       " datetime.timedelta(days=3, seconds=18547),\n",
       " datetime.timedelta(days=1, seconds=43123),\n",
       " datetime.timedelta(seconds=36102),\n",
       " datetime.timedelta(seconds=2366),\n",
       " datetime.timedelta(days=1, seconds=560),\n",
       " datetime.timedelta(seconds=27481),\n",
       " datetime.timedelta(seconds=32737),\n",
       " datetime.timedelta(seconds=35183),\n",
       " datetime.timedelta(days=5, seconds=717),\n",
       " datetime.timedelta(days=1, seconds=9733),\n",
       " datetime.timedelta(seconds=16720),\n",
       " datetime.timedelta(days=2, seconds=81732),\n",
       " datetime.timedelta(seconds=20548),\n",
       " datetime.timedelta(seconds=1568),\n",
       " datetime.timedelta(seconds=84427),\n",
       " datetime.timedelta(seconds=3645),\n",
       " datetime.timedelta(seconds=41776),\n",
       " datetime.timedelta(seconds=29236),\n",
       " datetime.timedelta(days=2, seconds=43455),\n",
       " datetime.timedelta(seconds=26499),\n",
       " datetime.timedelta(seconds=19405),\n",
       " datetime.timedelta(seconds=1112),\n",
       " datetime.timedelta(seconds=37437),\n",
       " datetime.timedelta(seconds=40405),\n",
       " datetime.timedelta(seconds=85638),\n",
       " datetime.timedelta(days=4, seconds=37148),\n",
       " datetime.timedelta(days=3, seconds=21317),\n",
       " datetime.timedelta(seconds=31778),\n",
       " datetime.timedelta(seconds=19287),\n",
       " datetime.timedelta(seconds=81246),\n",
       " datetime.timedelta(seconds=30672),\n",
       " datetime.timedelta(seconds=11506),\n",
       " datetime.timedelta(days=1, seconds=38646),\n",
       " datetime.timedelta(seconds=11275),\n",
       " datetime.timedelta(seconds=38051),\n",
       " datetime.timedelta(days=5, seconds=27857),\n",
       " datetime.timedelta(seconds=34417),\n",
       " datetime.timedelta(days=3, seconds=27229),\n",
       " datetime.timedelta(seconds=1748),\n",
       " datetime.timedelta(seconds=34786),\n",
       " datetime.timedelta(seconds=36313),\n",
       " datetime.timedelta(days=1, seconds=617),\n",
       " datetime.timedelta(days=1, seconds=38865),\n",
       " datetime.timedelta(seconds=38169),\n",
       " datetime.timedelta(days=4, seconds=32297),\n",
       " datetime.timedelta(seconds=85522),\n",
       " datetime.timedelta(days=1, seconds=983),\n",
       " datetime.timedelta(seconds=32890),\n",
       " datetime.timedelta(days=2, seconds=86256),\n",
       " datetime.timedelta(seconds=43030),\n",
       " datetime.timedelta(seconds=7024),\n",
       " datetime.timedelta(days=1, seconds=82),\n",
       " datetime.timedelta(seconds=34438),\n",
       " datetime.timedelta(seconds=30340),\n",
       " datetime.timedelta(seconds=14016),\n",
       " datetime.timedelta(seconds=2686),\n",
       " datetime.timedelta(days=2, seconds=78796),\n",
       " datetime.timedelta(days=3, seconds=18528),\n",
       " datetime.timedelta(seconds=11158),\n",
       " datetime.timedelta(seconds=30420),\n",
       " datetime.timedelta(days=1, seconds=47),\n",
       " datetime.timedelta(seconds=35630),\n",
       " datetime.timedelta(seconds=29013),\n",
       " datetime.timedelta(days=4, seconds=85364),\n",
       " datetime.timedelta(days=5, seconds=2005),\n",
       " datetime.timedelta(days=2, seconds=85222),\n",
       " datetime.timedelta(seconds=30311),\n",
       " datetime.timedelta(seconds=13325),\n",
       " datetime.timedelta(seconds=7266),\n",
       " datetime.timedelta(seconds=85257),\n",
       " datetime.timedelta(days=1, seconds=2128),\n",
       " datetime.timedelta(days=1, seconds=3547),\n",
       " datetime.timedelta(days=1, seconds=18485),\n",
       " datetime.timedelta(days=1, seconds=43),\n",
       " datetime.timedelta(days=4, seconds=83260),\n",
       " datetime.timedelta(seconds=17065),\n",
       " datetime.timedelta(seconds=86028),\n",
       " datetime.timedelta(seconds=29858),\n",
       " datetime.timedelta(seconds=8629),\n",
       " datetime.timedelta(seconds=82591),\n",
       " datetime.timedelta(seconds=30374),\n",
       " datetime.timedelta(seconds=31398),\n",
       " datetime.timedelta(seconds=31766),\n",
       " datetime.timedelta(days=3, seconds=16845),\n",
       " datetime.timedelta(seconds=26033),\n",
       " datetime.timedelta(days=2, seconds=80213),\n",
       " datetime.timedelta(days=2, seconds=85910),\n",
       " datetime.timedelta(days=1, seconds=8294),\n",
       " datetime.timedelta(days=2, seconds=40834),\n",
       " datetime.timedelta(days=1, seconds=367),\n",
       " datetime.timedelta(seconds=41739),\n",
       " datetime.timedelta(seconds=7667),\n",
       " datetime.timedelta(seconds=30014),\n",
       " datetime.timedelta(days=1, seconds=35053),\n",
       " datetime.timedelta(seconds=21731),\n",
       " datetime.timedelta(seconds=23879),\n",
       " datetime.timedelta(seconds=31901),\n",
       " datetime.timedelta(seconds=84731),\n",
       " datetime.timedelta(seconds=30880),\n",
       " datetime.timedelta(seconds=50435),\n",
       " datetime.timedelta(seconds=29989),\n",
       " datetime.timedelta(seconds=2385),\n",
       " datetime.timedelta(seconds=40563),\n",
       " datetime.timedelta(days=5, seconds=20148),\n",
       " datetime.timedelta(seconds=18991),\n",
       " datetime.timedelta(seconds=10855),\n",
       " datetime.timedelta(seconds=80909),\n",
       " datetime.timedelta(seconds=33033),\n",
       " datetime.timedelta(seconds=86389),\n",
       " datetime.timedelta(days=1, seconds=616),\n",
       " datetime.timedelta(days=3, seconds=45190),\n",
       " datetime.timedelta(seconds=4991),\n",
       " datetime.timedelta(seconds=31485),\n",
       " datetime.timedelta(days=3, seconds=3219),\n",
       " datetime.timedelta(days=3, seconds=30558),\n",
       " datetime.timedelta(days=1, seconds=3422),\n",
       " datetime.timedelta(seconds=83495),\n",
       " datetime.timedelta(seconds=84963),\n",
       " datetime.timedelta(days=4, seconds=515),\n",
       " datetime.timedelta(days=4, seconds=86115),\n",
       " datetime.timedelta(seconds=8588),\n",
       " datetime.timedelta(days=4, seconds=84550),\n",
       " datetime.timedelta(seconds=27041),\n",
       " datetime.timedelta(days=1, seconds=1037),\n",
       " datetime.timedelta(seconds=26941),\n",
       " datetime.timedelta(days=2, seconds=79989),\n",
       " datetime.timedelta(seconds=31803),\n",
       " datetime.timedelta(seconds=2682),\n",
       " datetime.timedelta(seconds=58137),\n",
       " datetime.timedelta(days=1, seconds=160),\n",
       " datetime.timedelta(days=5, seconds=25600),\n",
       " datetime.timedelta(days=1, seconds=3898),\n",
       " datetime.timedelta(days=1, seconds=1275),\n",
       " datetime.timedelta(seconds=33735),\n",
       " datetime.timedelta(seconds=22526),\n",
       " datetime.timedelta(seconds=34221),\n",
       " datetime.timedelta(seconds=7137),\n",
       " datetime.timedelta(seconds=1851),\n",
       " datetime.timedelta(days=2, seconds=85431),\n",
       " datetime.timedelta(seconds=2170),\n",
       " datetime.timedelta(days=1, seconds=735),\n",
       " datetime.timedelta(seconds=38338),\n",
       " datetime.timedelta(days=3, seconds=391),\n",
       " datetime.timedelta(seconds=29421),\n",
       " datetime.timedelta(days=1, seconds=4505),\n",
       " datetime.timedelta(seconds=13682),\n",
       " datetime.timedelta(days=1, seconds=471),\n",
       " datetime.timedelta(days=5, seconds=23032),\n",
       " datetime.timedelta(seconds=86087),\n",
       " datetime.timedelta(days=1, seconds=686),\n",
       " datetime.timedelta(seconds=17648),\n",
       " datetime.timedelta(days=1, seconds=18659),\n",
       " datetime.timedelta(days=1, seconds=4545),\n",
       " datetime.timedelta(seconds=1859),\n",
       " datetime.timedelta(days=5, seconds=4530),\n",
       " datetime.timedelta(seconds=14854),\n",
       " datetime.timedelta(seconds=37960),\n",
       " datetime.timedelta(days=1, seconds=10496),\n",
       " datetime.timedelta(days=1, seconds=931),\n",
       " datetime.timedelta(seconds=854),\n",
       " datetime.timedelta(seconds=27012),\n",
       " datetime.timedelta(seconds=36264),\n",
       " datetime.timedelta(seconds=6775),\n",
       " datetime.timedelta(seconds=32983),\n",
       " datetime.timedelta(seconds=48791),\n",
       " datetime.timedelta(seconds=22681),\n",
       " datetime.timedelta(seconds=34133),\n",
       " datetime.timedelta(days=1, seconds=28267),\n",
       " datetime.timedelta(seconds=8594),\n",
       " datetime.timedelta(days=1, seconds=52547),\n",
       " datetime.timedelta(seconds=4281),\n",
       " datetime.timedelta(days=2, seconds=85964),\n",
       " datetime.timedelta(seconds=85280),\n",
       " datetime.timedelta(seconds=28279),\n",
       " datetime.timedelta(seconds=5260),\n",
       " datetime.timedelta(seconds=13160),\n",
       " datetime.timedelta(seconds=2190),\n",
       " datetime.timedelta(seconds=30678),\n",
       " datetime.timedelta(seconds=86298),\n",
       " datetime.timedelta(seconds=19812),\n",
       " datetime.timedelta(days=2, seconds=85767),\n",
       " datetime.timedelta(days=4, seconds=30840),\n",
       " datetime.timedelta(seconds=84894),\n",
       " datetime.timedelta(seconds=36161),\n",
       " datetime.timedelta(seconds=28680),\n",
       " datetime.timedelta(seconds=82710),\n",
       " datetime.timedelta(seconds=83541),\n",
       " datetime.timedelta(days=3, seconds=10909),\n",
       " datetime.timedelta(days=5, seconds=5682),\n",
       " datetime.timedelta(seconds=5430),\n",
       " datetime.timedelta(days=1, seconds=110),\n",
       " datetime.timedelta(days=5, seconds=1443),\n",
       " datetime.timedelta(seconds=9598),\n",
       " datetime.timedelta(days=3, seconds=21432),\n",
       " datetime.timedelta(days=4, seconds=66584),\n",
       " datetime.timedelta(seconds=25523),\n",
       " datetime.timedelta(seconds=23465),\n",
       " datetime.timedelta(seconds=22019),\n",
       " datetime.timedelta(seconds=26176),\n",
       " datetime.timedelta(days=3, seconds=4447),\n",
       " datetime.timedelta(seconds=85911),\n",
       " datetime.timedelta(seconds=85645),\n",
       " datetime.timedelta(seconds=6552),\n",
       " datetime.timedelta(seconds=30398),\n",
       " datetime.timedelta(days=5, seconds=413),\n",
       " datetime.timedelta(days=4, seconds=84607),\n",
       " datetime.timedelta(seconds=32600),\n",
       " datetime.timedelta(days=5, seconds=820),\n",
       " datetime.timedelta(seconds=81127),\n",
       " datetime.timedelta(seconds=4055),\n",
       " datetime.timedelta(seconds=28308),\n",
       " datetime.timedelta(days=1, seconds=357),\n",
       " datetime.timedelta(days=1, seconds=81406),\n",
       " datetime.timedelta(seconds=36764),\n",
       " datetime.timedelta(days=2, seconds=85513),\n",
       " datetime.timedelta(days=5, seconds=2389),\n",
       " datetime.timedelta(seconds=17714),\n",
       " datetime.timedelta(days=2, seconds=75425),\n",
       " datetime.timedelta(seconds=78295),\n",
       " datetime.timedelta(seconds=31584),\n",
       " datetime.timedelta(days=1, seconds=1197),\n",
       " datetime.timedelta(seconds=24727),\n",
       " datetime.timedelta(seconds=77104),\n",
       " datetime.timedelta(days=2, seconds=45353),\n",
       " datetime.timedelta(seconds=84933),\n",
       " datetime.timedelta(seconds=33967),\n",
       " datetime.timedelta(seconds=79681),\n",
       " datetime.timedelta(seconds=23881),\n",
       " datetime.timedelta(days=5, seconds=12504),\n",
       " datetime.timedelta(seconds=7895),\n",
       " datetime.timedelta(seconds=18857),\n",
       " datetime.timedelta(days=1, seconds=252),\n",
       " datetime.timedelta(seconds=44932),\n",
       " datetime.timedelta(seconds=85049),\n",
       " datetime.timedelta(seconds=85655),\n",
       " datetime.timedelta(seconds=1584),\n",
       " datetime.timedelta(days=3, seconds=10741),\n",
       " datetime.timedelta(days=3, seconds=29159),\n",
       " datetime.timedelta(seconds=35433),\n",
       " datetime.timedelta(days=1, seconds=3095),\n",
       " datetime.timedelta(days=1, seconds=656),\n",
       " datetime.timedelta(days=5, seconds=14820),\n",
       " datetime.timedelta(seconds=85465),\n",
       " datetime.timedelta(seconds=33192),\n",
       " datetime.timedelta(days=4, seconds=85427),\n",
       " datetime.timedelta(seconds=30862),\n",
       " datetime.timedelta(seconds=23198),\n",
       " datetime.timedelta(seconds=4949),\n",
       " datetime.timedelta(seconds=29750),\n",
       " datetime.timedelta(seconds=15968),\n",
       " datetime.timedelta(seconds=32036),\n",
       " datetime.timedelta(seconds=35765),\n",
       " datetime.timedelta(seconds=82631),\n",
       " datetime.timedelta(seconds=4172),\n",
       " datetime.timedelta(days=1, seconds=18253),\n",
       " datetime.timedelta(days=1, seconds=27538),\n",
       " datetime.timedelta(seconds=29443),\n",
       " datetime.timedelta(days=1, seconds=13115),\n",
       " datetime.timedelta(days=3, seconds=75651),\n",
       " datetime.timedelta(seconds=17223),\n",
       " datetime.timedelta(seconds=6444),\n",
       " datetime.timedelta(seconds=30912),\n",
       " datetime.timedelta(days=2, seconds=73436),\n",
       " datetime.timedelta(days=2, seconds=47917),\n",
       " datetime.timedelta(seconds=26965),\n",
       " datetime.timedelta(days=1, seconds=693),\n",
       " datetime.timedelta(seconds=28065),\n",
       " datetime.timedelta(seconds=29743),\n",
       " datetime.timedelta(seconds=25587),\n",
       " datetime.timedelta(seconds=18893),\n",
       " datetime.timedelta(days=3, seconds=1255),\n",
       " datetime.timedelta(days=1, seconds=80263),\n",
       " datetime.timedelta(days=1, seconds=15523),\n",
       " datetime.timedelta(seconds=9752),\n",
       " datetime.timedelta(seconds=7872),\n",
       " datetime.timedelta(seconds=38405),\n",
       " datetime.timedelta(seconds=15325),\n",
       " datetime.timedelta(seconds=22595),\n",
       " datetime.timedelta(days=4, seconds=80765),\n",
       " datetime.timedelta(days=1, seconds=80580),\n",
       " datetime.timedelta(days=4, seconds=84103),\n",
       " datetime.timedelta(days=4, seconds=82521),\n",
       " datetime.timedelta(seconds=29482),\n",
       " datetime.timedelta(seconds=35236),\n",
       " datetime.timedelta(days=1, seconds=364),\n",
       " datetime.timedelta(days=5, seconds=4689),\n",
       " datetime.timedelta(seconds=85827),\n",
       " datetime.timedelta(days=5, seconds=21027),\n",
       " datetime.timedelta(days=1, seconds=4835),\n",
       " datetime.timedelta(seconds=17432),\n",
       " datetime.timedelta(seconds=28367),\n",
       " datetime.timedelta(seconds=83629),\n",
       " datetime.timedelta(days=2, seconds=84605),\n",
       " datetime.timedelta(seconds=3181),\n",
       " datetime.timedelta(seconds=83315),\n",
       " datetime.timedelta(seconds=86304),\n",
       " datetime.timedelta(seconds=83558),\n",
       " datetime.timedelta(seconds=35951),\n",
       " datetime.timedelta(seconds=560),\n",
       " datetime.timedelta(days=5, seconds=440),\n",
       " datetime.timedelta(seconds=55223),\n",
       " datetime.timedelta(seconds=84233),\n",
       " datetime.timedelta(days=1, seconds=34640),\n",
       " datetime.timedelta(seconds=3979),\n",
       " datetime.timedelta(days=1, seconds=19292),\n",
       " datetime.timedelta(seconds=29133),\n",
       " datetime.timedelta(days=1, seconds=19401),\n",
       " datetime.timedelta(seconds=3523),\n",
       " datetime.timedelta(days=2, seconds=36160),\n",
       " datetime.timedelta(seconds=16335),\n",
       " datetime.timedelta(days=1, seconds=4002),\n",
       " datetime.timedelta(seconds=6577),\n",
       " datetime.timedelta(seconds=9810),\n",
       " datetime.timedelta(seconds=3866),\n",
       " datetime.timedelta(days=3, seconds=5365),\n",
       " datetime.timedelta(seconds=1328),\n",
       " datetime.timedelta(days=1, seconds=22352),\n",
       " datetime.timedelta(days=1, seconds=15562),\n",
       " datetime.timedelta(days=1, seconds=24185),\n",
       " datetime.timedelta(days=4, seconds=84811),\n",
       " datetime.timedelta(seconds=33842),\n",
       " datetime.timedelta(seconds=16154),\n",
       " datetime.timedelta(days=4, seconds=84102),\n",
       " datetime.timedelta(seconds=8715),\n",
       " datetime.timedelta(days=3, seconds=25377),\n",
       " datetime.timedelta(seconds=31723),\n",
       " datetime.timedelta(days=1, seconds=28084),\n",
       " datetime.timedelta(seconds=3361),\n",
       " datetime.timedelta(days=1, seconds=9325),\n",
       " datetime.timedelta(seconds=14742),\n",
       " datetime.timedelta(seconds=23177),\n",
       " datetime.timedelta(seconds=2909),\n",
       " datetime.timedelta(seconds=13718),\n",
       " datetime.timedelta(seconds=13022),\n",
       " datetime.timedelta(seconds=8455),\n",
       " datetime.timedelta(seconds=41205),\n",
       " datetime.timedelta(seconds=4680),\n",
       " datetime.timedelta(days=1, seconds=33266),\n",
       " datetime.timedelta(days=1, seconds=946),\n",
       " datetime.timedelta(days=1, seconds=138),\n",
       " datetime.timedelta(seconds=8882),\n",
       " datetime.timedelta(days=1, seconds=3501),\n",
       " datetime.timedelta(seconds=83623),\n",
       " datetime.timedelta(seconds=28910),\n",
       " datetime.timedelta(days=5, seconds=13499),\n",
       " datetime.timedelta(seconds=11494),\n",
       " datetime.timedelta(days=3, seconds=30302),\n",
       " datetime.timedelta(days=4, seconds=79684),\n",
       " datetime.timedelta(seconds=29918),\n",
       " datetime.timedelta(days=5, seconds=2455),\n",
       " datetime.timedelta(seconds=86327),\n",
       " datetime.timedelta(seconds=38395),\n",
       " datetime.timedelta(days=2, seconds=84755),\n",
       " datetime.timedelta(days=2, seconds=5090),\n",
       " datetime.timedelta(days=1, seconds=81072),\n",
       " datetime.timedelta(seconds=31391),\n",
       " datetime.timedelta(days=1, seconds=12434),\n",
       " datetime.timedelta(seconds=30827),\n",
       " datetime.timedelta(seconds=86279),\n",
       " datetime.timedelta(seconds=794),\n",
       " datetime.timedelta(seconds=29437),\n",
       " datetime.timedelta(seconds=54260),\n",
       " datetime.timedelta(seconds=84880),\n",
       " datetime.timedelta(seconds=32575),\n",
       " datetime.timedelta(seconds=34728),\n",
       " datetime.timedelta(seconds=3814),\n",
       " datetime.timedelta(days=5, seconds=7155),\n",
       " datetime.timedelta(days=1, seconds=14250),\n",
       " datetime.timedelta(seconds=23179),\n",
       " datetime.timedelta(days=1, seconds=24776),\n",
       " datetime.timedelta(days=2, seconds=2802),\n",
       " datetime.timedelta(seconds=18827),\n",
       " datetime.timedelta(seconds=9937),\n",
       " datetime.timedelta(days=2, seconds=68231),\n",
       " datetime.timedelta(days=5, seconds=21656),\n",
       " datetime.timedelta(seconds=84927),\n",
       " datetime.timedelta(seconds=45706),\n",
       " datetime.timedelta(days=1, seconds=4717),\n",
       " datetime.timedelta(days=3, seconds=1922),\n",
       " datetime.timedelta(seconds=30748),\n",
       " datetime.timedelta(seconds=11177),\n",
       " datetime.timedelta(seconds=24292),\n",
       " datetime.timedelta(seconds=16284),\n",
       " datetime.timedelta(seconds=18328),\n",
       " datetime.timedelta(days=1, seconds=451),\n",
       " datetime.timedelta(days=2, seconds=81322),\n",
       " datetime.timedelta(days=5, seconds=184),\n",
       " datetime.timedelta(seconds=18057),\n",
       " datetime.timedelta(seconds=601),\n",
       " datetime.timedelta(days=1, seconds=20770),\n",
       " datetime.timedelta(seconds=27982),\n",
       " datetime.timedelta(days=2, seconds=80930),\n",
       " datetime.timedelta(seconds=11078),\n",
       " datetime.timedelta(seconds=10318),\n",
       " datetime.timedelta(days=3, seconds=20861),\n",
       " datetime.timedelta(days=1, seconds=15407),\n",
       " datetime.timedelta(seconds=4899),\n",
       " datetime.timedelta(days=3, seconds=1067),\n",
       " datetime.timedelta(seconds=7040),\n",
       " datetime.timedelta(seconds=6748),\n",
       " datetime.timedelta(seconds=2359),\n",
       " datetime.timedelta(seconds=5973),\n",
       " datetime.timedelta(seconds=84665),\n",
       " datetime.timedelta(seconds=4963),\n",
       " datetime.timedelta(seconds=27003),\n",
       " datetime.timedelta(seconds=16965),\n",
       " datetime.timedelta(seconds=5861),\n",
       " datetime.timedelta(days=1, seconds=221),\n",
       " datetime.timedelta(seconds=5439),\n",
       " datetime.timedelta(days=2, seconds=36956),\n",
       " datetime.timedelta(seconds=19145),\n",
       " datetime.timedelta(seconds=20300),\n",
       " datetime.timedelta(seconds=8020),\n",
       " datetime.timedelta(days=1, seconds=11715),\n",
       " datetime.timedelta(seconds=26007),\n",
       " datetime.timedelta(days=2, seconds=36896),\n",
       " datetime.timedelta(seconds=3405),\n",
       " datetime.timedelta(days=1, seconds=12723),\n",
       " datetime.timedelta(seconds=75631),\n",
       " datetime.timedelta(days=1, seconds=20323),\n",
       " datetime.timedelta(seconds=78095),\n",
       " datetime.timedelta(seconds=82576),\n",
       " datetime.timedelta(seconds=10025),\n",
       " datetime.timedelta(seconds=21713),\n",
       " datetime.timedelta(seconds=3722),\n",
       " datetime.timedelta(seconds=23205),\n",
       " datetime.timedelta(days=1, seconds=85733),\n",
       " datetime.timedelta(days=4, seconds=35599),\n",
       " datetime.timedelta(seconds=21068),\n",
       " datetime.timedelta(days=1, seconds=21478),\n",
       " datetime.timedelta(seconds=2920),\n",
       " datetime.timedelta(days=3, seconds=9171),\n",
       " datetime.timedelta(seconds=2428),\n",
       " datetime.timedelta(seconds=1365),\n",
       " datetime.timedelta(seconds=13786),\n",
       " datetime.timedelta(days=1, seconds=3837),\n",
       " datetime.timedelta(days=4, seconds=81286),\n",
       " datetime.timedelta(days=2, seconds=86163),\n",
       " datetime.timedelta(seconds=21851),\n",
       " datetime.timedelta(seconds=32233),\n",
       " datetime.timedelta(seconds=48219),\n",
       " datetime.timedelta(days=1, seconds=427),\n",
       " datetime.timedelta(seconds=21275),\n",
       " datetime.timedelta(seconds=12471),\n",
       " datetime.timedelta(seconds=45348),\n",
       " datetime.timedelta(seconds=68190),\n",
       " datetime.timedelta(seconds=84574),\n",
       " datetime.timedelta(seconds=12726),\n",
       " datetime.timedelta(days=1, seconds=21018),\n",
       " datetime.timedelta(days=1, seconds=20050),\n",
       " datetime.timedelta(days=5, seconds=77),\n",
       " datetime.timedelta(seconds=81233),\n",
       " datetime.timedelta(days=1, seconds=4754),\n",
       " datetime.timedelta(days=2, seconds=82116),\n",
       " datetime.timedelta(days=5, seconds=2646),\n",
       " datetime.timedelta(days=3, seconds=39051),\n",
       " datetime.timedelta(seconds=11239),\n",
       " datetime.timedelta(seconds=1934),\n",
       " datetime.timedelta(seconds=1134),\n",
       " datetime.timedelta(seconds=82720),\n",
       " datetime.timedelta(days=2, seconds=85765),\n",
       " datetime.timedelta(days=1, seconds=1469),\n",
       " datetime.timedelta(seconds=32020),\n",
       " datetime.timedelta(seconds=3872),\n",
       " datetime.timedelta(seconds=84701),\n",
       " datetime.timedelta(seconds=15275),\n",
       " datetime.timedelta(days=3, seconds=16101),\n",
       " datetime.timedelta(days=2, seconds=31171),\n",
       " datetime.timedelta(seconds=7817),\n",
       " datetime.timedelta(days=1, seconds=7784),\n",
       " datetime.timedelta(seconds=11163),\n",
       " datetime.timedelta(seconds=16132),\n",
       " datetime.timedelta(days=2, seconds=72497),\n",
       " datetime.timedelta(seconds=53699),\n",
       " datetime.timedelta(seconds=14354),\n",
       " datetime.timedelta(days=1, seconds=1269),\n",
       " datetime.timedelta(seconds=2356),\n",
       " datetime.timedelta(seconds=3480),\n",
       " datetime.timedelta(days=4, seconds=74290),\n",
       " datetime.timedelta(days=2, seconds=85798),\n",
       " datetime.timedelta(seconds=2419),\n",
       " datetime.timedelta(days=3, seconds=16343),\n",
       " datetime.timedelta(seconds=9692),\n",
       " datetime.timedelta(seconds=5634),\n",
       " datetime.timedelta(days=4, seconds=74688),\n",
       " datetime.timedelta(seconds=17097),\n",
       " datetime.timedelta(days=4, seconds=85245),\n",
       " datetime.timedelta(seconds=75156),\n",
       " datetime.timedelta(seconds=27198),\n",
       " datetime.timedelta(days=5, seconds=6433),\n",
       " datetime.timedelta(seconds=7330),\n",
       " datetime.timedelta(seconds=29935),\n",
       " datetime.timedelta(seconds=3279),\n",
       " datetime.timedelta(seconds=4048),\n",
       " datetime.timedelta(seconds=2156),\n",
       " datetime.timedelta(days=1, seconds=2047),\n",
       " datetime.timedelta(seconds=12476),\n",
       " datetime.timedelta(seconds=8526),\n",
       " datetime.timedelta(seconds=28026),\n",
       " datetime.timedelta(days=2, seconds=40343),\n",
       " datetime.timedelta(seconds=19257),\n",
       " datetime.timedelta(days=5, seconds=4549),\n",
       " datetime.timedelta(seconds=3085),\n",
       " datetime.timedelta(days=1, seconds=1493),\n",
       " datetime.timedelta(days=4, seconds=74811),\n",
       " datetime.timedelta(seconds=33539),\n",
       " datetime.timedelta(seconds=40314),\n",
       " datetime.timedelta(seconds=27407),\n",
       " datetime.timedelta(seconds=29570),\n",
       " datetime.timedelta(days=4, seconds=73957),\n",
       " datetime.timedelta(seconds=85891),\n",
       " datetime.timedelta(seconds=3774),\n",
       " datetime.timedelta(days=1, seconds=77572),\n",
       " datetime.timedelta(seconds=10749),\n",
       " datetime.timedelta(days=1, seconds=3559),\n",
       " datetime.timedelta(seconds=3600),\n",
       " datetime.timedelta(seconds=8394),\n",
       " datetime.timedelta(seconds=14788),\n",
       " datetime.timedelta(seconds=9683),\n",
       " datetime.timedelta(seconds=21330),\n",
       " datetime.timedelta(seconds=84162),\n",
       " datetime.timedelta(seconds=3829),\n",
       " datetime.timedelta(seconds=6916),\n",
       " datetime.timedelta(seconds=7154),\n",
       " datetime.timedelta(seconds=16980),\n",
       " datetime.timedelta(seconds=10200),\n",
       " datetime.timedelta(days=4, seconds=72580),\n",
       " datetime.timedelta(seconds=14821),\n",
       " datetime.timedelta(seconds=22188),\n",
       " datetime.timedelta(days=2, seconds=78696),\n",
       " datetime.timedelta(seconds=5744),\n",
       " datetime.timedelta(seconds=85250),\n",
       " datetime.timedelta(days=4, seconds=81059),\n",
       " datetime.timedelta(days=1, seconds=1439),\n",
       " datetime.timedelta(days=3, seconds=10739),\n",
       " datetime.timedelta(seconds=15612),\n",
       " datetime.timedelta(seconds=8188),\n",
       " datetime.timedelta(seconds=58915),\n",
       " datetime.timedelta(seconds=19650),\n",
       " datetime.timedelta(seconds=8752),\n",
       " datetime.timedelta(seconds=22979),\n",
       " datetime.timedelta(seconds=14879),\n",
       " datetime.timedelta(seconds=16891),\n",
       " datetime.timedelta(seconds=2804),\n",
       " datetime.timedelta(seconds=22716),\n",
       " datetime.timedelta(days=5, seconds=4335),\n",
       " datetime.timedelta(seconds=12741),\n",
       " datetime.timedelta(seconds=14481),\n",
       " datetime.timedelta(days=3, seconds=24740),\n",
       " datetime.timedelta(days=1, seconds=38208),\n",
       " datetime.timedelta(seconds=7458),\n",
       " datetime.timedelta(seconds=2577),\n",
       " datetime.timedelta(seconds=69407),\n",
       " datetime.timedelta(seconds=3419),\n",
       " datetime.timedelta(seconds=14065),\n",
       " datetime.timedelta(days=1, seconds=14517),\n",
       " datetime.timedelta(seconds=38375),\n",
       " datetime.timedelta(days=1, seconds=22923),\n",
       " datetime.timedelta(days=3, seconds=14418),\n",
       " datetime.timedelta(seconds=15523),\n",
       " datetime.timedelta(seconds=71917),\n",
       " datetime.timedelta(days=1, seconds=84898),\n",
       " datetime.timedelta(days=2, seconds=81493),\n",
       " datetime.timedelta(seconds=18899),\n",
       " datetime.timedelta(days=5, seconds=1577),\n",
       " datetime.timedelta(seconds=16334),\n",
       " datetime.timedelta(seconds=83888),\n",
       " datetime.timedelta(seconds=20408),\n",
       " datetime.timedelta(seconds=11838),\n",
       " datetime.timedelta(days=3, seconds=17320),\n",
       " datetime.timedelta(seconds=840),\n",
       " datetime.timedelta(seconds=85053),\n",
       " datetime.timedelta(days=1, seconds=764),\n",
       " datetime.timedelta(seconds=8647),\n",
       " datetime.timedelta(seconds=16793),\n",
       " datetime.timedelta(seconds=5249),\n",
       " datetime.timedelta(seconds=46178),\n",
       " datetime.timedelta(seconds=64729),\n",
       " datetime.timedelta(days=1, seconds=176),\n",
       " datetime.timedelta(seconds=86353),\n",
       " datetime.timedelta(seconds=4986),\n",
       " datetime.timedelta(days=5, seconds=11360),\n",
       " datetime.timedelta(seconds=79330),\n",
       " datetime.timedelta(days=3, seconds=15448),\n",
       " datetime.timedelta(days=2, seconds=24873),\n",
       " datetime.timedelta(seconds=7426),\n",
       " datetime.timedelta(days=3, seconds=19640),\n",
       " datetime.timedelta(seconds=12179),\n",
       " datetime.timedelta(seconds=4518),\n",
       " datetime.timedelta(seconds=1714),\n",
       " datetime.timedelta(seconds=78685),\n",
       " datetime.timedelta(seconds=66762),\n",
       " datetime.timedelta(seconds=10481),\n",
       " datetime.timedelta(seconds=81689),\n",
       " datetime.timedelta(seconds=2314),\n",
       " datetime.timedelta(seconds=71130),\n",
       " datetime.timedelta(days=2, seconds=62747),\n",
       " datetime.timedelta(seconds=3245),\n",
       " datetime.timedelta(seconds=74635),\n",
       " datetime.timedelta(seconds=9261),\n",
       " datetime.timedelta(seconds=84745),\n",
       " datetime.timedelta(seconds=77056),\n",
       " datetime.timedelta(seconds=3057),\n",
       " datetime.timedelta(seconds=18628),\n",
       " datetime.timedelta(days=2, seconds=73739),\n",
       " datetime.timedelta(days=1, seconds=7288),\n",
       " datetime.timedelta(seconds=18446),\n",
       " datetime.timedelta(days=1, seconds=32373),\n",
       " datetime.timedelta(seconds=16762),\n",
       " datetime.timedelta(days=3, seconds=4786),\n",
       " datetime.timedelta(days=1, seconds=21810),\n",
       " datetime.timedelta(days=1, seconds=85698),\n",
       " datetime.timedelta(days=5, seconds=135),\n",
       " datetime.timedelta(seconds=13664),\n",
       " datetime.timedelta(seconds=12357),\n",
       " datetime.timedelta(seconds=26493),\n",
       " datetime.timedelta(seconds=12811),\n",
       " datetime.timedelta(days=3, seconds=6445),\n",
       " datetime.timedelta(seconds=85571),\n",
       " datetime.timedelta(seconds=79414),\n",
       " datetime.timedelta(seconds=33391),\n",
       " datetime.timedelta(days=4, seconds=85330),\n",
       " datetime.timedelta(seconds=16180),\n",
       " datetime.timedelta(seconds=2366),\n",
       " datetime.timedelta(days=2, seconds=22318),\n",
       " datetime.timedelta(seconds=79780),\n",
       " datetime.timedelta(seconds=20748),\n",
       " datetime.timedelta(seconds=8682),\n",
       " datetime.timedelta(days=2, seconds=25733),\n",
       " datetime.timedelta(seconds=1210),\n",
       " datetime.timedelta(seconds=20228),\n",
       " datetime.timedelta(seconds=5445),\n",
       " datetime.timedelta(days=5, seconds=10165),\n",
       " datetime.timedelta(seconds=17606),\n",
       " datetime.timedelta(seconds=2684),\n",
       " datetime.timedelta(seconds=8863),\n",
       " datetime.timedelta(days=4, seconds=86293),\n",
       " datetime.timedelta(days=3, seconds=3501),\n",
       " datetime.timedelta(days=4, seconds=67784),\n",
       " datetime.timedelta(days=4, seconds=60021),\n",
       " datetime.timedelta(seconds=5508),\n",
       " datetime.timedelta(days=1, seconds=39329),\n",
       " datetime.timedelta(seconds=1210),\n",
       " datetime.timedelta(days=4, seconds=81783),\n",
       " datetime.timedelta(seconds=12024),\n",
       " datetime.timedelta(seconds=65512),\n",
       " datetime.timedelta(days=5, seconds=5792),\n",
       " datetime.timedelta(days=2, seconds=67834),\n",
       " datetime.timedelta(seconds=11537),\n",
       " datetime.timedelta(seconds=73769),\n",
       " datetime.timedelta(seconds=13628),\n",
       " datetime.timedelta(seconds=19790),\n",
       " datetime.timedelta(seconds=85936),\n",
       " datetime.timedelta(seconds=65514),\n",
       " datetime.timedelta(seconds=2358),\n",
       " datetime.timedelta(days=3, seconds=81725),\n",
       " datetime.timedelta(seconds=1896),\n",
       " datetime.timedelta(seconds=85874),\n",
       " datetime.timedelta(seconds=70219),\n",
       " datetime.timedelta(seconds=11900),\n",
       " datetime.timedelta(seconds=15158),\n",
       " datetime.timedelta(days=1, seconds=1735),\n",
       " datetime.timedelta(seconds=39341),\n",
       " datetime.timedelta(days=2, seconds=59224),\n",
       " datetime.timedelta(seconds=84375),\n",
       " datetime.timedelta(seconds=85268),\n",
       " datetime.timedelta(seconds=62046),\n",
       " datetime.timedelta(days=2, seconds=74963),\n",
       " datetime.timedelta(days=2, seconds=84263),\n",
       " datetime.timedelta(days=1, seconds=8665),\n",
       " datetime.timedelta(seconds=61260),\n",
       " datetime.timedelta(seconds=1772),\n",
       " datetime.timedelta(seconds=27490),\n",
       " datetime.timedelta(days=3, seconds=17467),\n",
       " datetime.timedelta(seconds=83115),\n",
       " datetime.timedelta(seconds=3535),\n",
       " datetime.timedelta(seconds=2999),\n",
       " datetime.timedelta(seconds=5618),\n",
       " datetime.timedelta(seconds=5277),\n",
       " datetime.timedelta(seconds=71159),\n",
       " datetime.timedelta(seconds=8152),\n",
       " datetime.timedelta(seconds=18145),\n",
       " datetime.timedelta(days=4, seconds=73937),\n",
       " datetime.timedelta(seconds=3133),\n",
       " datetime.timedelta(days=1, seconds=49),\n",
       " datetime.timedelta(days=2, seconds=86075),\n",
       " datetime.timedelta(days=3, seconds=15325),\n",
       " datetime.timedelta(seconds=80744),\n",
       " datetime.timedelta(seconds=34560),\n",
       " datetime.timedelta(days=1, seconds=12458),\n",
       " datetime.timedelta(days=2, seconds=57726),\n",
       " datetime.timedelta(seconds=7976),\n",
       " datetime.timedelta(seconds=2284),\n",
       " datetime.timedelta(seconds=62287),\n",
       " datetime.timedelta(days=5, seconds=8813),\n",
       " datetime.timedelta(days=1, seconds=63674),\n",
       " datetime.timedelta(seconds=18298),\n",
       " datetime.timedelta(seconds=84177),\n",
       " datetime.timedelta(seconds=8600),\n",
       " datetime.timedelta(seconds=5535),\n",
       " datetime.timedelta(days=4, seconds=62565),\n",
       " datetime.timedelta(days=1, seconds=9199),\n",
       " datetime.timedelta(seconds=13806),\n",
       " datetime.timedelta(seconds=24452),\n",
       " datetime.timedelta(seconds=82612),\n",
       " datetime.timedelta(days=1, seconds=698),\n",
       " datetime.timedelta(seconds=5502),\n",
       " datetime.timedelta(seconds=18891),\n",
       " datetime.timedelta(days=4, seconds=75433),\n",
       " datetime.timedelta(seconds=85105),\n",
       " datetime.timedelta(seconds=1801),\n",
       " datetime.timedelta(seconds=11772),\n",
       " datetime.timedelta(seconds=10389),\n",
       " datetime.timedelta(days=3, seconds=20612),\n",
       " datetime.timedelta(days=1, seconds=1136),\n",
       " datetime.timedelta(seconds=7997),\n",
       " datetime.timedelta(seconds=85492),\n",
       " datetime.timedelta(days=2, seconds=83700),\n",
       " datetime.timedelta(days=5, seconds=4886),\n",
       " datetime.timedelta(seconds=1146),\n",
       " datetime.timedelta(days=3, seconds=7862),\n",
       " datetime.timedelta(days=1, seconds=6650),\n",
       " datetime.timedelta(seconds=12303),\n",
       " datetime.timedelta(seconds=897),\n",
       " datetime.timedelta(days=2, seconds=81553),\n",
       " datetime.timedelta(days=2, seconds=18635),\n",
       " datetime.timedelta(seconds=10463),\n",
       " datetime.timedelta(seconds=5563),\n",
       " datetime.timedelta(seconds=55981),\n",
       " datetime.timedelta(days=4, seconds=65913),\n",
       " datetime.timedelta(seconds=2705),\n",
       " datetime.timedelta(seconds=11427),\n",
       " datetime.timedelta(seconds=1491),\n",
       " datetime.timedelta(days=1, seconds=2831),\n",
       " datetime.timedelta(seconds=8639),\n",
       " datetime.timedelta(days=5, seconds=1241),\n",
       " datetime.timedelta(days=1, seconds=36877),\n",
       " datetime.timedelta(seconds=34283),\n",
       " datetime.timedelta(days=1, seconds=1588),\n",
       " datetime.timedelta(days=5, seconds=2027),\n",
       " datetime.timedelta(days=1, seconds=7732),\n",
       " datetime.timedelta(days=3, seconds=8307),\n",
       " datetime.timedelta(seconds=6451),\n",
       " datetime.timedelta(days=3, seconds=1674),\n",
       " datetime.timedelta(days=2, seconds=36004),\n",
       " datetime.timedelta(seconds=3339),\n",
       " datetime.timedelta(seconds=12164),\n",
       " datetime.timedelta(seconds=2647),\n",
       " datetime.timedelta(seconds=74256),\n",
       " datetime.timedelta(seconds=4837),\n",
       " datetime.timedelta(days=1, seconds=2930),\n",
       " datetime.timedelta(seconds=2081),\n",
       " datetime.timedelta(days=3, seconds=137),\n",
       " datetime.timedelta(seconds=34590),\n",
       " datetime.timedelta(days=1, seconds=16183),\n",
       " datetime.timedelta(days=3, seconds=20014),\n",
       " datetime.timedelta(days=2, seconds=20573),\n",
       " datetime.timedelta(seconds=85645),\n",
       " datetime.timedelta(seconds=41001),\n",
       " datetime.timedelta(days=1, seconds=3886),\n",
       " datetime.timedelta(days=1, seconds=948),\n",
       " datetime.timedelta(days=1, seconds=5898),\n",
       " datetime.timedelta(seconds=85742),\n",
       " datetime.timedelta(days=4, seconds=68569),\n",
       " datetime.timedelta(seconds=84221),\n",
       " datetime.timedelta(days=2, seconds=57000),\n",
       " datetime.timedelta(seconds=4625),\n",
       " datetime.timedelta(seconds=2239),\n",
       " datetime.timedelta(seconds=38045),\n",
       " datetime.timedelta(days=2, seconds=70894),\n",
       " datetime.timedelta(days=1, seconds=79687),\n",
       " datetime.timedelta(days=3, seconds=950),\n",
       " datetime.timedelta(seconds=86070),\n",
       " datetime.timedelta(seconds=1208),\n",
       " datetime.timedelta(days=5, seconds=34014),\n",
       " datetime.timedelta(seconds=11893),\n",
       " datetime.timedelta(days=4, seconds=75679),\n",
       " datetime.timedelta(seconds=12206),\n",
       " datetime.timedelta(seconds=6147),\n",
       " datetime.timedelta(seconds=5521),\n",
       " datetime.timedelta(seconds=83428),\n",
       " datetime.timedelta(days=1, seconds=4947),\n",
       " datetime.timedelta(seconds=86393),\n",
       " datetime.timedelta(seconds=54963),\n",
       " datetime.timedelta(seconds=56481),\n",
       " datetime.timedelta(days=1, seconds=3478),\n",
       " datetime.timedelta(days=2, seconds=417),\n",
       " datetime.timedelta(seconds=5388),\n",
       " datetime.timedelta(seconds=26708),\n",
       " datetime.timedelta(seconds=86114),\n",
       " datetime.timedelta(seconds=1998),\n",
       " datetime.timedelta(days=1, seconds=6080),\n",
       " datetime.timedelta(days=1, seconds=14921),\n",
       " datetime.timedelta(days=2, seconds=85777),\n",
       " datetime.timedelta(seconds=1239),\n",
       " datetime.timedelta(seconds=73458),\n",
       " datetime.timedelta(seconds=10051),\n",
       " datetime.timedelta(days=2, seconds=85867),\n",
       " datetime.timedelta(seconds=9467),\n",
       " datetime.timedelta(days=4, seconds=45311),\n",
       " datetime.timedelta(days=5, seconds=587),\n",
       " datetime.timedelta(days=1, seconds=1702),\n",
       " datetime.timedelta(days=1, seconds=10037),\n",
       " datetime.timedelta(seconds=54402),\n",
       " datetime.timedelta(seconds=16035),\n",
       " datetime.timedelta(days=1, seconds=732),\n",
       " datetime.timedelta(seconds=15225),\n",
       " datetime.timedelta(days=2, seconds=15501),\n",
       " datetime.timedelta(days=3, seconds=2012),\n",
       " datetime.timedelta(days=1, seconds=3218),\n",
       " datetime.timedelta(days=1, seconds=553),\n",
       " datetime.timedelta(seconds=51996),\n",
       " datetime.timedelta(days=4, seconds=61729),\n",
       " datetime.timedelta(seconds=10478),\n",
       " datetime.timedelta(seconds=85331),\n",
       " datetime.timedelta(days=1, seconds=1256),\n",
       " datetime.timedelta(days=2, seconds=55766),\n",
       " datetime.timedelta(days=1, seconds=7158),\n",
       " datetime.timedelta(days=5, seconds=6984),\n",
       " datetime.timedelta(days=3, seconds=1253),\n",
       " datetime.timedelta(days=1, seconds=11103),\n",
       " datetime.timedelta(seconds=58454),\n",
       " datetime.timedelta(seconds=7920),\n",
       " datetime.timedelta(days=2, seconds=74081),\n",
       " datetime.timedelta(seconds=20100),\n",
       " datetime.timedelta(seconds=1460),\n",
       " datetime.timedelta(seconds=13375),\n",
       " datetime.timedelta(seconds=910),\n",
       " datetime.timedelta(seconds=1049),\n",
       " ...]"
      ]
     },
     "execution_count": 219,
     "metadata": {},
     "output_type": "execute_result"
    }
   ],
   "source": [
    "difflist  #(based on whether the first value was greater or the second value)"
   ]
  },
  {
   "cell_type": "code",
   "execution_count": 220,
   "metadata": {},
   "outputs": [],
   "source": [
    "##Above I have chosen the first two trips of all the people and calculated the time between those two trips\n",
    "##Now, we will calculate the average time spent by customers between their first two trips"
   ]
  },
  {
   "cell_type": "code",
   "execution_count": 223,
   "metadata": {},
   "outputs": [
    {
     "data": {
      "text/plain": [
       "datetime.timedelta(days=1, seconds=2829, microseconds=693538)"
      ]
     },
     "execution_count": 223,
     "metadata": {},
     "output_type": "execute_result"
    }
   ],
   "source": [
    "np.array(difflist).mean()"
   ]
  },
  {
   "cell_type": "code",
   "execution_count": null,
   "metadata": {},
   "outputs": [],
   "source": [
    "##WE can see that average duration between the 1st trip and the 2nd trip of customers is \n",
    "##days=1, seconds=2829, microseconds=693538"
   ]
  },
  {
   "cell_type": "raw",
   "metadata": {},
   "source": [
    "Part 3. Model building\n",
    "Build a model to predict trip_fare using travel_distance and travel_time. Measure the accuracy of the model and use the model to predict trip_fare for a trip with travel_distance of 3.5 kms and travel_time of 15 minutes."
   ]
  },
  {
   "cell_type": "code",
   "execution_count": 224,
   "metadata": {},
   "outputs": [
    {
     "data": {
      "text/html": [
       "<div>\n",
       "<style scoped>\n",
       "    .dataframe tbody tr th:only-of-type {\n",
       "        vertical-align: middle;\n",
       "    }\n",
       "\n",
       "    .dataframe tbody tr th {\n",
       "        vertical-align: top;\n",
       "    }\n",
       "\n",
       "    .dataframe thead th {\n",
       "        text-align: right;\n",
       "    }\n",
       "</style>\n",
       "<table border=\"1\" class=\"dataframe\">\n",
       "  <thead>\n",
       "    <tr style=\"text-align: right;\">\n",
       "      <th></th>\n",
       "      <th>trip_id</th>\n",
       "      <th>customer_id</th>\n",
       "      <th>timestamp</th>\n",
       "      <th>pick_lat</th>\n",
       "      <th>pick_lng</th>\n",
       "      <th>drop_lat</th>\n",
       "      <th>drop_lng</th>\n",
       "      <th>travel_distance</th>\n",
       "      <th>travel_time</th>\n",
       "      <th>trip_fare</th>\n",
       "    </tr>\n",
       "  </thead>\n",
       "  <tbody>\n",
       "    <tr>\n",
       "      <td>0</td>\n",
       "      <td>ID001</td>\n",
       "      <td>CUST_001</td>\n",
       "      <td>1546709270211</td>\n",
       "      <td>17.442705</td>\n",
       "      <td>78.387878</td>\n",
       "      <td>17.457829</td>\n",
       "      <td>78.399056</td>\n",
       "      <td>2.806</td>\n",
       "      <td>12.609667</td>\n",
       "      <td>37</td>\n",
       "    </tr>\n",
       "    <tr>\n",
       "      <td>1</td>\n",
       "      <td>ID002</td>\n",
       "      <td>CUST_002</td>\n",
       "      <td>1546709309524</td>\n",
       "      <td>17.490189</td>\n",
       "      <td>78.415512</td>\n",
       "      <td>17.450548</td>\n",
       "      <td>78.367294</td>\n",
       "      <td>11.991</td>\n",
       "      <td>24.075200</td>\n",
       "      <td>119</td>\n",
       "    </tr>\n",
       "    <tr>\n",
       "      <td>2</td>\n",
       "      <td>ID003</td>\n",
       "      <td>CUST_003</td>\n",
       "      <td>1546709331857</td>\n",
       "      <td>17.370108</td>\n",
       "      <td>78.515045</td>\n",
       "      <td>17.377041</td>\n",
       "      <td>78.517921</td>\n",
       "      <td>1.322</td>\n",
       "      <td>8.708300</td>\n",
       "      <td>27</td>\n",
       "    </tr>\n",
       "    <tr>\n",
       "      <td>3</td>\n",
       "      <td>ID004</td>\n",
       "      <td>CUST_004</td>\n",
       "      <td>1546709358403</td>\n",
       "      <td>17.439314</td>\n",
       "      <td>78.443001</td>\n",
       "      <td>17.397131</td>\n",
       "      <td>78.516586</td>\n",
       "      <td>11.822</td>\n",
       "      <td>24.037550</td>\n",
       "      <td>121</td>\n",
       "    </tr>\n",
       "    <tr>\n",
       "      <td>4</td>\n",
       "      <td>ID005</td>\n",
       "      <td>CUST_005</td>\n",
       "      <td>1546709386884</td>\n",
       "      <td>17.432325</td>\n",
       "      <td>78.381966</td>\n",
       "      <td>17.401625</td>\n",
       "      <td>78.400032</td>\n",
       "      <td>6.978</td>\n",
       "      <td>16.120867</td>\n",
       "      <td>58</td>\n",
       "    </tr>\n",
       "  </tbody>\n",
       "</table>\n",
       "</div>"
      ],
      "text/plain": [
       "  trip_id customer_id      timestamp   pick_lat   pick_lng   drop_lat  \\\n",
       "0   ID001    CUST_001  1546709270211  17.442705  78.387878  17.457829   \n",
       "1   ID002    CUST_002  1546709309524  17.490189  78.415512  17.450548   \n",
       "2   ID003    CUST_003  1546709331857  17.370108  78.515045  17.377041   \n",
       "3   ID004    CUST_004  1546709358403  17.439314  78.443001  17.397131   \n",
       "4   ID005    CUST_005  1546709386884  17.432325  78.381966  17.401625   \n",
       "\n",
       "    drop_lng  travel_distance  travel_time  trip_fare  \n",
       "0  78.399056            2.806    12.609667         37  \n",
       "1  78.367294           11.991    24.075200        119  \n",
       "2  78.517921            1.322     8.708300         27  \n",
       "3  78.516586           11.822    24.037550        121  \n",
       "4  78.400032            6.978    16.120867         58  "
      ]
     },
     "execution_count": 224,
     "metadata": {},
     "output_type": "execute_result"
    }
   ],
   "source": [
    "df.head()"
   ]
  },
  {
   "cell_type": "code",
   "execution_count": 226,
   "metadata": {},
   "outputs": [],
   "source": [
    "data = df[['trip_fare','travel_distance','travel_time']]"
   ]
  },
  {
   "cell_type": "code",
   "execution_count": 227,
   "metadata": {},
   "outputs": [
    {
     "data": {
      "text/html": [
       "<div>\n",
       "<style scoped>\n",
       "    .dataframe tbody tr th:only-of-type {\n",
       "        vertical-align: middle;\n",
       "    }\n",
       "\n",
       "    .dataframe tbody tr th {\n",
       "        vertical-align: top;\n",
       "    }\n",
       "\n",
       "    .dataframe thead th {\n",
       "        text-align: right;\n",
       "    }\n",
       "</style>\n",
       "<table border=\"1\" class=\"dataframe\">\n",
       "  <thead>\n",
       "    <tr style=\"text-align: right;\">\n",
       "      <th></th>\n",
       "      <th>trip_fare</th>\n",
       "      <th>travel_distance</th>\n",
       "      <th>travel_time</th>\n",
       "    </tr>\n",
       "  </thead>\n",
       "  <tbody>\n",
       "    <tr>\n",
       "      <td>0</td>\n",
       "      <td>37</td>\n",
       "      <td>2.806</td>\n",
       "      <td>12.609667</td>\n",
       "    </tr>\n",
       "    <tr>\n",
       "      <td>1</td>\n",
       "      <td>119</td>\n",
       "      <td>11.991</td>\n",
       "      <td>24.075200</td>\n",
       "    </tr>\n",
       "    <tr>\n",
       "      <td>2</td>\n",
       "      <td>27</td>\n",
       "      <td>1.322</td>\n",
       "      <td>8.708300</td>\n",
       "    </tr>\n",
       "    <tr>\n",
       "      <td>3</td>\n",
       "      <td>121</td>\n",
       "      <td>11.822</td>\n",
       "      <td>24.037550</td>\n",
       "    </tr>\n",
       "    <tr>\n",
       "      <td>4</td>\n",
       "      <td>58</td>\n",
       "      <td>6.978</td>\n",
       "      <td>16.120867</td>\n",
       "    </tr>\n",
       "  </tbody>\n",
       "</table>\n",
       "</div>"
      ],
      "text/plain": [
       "   trip_fare  travel_distance  travel_time\n",
       "0         37            2.806    12.609667\n",
       "1        119           11.991    24.075200\n",
       "2         27            1.322     8.708300\n",
       "3        121           11.822    24.037550\n",
       "4         58            6.978    16.120867"
      ]
     },
     "execution_count": 227,
     "metadata": {},
     "output_type": "execute_result"
    }
   ],
   "source": [
    "data.head()"
   ]
  },
  {
   "cell_type": "code",
   "execution_count": 229,
   "metadata": {},
   "outputs": [],
   "source": [
    "y = data['trip_fare']\n",
    "X = data.drop(columns='trip_fare')"
   ]
  },
  {
   "cell_type": "code",
   "execution_count": 233,
   "metadata": {},
   "outputs": [
    {
     "data": {
      "text/html": [
       "<div>\n",
       "<style scoped>\n",
       "    .dataframe tbody tr th:only-of-type {\n",
       "        vertical-align: middle;\n",
       "    }\n",
       "\n",
       "    .dataframe tbody tr th {\n",
       "        vertical-align: top;\n",
       "    }\n",
       "\n",
       "    .dataframe thead th {\n",
       "        text-align: right;\n",
       "    }\n",
       "</style>\n",
       "<table border=\"1\" class=\"dataframe\">\n",
       "  <thead>\n",
       "    <tr style=\"text-align: right;\">\n",
       "      <th></th>\n",
       "      <th>travel_distance</th>\n",
       "      <th>travel_time</th>\n",
       "    </tr>\n",
       "  </thead>\n",
       "  <tbody>\n",
       "    <tr>\n",
       "      <td>0</td>\n",
       "      <td>2.806</td>\n",
       "      <td>12.609667</td>\n",
       "    </tr>\n",
       "    <tr>\n",
       "      <td>1</td>\n",
       "      <td>11.991</td>\n",
       "      <td>24.075200</td>\n",
       "    </tr>\n",
       "    <tr>\n",
       "      <td>2</td>\n",
       "      <td>1.322</td>\n",
       "      <td>8.708300</td>\n",
       "    </tr>\n",
       "    <tr>\n",
       "      <td>3</td>\n",
       "      <td>11.822</td>\n",
       "      <td>24.037550</td>\n",
       "    </tr>\n",
       "    <tr>\n",
       "      <td>4</td>\n",
       "      <td>6.978</td>\n",
       "      <td>16.120867</td>\n",
       "    </tr>\n",
       "  </tbody>\n",
       "</table>\n",
       "</div>"
      ],
      "text/plain": [
       "   travel_distance  travel_time\n",
       "0            2.806    12.609667\n",
       "1           11.991    24.075200\n",
       "2            1.322     8.708300\n",
       "3           11.822    24.037550\n",
       "4            6.978    16.120867"
      ]
     },
     "execution_count": 233,
     "metadata": {},
     "output_type": "execute_result"
    }
   ],
   "source": [
    "X.head()"
   ]
  },
  {
   "cell_type": "code",
   "execution_count": null,
   "metadata": {},
   "outputs": [],
   "source": [
    "##We'll be building a linear regression model\n",
    "##Let us build a stats model first, to understand which variables are of importance here\n",
    "##The accuracy in case of Linear Regression is given by the Rsquare achieved (adjusted Rsquare is a measure obtained after\n",
    "#dropping the importance of the variables which are overfitting the model--but it does not neccessarily mean that the overfit\n",
    "#would have been removed)"
   ]
  },
  {
   "cell_type": "code",
   "execution_count": 230,
   "metadata": {},
   "outputs": [
    {
     "data": {
      "text/html": [
       "<table class=\"simpletable\">\n",
       "<caption>OLS Regression Results</caption>\n",
       "<tr>\n",
       "  <th>Dep. Variable:</th>        <td>trip_fare</td>    <th>  R-squared (uncentered):</th>       <td>   0.936</td>  \n",
       "</tr>\n",
       "<tr>\n",
       "  <th>Model:</th>                   <td>OLS</td>       <th>  Adj. R-squared (uncentered):</th>  <td>   0.936</td>  \n",
       "</tr>\n",
       "<tr>\n",
       "  <th>Method:</th>             <td>Least Squares</td>  <th>  F-statistic:       </th>           <td>3.269e+05</td> \n",
       "</tr>\n",
       "<tr>\n",
       "  <th>Date:</th>             <td>Fri, 21 Feb 2020</td> <th>  Prob (F-statistic):</th>            <td>  0.00</td>   \n",
       "</tr>\n",
       "<tr>\n",
       "  <th>Time:</th>                 <td>20:37:04</td>     <th>  Log-Likelihood:    </th>          <td>-1.8694e+05</td>\n",
       "</tr>\n",
       "<tr>\n",
       "  <th>No. Observations:</th>      <td> 44587</td>      <th>  AIC:               </th>           <td>3.739e+05</td> \n",
       "</tr>\n",
       "<tr>\n",
       "  <th>Df Residuals:</th>          <td> 44585</td>      <th>  BIC:               </th>           <td>3.739e+05</td> \n",
       "</tr>\n",
       "<tr>\n",
       "  <th>Df Model:</th>              <td>     2</td>      <th>                     </th>               <td> </td>     \n",
       "</tr>\n",
       "<tr>\n",
       "  <th>Covariance Type:</th>      <td>nonrobust</td>    <th>                     </th>               <td> </td>     \n",
       "</tr>\n",
       "</table>\n",
       "<table class=\"simpletable\">\n",
       "<tr>\n",
       "         <td></td>            <th>coef</th>     <th>std err</th>      <th>t</th>      <th>P>|t|</th>  <th>[0.025</th>    <th>0.975]</th>  \n",
       "</tr>\n",
       "<tr>\n",
       "  <th>travel_distance</th> <td>    9.9281</td> <td>    0.016</td> <td>  616.496</td> <td> 0.000</td> <td>    9.896</td> <td>    9.960</td>\n",
       "</tr>\n",
       "<tr>\n",
       "  <th>travel_time</th>     <td>    0.0403</td> <td>    0.003</td> <td>   11.585</td> <td> 0.000</td> <td>    0.033</td> <td>    0.047</td>\n",
       "</tr>\n",
       "</table>\n",
       "<table class=\"simpletable\">\n",
       "<tr>\n",
       "  <th>Omnibus:</th>       <td>141131.851</td> <th>  Durbin-Watson:     </th>    <td>   1.953</td>    \n",
       "</tr>\n",
       "<tr>\n",
       "  <th>Prob(Omnibus):</th>   <td> 0.000</td>   <th>  Jarque-Bera (JB):  </th> <td>28290182180.151</td>\n",
       "</tr>\n",
       "<tr>\n",
       "  <th>Skew:</th>            <td>50.808</td>   <th>  Prob(JB):          </th>    <td>    0.00</td>    \n",
       "</tr>\n",
       "<tr>\n",
       "  <th>Kurtosis:</th>       <td>3903.965</td>  <th>  Cond. No.          </th>    <td>    6.12</td>    \n",
       "</tr>\n",
       "</table><br/><br/>Warnings:<br/>[1] Standard Errors assume that the covariance matrix of the errors is correctly specified."
      ],
      "text/plain": [
       "<class 'statsmodels.iolib.summary.Summary'>\n",
       "\"\"\"\n",
       "                                 OLS Regression Results                                \n",
       "=======================================================================================\n",
       "Dep. Variable:              trip_fare   R-squared (uncentered):                   0.936\n",
       "Model:                            OLS   Adj. R-squared (uncentered):              0.936\n",
       "Method:                 Least Squares   F-statistic:                          3.269e+05\n",
       "Date:                Fri, 21 Feb 2020   Prob (F-statistic):                        0.00\n",
       "Time:                        20:37:04   Log-Likelihood:                     -1.8694e+05\n",
       "No. Observations:               44587   AIC:                                  3.739e+05\n",
       "Df Residuals:                   44585   BIC:                                  3.739e+05\n",
       "Df Model:                           2                                                  \n",
       "Covariance Type:            nonrobust                                                  \n",
       "===================================================================================\n",
       "                      coef    std err          t      P>|t|      [0.025      0.975]\n",
       "-----------------------------------------------------------------------------------\n",
       "travel_distance     9.9281      0.016    616.496      0.000       9.896       9.960\n",
       "travel_time         0.0403      0.003     11.585      0.000       0.033       0.047\n",
       "==============================================================================\n",
       "Omnibus:                   141131.851   Durbin-Watson:                   1.953\n",
       "Prob(Omnibus):                  0.000   Jarque-Bera (JB):      28290182180.151\n",
       "Skew:                          50.808   Prob(JB):                         0.00\n",
       "Kurtosis:                    3903.965   Cond. No.                         6.12\n",
       "==============================================================================\n",
       "\n",
       "Warnings:\n",
       "[1] Standard Errors assume that the covariance matrix of the errors is correctly specified.\n",
       "\"\"\""
      ]
     },
     "execution_count": 230,
     "metadata": {},
     "output_type": "execute_result"
    }
   ],
   "source": [
    "import warnings \n",
    "warnings.filterwarnings('ignore')\n",
    "import statsmodels.api as sm\n",
    "\n",
    "model1 = sm.OLS(y,X).fit()\n",
    "model1.summary()"
   ]
  },
  {
   "cell_type": "code",
   "execution_count": 251,
   "metadata": {},
   "outputs": [
    {
     "data": {
      "text/plain": [
       "0         28.365685\n",
       "1        120.016373\n",
       "2         13.475415\n",
       "3        118.337016\n",
       "4         69.926859\n",
       "            ...    \n",
       "44582     56.748551\n",
       "44583     92.973508\n",
       "44584     55.155917\n",
       "44585     23.665713\n",
       "44586     32.094687\n",
       "Length: 44587, dtype: float64"
      ]
     },
     "execution_count": 251,
     "metadata": {},
     "output_type": "execute_result"
    }
   ],
   "source": [
    "model1.predict(X)"
   ]
  },
  {
   "cell_type": "code",
   "execution_count": 254,
   "metadata": {},
   "outputs": [],
   "source": [
    "y_train_pred = model1.predict(X)"
   ]
  },
  {
   "cell_type": "code",
   "execution_count": 252,
   "metadata": {},
   "outputs": [
    {
     "data": {
      "text/html": [
       "<div>\n",
       "<style scoped>\n",
       "    .dataframe tbody tr th:only-of-type {\n",
       "        vertical-align: middle;\n",
       "    }\n",
       "\n",
       "    .dataframe tbody tr th {\n",
       "        vertical-align: top;\n",
       "    }\n",
       "\n",
       "    .dataframe thead th {\n",
       "        text-align: right;\n",
       "    }\n",
       "</style>\n",
       "<table border=\"1\" class=\"dataframe\">\n",
       "  <thead>\n",
       "    <tr style=\"text-align: right;\">\n",
       "      <th></th>\n",
       "      <th>travel_distance</th>\n",
       "      <th>travel_time</th>\n",
       "    </tr>\n",
       "  </thead>\n",
       "  <tbody>\n",
       "    <tr>\n",
       "      <td>0</td>\n",
       "      <td>3.5</td>\n",
       "      <td>15.0</td>\n",
       "    </tr>\n",
       "  </tbody>\n",
       "</table>\n",
       "</div>"
      ],
      "text/plain": [
       "   travel_distance  travel_time\n",
       "0              3.5         15.0"
      ]
     },
     "execution_count": 252,
     "metadata": {},
     "output_type": "execute_result"
    }
   ],
   "source": [
    "X_test = pd.DataFrame(data=[3.5,15]).T.rename(columns={0:'travel_distance',1:'travel_time'})\n",
    "X_test"
   ]
  },
  {
   "cell_type": "code",
   "execution_count": 253,
   "metadata": {},
   "outputs": [
    {
     "data": {
      "text/plain": [
       "0    35.35197\n",
       "dtype: float64"
      ]
     },
     "execution_count": 253,
     "metadata": {},
     "output_type": "execute_result"
    }
   ],
   "source": [
    "model1.predict(X_test)"
   ]
  },
  {
   "cell_type": "code",
   "execution_count": 255,
   "metadata": {},
   "outputs": [
    {
     "data": {
      "text/plain": [
       "16.019099546373564"
      ]
     },
     "execution_count": 255,
     "metadata": {},
     "output_type": "execute_result"
    }
   ],
   "source": [
    "from sklearn.metrics import mean_squared_error\n",
    "\n",
    "np.sqrt(mean_squared_error(y,y_train_pred))"
   ]
  },
  {
   "cell_type": "code",
   "execution_count": null,
   "metadata": {},
   "outputs": [],
   "source": [
    "##Above we see the predicted trip_fare for a trip with travel_distance of 3.5 kms and travel_time of 15 minutes"
   ]
  },
  {
   "cell_type": "code",
   "execution_count": null,
   "metadata": {},
   "outputs": [],
   "source": [
    "##So, we see that the Rsquare and the adjusted Rsquare is the same, which basically means that none of the variables were\n",
    "#causing any overfit, and that the variables were not correlated(which we also saw using a Heatmap in the beginning)"
   ]
  },
  {
   "cell_type": "code",
   "execution_count": null,
   "metadata": {},
   "outputs": [],
   "source": [
    "##Now, let's build a machine learning model so we can predict out value"
   ]
  },
  {
   "cell_type": "code",
   "execution_count": 232,
   "metadata": {},
   "outputs": [
    {
     "data": {
      "text/plain": [
       "LinearRegression(copy_X=True, fit_intercept=True, n_jobs=None, normalize=False)"
      ]
     },
     "execution_count": 232,
     "metadata": {},
     "output_type": "execute_result"
    }
   ],
   "source": [
    "from sklearn.linear_model import LinearRegression\n",
    "lr = LinearRegression()\n",
    "\n",
    "lr.fit(X,y)"
   ]
  },
  {
   "cell_type": "code",
   "execution_count": 243,
   "metadata": {},
   "outputs": [
    {
     "data": {
      "text/html": [
       "<div>\n",
       "<style scoped>\n",
       "    .dataframe tbody tr th:only-of-type {\n",
       "        vertical-align: middle;\n",
       "    }\n",
       "\n",
       "    .dataframe tbody tr th {\n",
       "        vertical-align: top;\n",
       "    }\n",
       "\n",
       "    .dataframe thead th {\n",
       "        text-align: right;\n",
       "    }\n",
       "</style>\n",
       "<table border=\"1\" class=\"dataframe\">\n",
       "  <thead>\n",
       "    <tr style=\"text-align: right;\">\n",
       "      <th></th>\n",
       "      <th>travel_distance</th>\n",
       "      <th>travel_time</th>\n",
       "    </tr>\n",
       "  </thead>\n",
       "  <tbody>\n",
       "    <tr>\n",
       "      <td>0</td>\n",
       "      <td>3.5</td>\n",
       "      <td>15.0</td>\n",
       "    </tr>\n",
       "  </tbody>\n",
       "</table>\n",
       "</div>"
      ],
      "text/plain": [
       "   travel_distance  travel_time\n",
       "0              3.5         15.0"
      ]
     },
     "execution_count": 243,
     "metadata": {},
     "output_type": "execute_result"
    }
   ],
   "source": [
    "X_test = pd.DataFrame(data=[3.5,15]).T.rename(columns={0:'travel_distance',1:'travel_time'})\n",
    "X_test"
   ]
  },
  {
   "cell_type": "code",
   "execution_count": 247,
   "metadata": {},
   "outputs": [],
   "source": [
    "result = lr.fit(X,y)\n",
    "y_test_pred = lr.predict(X_test)\n",
    "y_train_pred = lr.predict(X)"
   ]
  },
  {
   "cell_type": "code",
   "execution_count": null,
   "metadata": {},
   "outputs": [],
   "source": [
    "##The trip_fare for a trip with travel_distance of 3.5 kms and travel_time of 15 minutes is shown below:"
   ]
  },
  {
   "cell_type": "code",
   "execution_count": 248,
   "metadata": {},
   "outputs": [
    {
     "data": {
      "text/plain": [
       "array([39.86947432])"
      ]
     },
     "execution_count": 248,
     "metadata": {},
     "output_type": "execute_result"
    }
   ],
   "source": [
    "y_test_pred"
   ]
  },
  {
   "cell_type": "code",
   "execution_count": null,
   "metadata": {},
   "outputs": [],
   "source": [
    "##Accuracy of the Machine Learning (regression) model is shown below:"
   ]
  },
  {
   "cell_type": "code",
   "execution_count": 249,
   "metadata": {},
   "outputs": [
    {
     "data": {
      "text/plain": [
       "0.7913035202471503"
      ]
     },
     "execution_count": 249,
     "metadata": {},
     "output_type": "execute_result"
    }
   ],
   "source": [
    "from sklearn.metrics import r2_score\n",
    "r2_score(y,y_train_pred)"
   ]
  },
  {
   "cell_type": "code",
   "execution_count": null,
   "metadata": {},
   "outputs": [],
   "source": [
    "##Root mean square error for the Model built, is show below:"
   ]
  },
  {
   "cell_type": "code",
   "execution_count": 250,
   "metadata": {},
   "outputs": [
    {
     "data": {
      "text/plain": [
       "15.271970438765711"
      ]
     },
     "execution_count": 250,
     "metadata": {},
     "output_type": "execute_result"
    }
   ],
   "source": [
    "from sklearn.metrics import mean_squared_error\n",
    "\n",
    "np.sqrt(mean_squared_error(y,y_train_pred))"
   ]
  },
  {
   "cell_type": "code",
   "execution_count": null,
   "metadata": {},
   "outputs": [],
   "source": [
    "##So, above we saw that the predicted values given by the stats model and the machine learning regression were different\n",
    "##And that was because the accuracy achieved in both the cases were different\n",
    "##Ideally, we desire a model that has high accuracy (Rsquare) without overfit, and a lower RMSE\n",
    "##So, we see that on building the machine learning model, the RMSE does decrease by a little amount, but the Rsquare\n",
    "#decreases by a large amount\n",
    "##so, in this particular case, we will select our Statistics Model as the preferred one"
   ]
  },
  {
   "cell_type": "raw",
   "metadata": {},
   "source": [
    "Part 4. Top Hex clusters\n",
    "Top 5 pairs of hex (resolution=8) clusters where most of the trips happened? You can refer to the library listed below to get hexid for a given latitude and longitude.\n"
   ]
  },
  {
   "cell_type": "code",
   "execution_count": 256,
   "metadata": {},
   "outputs": [
    {
     "data": {
      "text/html": [
       "<div>\n",
       "<style scoped>\n",
       "    .dataframe tbody tr th:only-of-type {\n",
       "        vertical-align: middle;\n",
       "    }\n",
       "\n",
       "    .dataframe tbody tr th {\n",
       "        vertical-align: top;\n",
       "    }\n",
       "\n",
       "    .dataframe thead th {\n",
       "        text-align: right;\n",
       "    }\n",
       "</style>\n",
       "<table border=\"1\" class=\"dataframe\">\n",
       "  <thead>\n",
       "    <tr style=\"text-align: right;\">\n",
       "      <th></th>\n",
       "      <th>trip_id</th>\n",
       "      <th>customer_id</th>\n",
       "      <th>timestamp</th>\n",
       "      <th>pick_lat</th>\n",
       "      <th>pick_lng</th>\n",
       "      <th>drop_lat</th>\n",
       "      <th>drop_lng</th>\n",
       "      <th>travel_distance</th>\n",
       "      <th>travel_time</th>\n",
       "      <th>trip_fare</th>\n",
       "    </tr>\n",
       "  </thead>\n",
       "  <tbody>\n",
       "    <tr>\n",
       "      <td>0</td>\n",
       "      <td>ID001</td>\n",
       "      <td>CUST_001</td>\n",
       "      <td>1546709270211</td>\n",
       "      <td>17.442705</td>\n",
       "      <td>78.387878</td>\n",
       "      <td>17.457829</td>\n",
       "      <td>78.399056</td>\n",
       "      <td>2.806</td>\n",
       "      <td>12.609667</td>\n",
       "      <td>37</td>\n",
       "    </tr>\n",
       "    <tr>\n",
       "      <td>1</td>\n",
       "      <td>ID002</td>\n",
       "      <td>CUST_002</td>\n",
       "      <td>1546709309524</td>\n",
       "      <td>17.490189</td>\n",
       "      <td>78.415512</td>\n",
       "      <td>17.450548</td>\n",
       "      <td>78.367294</td>\n",
       "      <td>11.991</td>\n",
       "      <td>24.075200</td>\n",
       "      <td>119</td>\n",
       "    </tr>\n",
       "    <tr>\n",
       "      <td>2</td>\n",
       "      <td>ID003</td>\n",
       "      <td>CUST_003</td>\n",
       "      <td>1546709331857</td>\n",
       "      <td>17.370108</td>\n",
       "      <td>78.515045</td>\n",
       "      <td>17.377041</td>\n",
       "      <td>78.517921</td>\n",
       "      <td>1.322</td>\n",
       "      <td>8.708300</td>\n",
       "      <td>27</td>\n",
       "    </tr>\n",
       "    <tr>\n",
       "      <td>3</td>\n",
       "      <td>ID004</td>\n",
       "      <td>CUST_004</td>\n",
       "      <td>1546709358403</td>\n",
       "      <td>17.439314</td>\n",
       "      <td>78.443001</td>\n",
       "      <td>17.397131</td>\n",
       "      <td>78.516586</td>\n",
       "      <td>11.822</td>\n",
       "      <td>24.037550</td>\n",
       "      <td>121</td>\n",
       "    </tr>\n",
       "    <tr>\n",
       "      <td>4</td>\n",
       "      <td>ID005</td>\n",
       "      <td>CUST_005</td>\n",
       "      <td>1546709386884</td>\n",
       "      <td>17.432325</td>\n",
       "      <td>78.381966</td>\n",
       "      <td>17.401625</td>\n",
       "      <td>78.400032</td>\n",
       "      <td>6.978</td>\n",
       "      <td>16.120867</td>\n",
       "      <td>58</td>\n",
       "    </tr>\n",
       "  </tbody>\n",
       "</table>\n",
       "</div>"
      ],
      "text/plain": [
       "  trip_id customer_id      timestamp   pick_lat   pick_lng   drop_lat  \\\n",
       "0   ID001    CUST_001  1546709270211  17.442705  78.387878  17.457829   \n",
       "1   ID002    CUST_002  1546709309524  17.490189  78.415512  17.450548   \n",
       "2   ID003    CUST_003  1546709331857  17.370108  78.515045  17.377041   \n",
       "3   ID004    CUST_004  1546709358403  17.439314  78.443001  17.397131   \n",
       "4   ID005    CUST_005  1546709386884  17.432325  78.381966  17.401625   \n",
       "\n",
       "    drop_lng  travel_distance  travel_time  trip_fare  \n",
       "0  78.399056            2.806    12.609667         37  \n",
       "1  78.367294           11.991    24.075200        119  \n",
       "2  78.517921            1.322     8.708300         27  \n",
       "3  78.516586           11.822    24.037550        121  \n",
       "4  78.400032            6.978    16.120867         58  "
      ]
     },
     "execution_count": 256,
     "metadata": {},
     "output_type": "execute_result"
    }
   ],
   "source": [
    "df.head()"
   ]
  },
  {
   "cell_type": "code",
   "execution_count": 260,
   "metadata": {},
   "outputs": [],
   "source": [
    "import numpy as np\n",
    "import pandas as pd\n",
    "import folium\n",
    "import webbrowser\n",
    "import os\n",
    "import math\n",
    "\n",
    "from h3 import h3\n",
    "from folium import Map"
   ]
  },
  {
   "cell_type": "code",
   "execution_count": 264,
   "metadata": {},
   "outputs": [
    {
     "data": {
      "text/html": [
       "<div>\n",
       "<style scoped>\n",
       "    .dataframe tbody tr th:only-of-type {\n",
       "        vertical-align: middle;\n",
       "    }\n",
       "\n",
       "    .dataframe tbody tr th {\n",
       "        vertical-align: top;\n",
       "    }\n",
       "\n",
       "    .dataframe thead th {\n",
       "        text-align: right;\n",
       "    }\n",
       "</style>\n",
       "<table border=\"1\" class=\"dataframe\">\n",
       "  <thead>\n",
       "    <tr style=\"text-align: right;\">\n",
       "      <th></th>\n",
       "      <th>trip_id</th>\n",
       "      <th>customer_id</th>\n",
       "      <th>timestamp</th>\n",
       "      <th>pick_lat</th>\n",
       "      <th>pick_lng</th>\n",
       "      <th>drop_lat</th>\n",
       "      <th>drop_lng</th>\n",
       "      <th>travel_distance</th>\n",
       "      <th>travel_time</th>\n",
       "      <th>trip_fare</th>\n",
       "    </tr>\n",
       "  </thead>\n",
       "  <tbody>\n",
       "    <tr>\n",
       "      <td>0</td>\n",
       "      <td>ID001</td>\n",
       "      <td>CUST_001</td>\n",
       "      <td>1546709270211</td>\n",
       "      <td>17.442705</td>\n",
       "      <td>78.387878</td>\n",
       "      <td>17.457829</td>\n",
       "      <td>78.399056</td>\n",
       "      <td>2.806</td>\n",
       "      <td>12.609667</td>\n",
       "      <td>37</td>\n",
       "    </tr>\n",
       "    <tr>\n",
       "      <td>1</td>\n",
       "      <td>ID002</td>\n",
       "      <td>CUST_002</td>\n",
       "      <td>1546709309524</td>\n",
       "      <td>17.490189</td>\n",
       "      <td>78.415512</td>\n",
       "      <td>17.450548</td>\n",
       "      <td>78.367294</td>\n",
       "      <td>11.991</td>\n",
       "      <td>24.075200</td>\n",
       "      <td>119</td>\n",
       "    </tr>\n",
       "    <tr>\n",
       "      <td>2</td>\n",
       "      <td>ID003</td>\n",
       "      <td>CUST_003</td>\n",
       "      <td>1546709331857</td>\n",
       "      <td>17.370108</td>\n",
       "      <td>78.515045</td>\n",
       "      <td>17.377041</td>\n",
       "      <td>78.517921</td>\n",
       "      <td>1.322</td>\n",
       "      <td>8.708300</td>\n",
       "      <td>27</td>\n",
       "    </tr>\n",
       "    <tr>\n",
       "      <td>3</td>\n",
       "      <td>ID004</td>\n",
       "      <td>CUST_004</td>\n",
       "      <td>1546709358403</td>\n",
       "      <td>17.439314</td>\n",
       "      <td>78.443001</td>\n",
       "      <td>17.397131</td>\n",
       "      <td>78.516586</td>\n",
       "      <td>11.822</td>\n",
       "      <td>24.037550</td>\n",
       "      <td>121</td>\n",
       "    </tr>\n",
       "    <tr>\n",
       "      <td>4</td>\n",
       "      <td>ID005</td>\n",
       "      <td>CUST_005</td>\n",
       "      <td>1546709386884</td>\n",
       "      <td>17.432325</td>\n",
       "      <td>78.381966</td>\n",
       "      <td>17.401625</td>\n",
       "      <td>78.400032</td>\n",
       "      <td>6.978</td>\n",
       "      <td>16.120867</td>\n",
       "      <td>58</td>\n",
       "    </tr>\n",
       "  </tbody>\n",
       "</table>\n",
       "</div>"
      ],
      "text/plain": [
       "  trip_id customer_id      timestamp   pick_lat   pick_lng   drop_lat  \\\n",
       "0   ID001    CUST_001  1546709270211  17.442705  78.387878  17.457829   \n",
       "1   ID002    CUST_002  1546709309524  17.490189  78.415512  17.450548   \n",
       "2   ID003    CUST_003  1546709331857  17.370108  78.515045  17.377041   \n",
       "3   ID004    CUST_004  1546709358403  17.439314  78.443001  17.397131   \n",
       "4   ID005    CUST_005  1546709386884  17.432325  78.381966  17.401625   \n",
       "\n",
       "    drop_lng  travel_distance  travel_time  trip_fare  \n",
       "0  78.399056            2.806    12.609667         37  \n",
       "1  78.367294           11.991    24.075200        119  \n",
       "2  78.517921            1.322     8.708300         27  \n",
       "3  78.516586           11.822    24.037550        121  \n",
       "4  78.400032            6.978    16.120867         58  "
      ]
     },
     "execution_count": 264,
     "metadata": {},
     "output_type": "execute_result"
    }
   ],
   "source": [
    "df.head()"
   ]
  },
  {
   "cell_type": "code",
   "execution_count": 266,
   "metadata": {},
   "outputs": [],
   "source": [
    "pos = df[['pick_lat','pick_lng','drop_lat','drop_lng']]"
   ]
  },
  {
   "cell_type": "code",
   "execution_count": 267,
   "metadata": {},
   "outputs": [
    {
     "data": {
      "text/plain": [
       "pick_lat    0\n",
       "pick_lng    0\n",
       "drop_lat    0\n",
       "drop_lng    0\n",
       "dtype: int64"
      ]
     },
     "execution_count": 267,
     "metadata": {},
     "output_type": "execute_result"
    }
   ],
   "source": [
    "pos.isna().sum()"
   ]
  },
  {
   "cell_type": "code",
   "execution_count": 270,
   "metadata": {},
   "outputs": [],
   "source": [
    "##Creating radian latitude and logitude columns now"
   ]
  },
  {
   "cell_type": "code",
   "execution_count": 271,
   "metadata": {},
   "outputs": [],
   "source": [
    "pos['lngpick'] = np.radians(pos['pick_lng'].to_numpy())\n",
    "pos['latpick'] = np.radians(pos['pick_lat'].to_numpy())\n",
    "pos['lngdrop'] = np.radians(pos['drop_lng'].to_numpy())\n",
    "pos['latdrop'] = np.radians(pos['drop_lat'].to_numpy())"
   ]
  },
  {
   "cell_type": "code",
   "execution_count": 272,
   "metadata": {},
   "outputs": [
    {
     "data": {
      "text/html": [
       "<div>\n",
       "<style scoped>\n",
       "    .dataframe tbody tr th:only-of-type {\n",
       "        vertical-align: middle;\n",
       "    }\n",
       "\n",
       "    .dataframe tbody tr th {\n",
       "        vertical-align: top;\n",
       "    }\n",
       "\n",
       "    .dataframe thead th {\n",
       "        text-align: right;\n",
       "    }\n",
       "</style>\n",
       "<table border=\"1\" class=\"dataframe\">\n",
       "  <thead>\n",
       "    <tr style=\"text-align: right;\">\n",
       "      <th></th>\n",
       "      <th>pick_lat</th>\n",
       "      <th>pick_lng</th>\n",
       "      <th>drop_lat</th>\n",
       "      <th>drop_lng</th>\n",
       "      <th>lngpick</th>\n",
       "      <th>latpick</th>\n",
       "      <th>lngdrop</th>\n",
       "      <th>latdrop</th>\n",
       "    </tr>\n",
       "  </thead>\n",
       "  <tbody>\n",
       "    <tr>\n",
       "      <td>0</td>\n",
       "      <td>17.442705</td>\n",
       "      <td>78.387878</td>\n",
       "      <td>17.457829</td>\n",
       "      <td>78.399056</td>\n",
       "      <td>1.368127</td>\n",
       "      <td>0.304433</td>\n",
       "      <td>1.368322</td>\n",
       "      <td>0.304697</td>\n",
       "    </tr>\n",
       "    <tr>\n",
       "      <td>1</td>\n",
       "      <td>17.490189</td>\n",
       "      <td>78.415512</td>\n",
       "      <td>17.450548</td>\n",
       "      <td>78.367294</td>\n",
       "      <td>1.368609</td>\n",
       "      <td>0.305261</td>\n",
       "      <td>1.367767</td>\n",
       "      <td>0.304570</td>\n",
       "    </tr>\n",
       "    <tr>\n",
       "      <td>2</td>\n",
       "      <td>17.370108</td>\n",
       "      <td>78.515045</td>\n",
       "      <td>17.377041</td>\n",
       "      <td>78.517921</td>\n",
       "      <td>1.370346</td>\n",
       "      <td>0.303166</td>\n",
       "      <td>1.370396</td>\n",
       "      <td>0.303287</td>\n",
       "    </tr>\n",
       "    <tr>\n",
       "      <td>3</td>\n",
       "      <td>17.439314</td>\n",
       "      <td>78.443001</td>\n",
       "      <td>17.397131</td>\n",
       "      <td>78.516586</td>\n",
       "      <td>1.369089</td>\n",
       "      <td>0.304373</td>\n",
       "      <td>1.370373</td>\n",
       "      <td>0.303637</td>\n",
       "    </tr>\n",
       "    <tr>\n",
       "      <td>4</td>\n",
       "      <td>17.432325</td>\n",
       "      <td>78.381966</td>\n",
       "      <td>17.401625</td>\n",
       "      <td>78.400032</td>\n",
       "      <td>1.368023</td>\n",
       "      <td>0.304251</td>\n",
       "      <td>1.368339</td>\n",
       "      <td>0.303716</td>\n",
       "    </tr>\n",
       "  </tbody>\n",
       "</table>\n",
       "</div>"
      ],
      "text/plain": [
       "    pick_lat   pick_lng   drop_lat   drop_lng   lngpick   latpick   lngdrop  \\\n",
       "0  17.442705  78.387878  17.457829  78.399056  1.368127  0.304433  1.368322   \n",
       "1  17.490189  78.415512  17.450548  78.367294  1.368609  0.305261  1.367767   \n",
       "2  17.370108  78.515045  17.377041  78.517921  1.370346  0.303166  1.370396   \n",
       "3  17.439314  78.443001  17.397131  78.516586  1.369089  0.304373  1.370373   \n",
       "4  17.432325  78.381966  17.401625  78.400032  1.368023  0.304251  1.368339   \n",
       "\n",
       "    latdrop  \n",
       "0  0.304697  \n",
       "1  0.304570  \n",
       "2  0.303287  \n",
       "3  0.303637  \n",
       "4  0.303716  "
      ]
     },
     "execution_count": 272,
     "metadata": {},
     "output_type": "execute_result"
    }
   ],
   "source": [
    "pos.head()"
   ]
  },
  {
   "cell_type": "code",
   "execution_count": 280,
   "metadata": {},
   "outputs": [],
   "source": [
    "pos1 = pos[['lngpick','latpick']]\n",
    "pos2 = pos[['lngdrop','latdrop']]"
   ]
  },
  {
   "cell_type": "code",
   "execution_count": 281,
   "metadata": {},
   "outputs": [],
   "source": [
    "##Setting parameters for DBSCAN:\n",
    "eps_in_meters = 50.0\n",
    "num_samples = 10"
   ]
  },
  {
   "cell_type": "code",
   "execution_count": 282,
   "metadata": {},
   "outputs": [],
   "source": [
    "##First finding out where most of the trips started:\n",
    "from sklearn.cluster import DBSCAN\n",
    "\n",
    "earth_perimeter = 40070000.0  # In meters\n",
    "eps_in_radians = eps_in_meters / earth_perimeter * (2 * math.pi)\n",
    "\n",
    "pos1['cluster'] = DBSCAN(eps=eps_in_radians, min_samples=num_samples, \n",
    "                           metric='haversine').fit_predict(pos1[['lngpick', 'latpick']])"
   ]
  },
  {
   "cell_type": "code",
   "execution_count": 283,
   "metadata": {},
   "outputs": [],
   "source": [
    "h3_level = 8 ##as defined in the question"
   ]
  },
  {
   "cell_type": "code",
   "execution_count": 290,
   "metadata": {},
   "outputs": [],
   "source": [
    "##Function to convert latitude and longitudes to H3 key:\n",
    "def lat_lng_to_h3(row):\n",
    "    return h3.geo_to_h3(row['lngpick'], row['latpick'], h3_level)"
   ]
  },
  {
   "cell_type": "code",
   "execution_count": 291,
   "metadata": {},
   "outputs": [],
   "source": [
    "pos1['h3'] = pos1.drop(columns='cluster').apply(lat_lng_to_h3, axis=1)"
   ]
  },
  {
   "cell_type": "code",
   "execution_count": 292,
   "metadata": {},
   "outputs": [
    {
     "data": {
      "text/html": [
       "<div>\n",
       "<style scoped>\n",
       "    .dataframe tbody tr th:only-of-type {\n",
       "        vertical-align: middle;\n",
       "    }\n",
       "\n",
       "    .dataframe tbody tr th {\n",
       "        vertical-align: top;\n",
       "    }\n",
       "\n",
       "    .dataframe thead th {\n",
       "        text-align: right;\n",
       "    }\n",
       "</style>\n",
       "<table border=\"1\" class=\"dataframe\">\n",
       "  <thead>\n",
       "    <tr style=\"text-align: right;\">\n",
       "      <th></th>\n",
       "      <th>lngpick</th>\n",
       "      <th>latpick</th>\n",
       "      <th>cluster</th>\n",
       "      <th>h3</th>\n",
       "    </tr>\n",
       "  </thead>\n",
       "  <tbody>\n",
       "    <tr>\n",
       "      <td>0</td>\n",
       "      <td>1.368127</td>\n",
       "      <td>0.304433</td>\n",
       "      <td>0</td>\n",
       "      <td>8875438681fffff</td>\n",
       "    </tr>\n",
       "    <tr>\n",
       "      <td>1</td>\n",
       "      <td>1.368609</td>\n",
       "      <td>0.305261</td>\n",
       "      <td>-1</td>\n",
       "      <td>8875438689fffff</td>\n",
       "    </tr>\n",
       "    <tr>\n",
       "      <td>2</td>\n",
       "      <td>1.370346</td>\n",
       "      <td>0.303166</td>\n",
       "      <td>1</td>\n",
       "      <td>887543868dfffff</td>\n",
       "    </tr>\n",
       "    <tr>\n",
       "      <td>3</td>\n",
       "      <td>1.369089</td>\n",
       "      <td>0.304373</td>\n",
       "      <td>2</td>\n",
       "      <td>8875438689fffff</td>\n",
       "    </tr>\n",
       "    <tr>\n",
       "      <td>4</td>\n",
       "      <td>1.368023</td>\n",
       "      <td>0.304251</td>\n",
       "      <td>3</td>\n",
       "      <td>8875438681fffff</td>\n",
       "    </tr>\n",
       "    <tr>\n",
       "      <td>...</td>\n",
       "      <td>...</td>\n",
       "      <td>...</td>\n",
       "      <td>...</td>\n",
       "      <td>...</td>\n",
       "    </tr>\n",
       "    <tr>\n",
       "      <td>44582</td>\n",
       "      <td>1.368198</td>\n",
       "      <td>0.304449</td>\n",
       "      <td>0</td>\n",
       "      <td>8875438689fffff</td>\n",
       "    </tr>\n",
       "    <tr>\n",
       "      <td>44583</td>\n",
       "      <td>1.368270</td>\n",
       "      <td>0.304373</td>\n",
       "      <td>0</td>\n",
       "      <td>8875438681fffff</td>\n",
       "    </tr>\n",
       "    <tr>\n",
       "      <td>44584</td>\n",
       "      <td>1.370698</td>\n",
       "      <td>0.303054</td>\n",
       "      <td>-1</td>\n",
       "      <td>887543868dfffff</td>\n",
       "    </tr>\n",
       "    <tr>\n",
       "      <td>44585</td>\n",
       "      <td>1.371307</td>\n",
       "      <td>0.303714</td>\n",
       "      <td>-1</td>\n",
       "      <td>887543868dfffff</td>\n",
       "    </tr>\n",
       "    <tr>\n",
       "      <td>44586</td>\n",
       "      <td>1.369733</td>\n",
       "      <td>0.303430</td>\n",
       "      <td>4</td>\n",
       "      <td>8875438681fffff</td>\n",
       "    </tr>\n",
       "  </tbody>\n",
       "</table>\n",
       "<p>44587 rows × 4 columns</p>\n",
       "</div>"
      ],
      "text/plain": [
       "        lngpick   latpick  cluster               h3\n",
       "0      1.368127  0.304433        0  8875438681fffff\n",
       "1      1.368609  0.305261       -1  8875438689fffff\n",
       "2      1.370346  0.303166        1  887543868dfffff\n",
       "3      1.369089  0.304373        2  8875438689fffff\n",
       "4      1.368023  0.304251        3  8875438681fffff\n",
       "...         ...       ...      ...              ...\n",
       "44582  1.368198  0.304449        0  8875438689fffff\n",
       "44583  1.368270  0.304373        0  8875438681fffff\n",
       "44584  1.370698  0.303054       -1  887543868dfffff\n",
       "44585  1.371307  0.303714       -1  887543868dfffff\n",
       "44586  1.369733  0.303430        4  8875438681fffff\n",
       "\n",
       "[44587 rows x 4 columns]"
      ]
     },
     "execution_count": 292,
     "metadata": {},
     "output_type": "execute_result"
    }
   ],
   "source": [
    "pos1"
   ]
  },
  {
   "cell_type": "code",
   "execution_count": 293,
   "metadata": {},
   "outputs": [],
   "source": [
    "##Selecting only the locations that belong to a DBSCAN-generated cluster. Clusters marked with -1 are noise in this case:"
   ]
  },
  {
   "cell_type": "code",
   "execution_count": 294,
   "metadata": {},
   "outputs": [],
   "source": [
    "df1 = pos1[pos1.cluster != -1].copy()"
   ]
  },
  {
   "cell_type": "code",
   "execution_count": 296,
   "metadata": {},
   "outputs": [
    {
     "data": {
      "text/plain": [
       "8875438689fffff    22801\n",
       "8875438681fffff    13665\n",
       "887543868dfffff      544\n",
       "Name: h3, dtype: int64"
      ]
     },
     "execution_count": 296,
     "metadata": {},
     "output_type": "execute_result"
    }
   ],
   "source": [
    "df1['h3'].value_counts()  ##H3 levels for the positions where the pick location was"
   ]
  },
  {
   "cell_type": "code",
   "execution_count": 299,
   "metadata": {},
   "outputs": [
    {
     "data": {
      "text/plain": [
       "2     7667\n",
       "4     5445\n",
       "0     5313\n",
       "7     4876\n",
       "10     764\n",
       "Name: cluster, dtype: int64"
      ]
     },
     "execution_count": 299,
     "metadata": {},
     "output_type": "execute_result"
    }
   ],
   "source": [
    "df1['cluster'].value_counts().head(5) ##Top 5 clusters for the positions where the pick location was"
   ]
  },
  {
   "cell_type": "code",
   "execution_count": null,
   "metadata": {},
   "outputs": [],
   "source": [
    "##Now, for the Drop location where most trips ended:\n",
    "\n"
   ]
  },
  {
   "cell_type": "code",
   "execution_count": 308,
   "metadata": {},
   "outputs": [
    {
     "data": {
      "text/html": [
       "<div>\n",
       "<style scoped>\n",
       "    .dataframe tbody tr th:only-of-type {\n",
       "        vertical-align: middle;\n",
       "    }\n",
       "\n",
       "    .dataframe tbody tr th {\n",
       "        vertical-align: top;\n",
       "    }\n",
       "\n",
       "    .dataframe thead th {\n",
       "        text-align: right;\n",
       "    }\n",
       "</style>\n",
       "<table border=\"1\" class=\"dataframe\">\n",
       "  <thead>\n",
       "    <tr style=\"text-align: right;\">\n",
       "      <th></th>\n",
       "      <th>pick_lat</th>\n",
       "      <th>pick_lng</th>\n",
       "      <th>drop_lat</th>\n",
       "      <th>drop_lng</th>\n",
       "      <th>lngpick</th>\n",
       "      <th>latpick</th>\n",
       "      <th>lngdrop</th>\n",
       "      <th>latdrop</th>\n",
       "      <th>cluster</th>\n",
       "    </tr>\n",
       "  </thead>\n",
       "  <tbody>\n",
       "    <tr>\n",
       "      <td>0</td>\n",
       "      <td>17.442705</td>\n",
       "      <td>78.387878</td>\n",
       "      <td>17.457829</td>\n",
       "      <td>78.399056</td>\n",
       "      <td>1.368127</td>\n",
       "      <td>0.304433</td>\n",
       "      <td>1.368322</td>\n",
       "      <td>0.304697</td>\n",
       "      <td>0</td>\n",
       "    </tr>\n",
       "    <tr>\n",
       "      <td>1</td>\n",
       "      <td>17.490189</td>\n",
       "      <td>78.415512</td>\n",
       "      <td>17.450548</td>\n",
       "      <td>78.367294</td>\n",
       "      <td>1.368609</td>\n",
       "      <td>0.305261</td>\n",
       "      <td>1.367767</td>\n",
       "      <td>0.304570</td>\n",
       "      <td>-1</td>\n",
       "    </tr>\n",
       "    <tr>\n",
       "      <td>2</td>\n",
       "      <td>17.370108</td>\n",
       "      <td>78.515045</td>\n",
       "      <td>17.377041</td>\n",
       "      <td>78.517921</td>\n",
       "      <td>1.370346</td>\n",
       "      <td>0.303166</td>\n",
       "      <td>1.370396</td>\n",
       "      <td>0.303287</td>\n",
       "      <td>1</td>\n",
       "    </tr>\n",
       "    <tr>\n",
       "      <td>3</td>\n",
       "      <td>17.439314</td>\n",
       "      <td>78.443001</td>\n",
       "      <td>17.397131</td>\n",
       "      <td>78.516586</td>\n",
       "      <td>1.369089</td>\n",
       "      <td>0.304373</td>\n",
       "      <td>1.370373</td>\n",
       "      <td>0.303637</td>\n",
       "      <td>2</td>\n",
       "    </tr>\n",
       "    <tr>\n",
       "      <td>4</td>\n",
       "      <td>17.432325</td>\n",
       "      <td>78.381966</td>\n",
       "      <td>17.401625</td>\n",
       "      <td>78.400032</td>\n",
       "      <td>1.368023</td>\n",
       "      <td>0.304251</td>\n",
       "      <td>1.368339</td>\n",
       "      <td>0.303716</td>\n",
       "      <td>3</td>\n",
       "    </tr>\n",
       "  </tbody>\n",
       "</table>\n",
       "</div>"
      ],
      "text/plain": [
       "    pick_lat   pick_lng   drop_lat   drop_lng   lngpick   latpick   lngdrop  \\\n",
       "0  17.442705  78.387878  17.457829  78.399056  1.368127  0.304433  1.368322   \n",
       "1  17.490189  78.415512  17.450548  78.367294  1.368609  0.305261  1.367767   \n",
       "2  17.370108  78.515045  17.377041  78.517921  1.370346  0.303166  1.370396   \n",
       "3  17.439314  78.443001  17.397131  78.516586  1.369089  0.304373  1.370373   \n",
       "4  17.432325  78.381966  17.401625  78.400032  1.368023  0.304251  1.368339   \n",
       "\n",
       "    latdrop  cluster  \n",
       "0  0.304697        0  \n",
       "1  0.304570       -1  \n",
       "2  0.303287        1  \n",
       "3  0.303637        2  \n",
       "4  0.303716        3  "
      ]
     },
     "execution_count": 308,
     "metadata": {},
     "output_type": "execute_result"
    }
   ],
   "source": [
    "pos.head()"
   ]
  },
  {
   "cell_type": "code",
   "execution_count": 309,
   "metadata": {},
   "outputs": [],
   "source": [
    "pos1 = pos[['lngpick','latpick']]\n",
    "pos2 = pos[['lngdrop','latdrop']]"
   ]
  },
  {
   "cell_type": "code",
   "execution_count": 310,
   "metadata": {},
   "outputs": [],
   "source": [
    "##Setting parameters for DBSCAN:\n",
    "eps_in_meters = 50.0\n",
    "num_samples = 10"
   ]
  },
  {
   "cell_type": "code",
   "execution_count": 312,
   "metadata": {},
   "outputs": [],
   "source": [
    "##First finding out where most of the trips started:\n",
    "from sklearn.cluster import DBSCAN\n",
    "\n",
    "earth_perimeter = 40070000.0  # In meters\n",
    "eps_in_radians = eps_in_meters / earth_perimeter * (2 * math.pi)\n",
    "\n",
    "pos2['cluster'] = DBSCAN(eps=eps_in_radians, min_samples=num_samples, \n",
    "                           metric='haversine').fit_predict(pos2[['lngdrop', 'latdrop']])"
   ]
  },
  {
   "cell_type": "code",
   "execution_count": 313,
   "metadata": {},
   "outputs": [],
   "source": [
    "h3_level = 8 ##as defined in the question"
   ]
  },
  {
   "cell_type": "code",
   "execution_count": 316,
   "metadata": {},
   "outputs": [],
   "source": [
    "##Function to convert latitude and longitudes to H3 key:\n",
    "def lat_lng_to_h3(row):\n",
    "    return h3.geo_to_h3(row['lngdrop'], row['latdrop'], h3_level)"
   ]
  },
  {
   "cell_type": "code",
   "execution_count": 317,
   "metadata": {},
   "outputs": [],
   "source": [
    "pos2['h3'] = pos2.drop(columns='cluster').apply(lat_lng_to_h3, axis=1)"
   ]
  },
  {
   "cell_type": "code",
   "execution_count": 318,
   "metadata": {},
   "outputs": [
    {
     "data": {
      "text/html": [
       "<div>\n",
       "<style scoped>\n",
       "    .dataframe tbody tr th:only-of-type {\n",
       "        vertical-align: middle;\n",
       "    }\n",
       "\n",
       "    .dataframe tbody tr th {\n",
       "        vertical-align: top;\n",
       "    }\n",
       "\n",
       "    .dataframe thead th {\n",
       "        text-align: right;\n",
       "    }\n",
       "</style>\n",
       "<table border=\"1\" class=\"dataframe\">\n",
       "  <thead>\n",
       "    <tr style=\"text-align: right;\">\n",
       "      <th></th>\n",
       "      <th>lngdrop</th>\n",
       "      <th>latdrop</th>\n",
       "      <th>cluster</th>\n",
       "      <th>h3</th>\n",
       "    </tr>\n",
       "  </thead>\n",
       "  <tbody>\n",
       "    <tr>\n",
       "      <td>0</td>\n",
       "      <td>1.368322</td>\n",
       "      <td>0.304697</td>\n",
       "      <td>0</td>\n",
       "      <td>8875438689fffff</td>\n",
       "    </tr>\n",
       "    <tr>\n",
       "      <td>1</td>\n",
       "      <td>1.367767</td>\n",
       "      <td>0.304570</td>\n",
       "      <td>1</td>\n",
       "      <td>8875438681fffff</td>\n",
       "    </tr>\n",
       "    <tr>\n",
       "      <td>2</td>\n",
       "      <td>1.370396</td>\n",
       "      <td>0.303287</td>\n",
       "      <td>-1</td>\n",
       "      <td>887543868dfffff</td>\n",
       "    </tr>\n",
       "    <tr>\n",
       "      <td>3</td>\n",
       "      <td>1.370373</td>\n",
       "      <td>0.303637</td>\n",
       "      <td>172</td>\n",
       "      <td>8875438689fffff</td>\n",
       "    </tr>\n",
       "    <tr>\n",
       "      <td>4</td>\n",
       "      <td>1.368339</td>\n",
       "      <td>0.303716</td>\n",
       "      <td>-1</td>\n",
       "      <td>8875438681fffff</td>\n",
       "    </tr>\n",
       "    <tr>\n",
       "      <td>...</td>\n",
       "      <td>...</td>\n",
       "      <td>...</td>\n",
       "      <td>...</td>\n",
       "      <td>...</td>\n",
       "    </tr>\n",
       "    <tr>\n",
       "      <td>44582</td>\n",
       "      <td>1.367843</td>\n",
       "      <td>0.304578</td>\n",
       "      <td>1</td>\n",
       "      <td>8875438681fffff</td>\n",
       "    </tr>\n",
       "    <tr>\n",
       "      <td>44583</td>\n",
       "      <td>1.368149</td>\n",
       "      <td>0.304560</td>\n",
       "      <td>1</td>\n",
       "      <td>8875438689fffff</td>\n",
       "    </tr>\n",
       "    <tr>\n",
       "      <td>44584</td>\n",
       "      <td>1.370604</td>\n",
       "      <td>0.303241</td>\n",
       "      <td>-1</td>\n",
       "      <td>887543868dfffff</td>\n",
       "    </tr>\n",
       "    <tr>\n",
       "      <td>44585</td>\n",
       "      <td>1.371678</td>\n",
       "      <td>0.303982</td>\n",
       "      <td>-1</td>\n",
       "      <td>887543868dfffff</td>\n",
       "    </tr>\n",
       "    <tr>\n",
       "      <td>44586</td>\n",
       "      <td>1.370076</td>\n",
       "      <td>0.303584</td>\n",
       "      <td>2</td>\n",
       "      <td>8875438689fffff</td>\n",
       "    </tr>\n",
       "  </tbody>\n",
       "</table>\n",
       "<p>44587 rows × 4 columns</p>\n",
       "</div>"
      ],
      "text/plain": [
       "        lngdrop   latdrop  cluster               h3\n",
       "0      1.368322  0.304697        0  8875438689fffff\n",
       "1      1.367767  0.304570        1  8875438681fffff\n",
       "2      1.370396  0.303287       -1  887543868dfffff\n",
       "3      1.370373  0.303637      172  8875438689fffff\n",
       "4      1.368339  0.303716       -1  8875438681fffff\n",
       "...         ...       ...      ...              ...\n",
       "44582  1.367843  0.304578        1  8875438681fffff\n",
       "44583  1.368149  0.304560        1  8875438689fffff\n",
       "44584  1.370604  0.303241       -1  887543868dfffff\n",
       "44585  1.371678  0.303982       -1  887543868dfffff\n",
       "44586  1.370076  0.303584        2  8875438689fffff\n",
       "\n",
       "[44587 rows x 4 columns]"
      ]
     },
     "execution_count": 318,
     "metadata": {},
     "output_type": "execute_result"
    }
   ],
   "source": [
    "pos2"
   ]
  },
  {
   "cell_type": "code",
   "execution_count": 319,
   "metadata": {},
   "outputs": [],
   "source": [
    "##Selecting only the locations that belong to a DBSCAN-generated cluster. Clusters marked with -1 are noise in this case:"
   ]
  },
  {
   "cell_type": "code",
   "execution_count": 321,
   "metadata": {},
   "outputs": [],
   "source": [
    "df2 = pos2[pos2.cluster != -1].copy()"
   ]
  },
  {
   "cell_type": "code",
   "execution_count": 322,
   "metadata": {},
   "outputs": [
    {
     "data": {
      "text/plain": [
       "8875438689fffff    21321\n",
       "8875438681fffff    13935\n",
       "887543868dfffff      550\n",
       "Name: h3, dtype: int64"
      ]
     },
     "execution_count": 322,
     "metadata": {},
     "output_type": "execute_result"
    }
   ],
   "source": [
    "df2['h3'].value_counts()  ##H3 levels for the positions where the pick location was"
   ]
  },
  {
   "cell_type": "code",
   "execution_count": 323,
   "metadata": {},
   "outputs": [
    {
     "data": {
      "text/plain": [
       "1     9349\n",
       "3     7308\n",
       "2     5310\n",
       "12     661\n",
       "5      420\n",
       "Name: cluster, dtype: int64"
      ]
     },
     "execution_count": 323,
     "metadata": {},
     "output_type": "execute_result"
    }
   ],
   "source": [
    "df2['cluster'].value_counts().head(5) ##Top 5 clusters for the positions where the pick location was"
   ]
  },
  {
   "cell_type": "code",
   "execution_count": null,
   "metadata": {},
   "outputs": [],
   "source": [
    "##So, we have calculated top 5 clusters based on pick locations and drop locations\n",
    "##We do see that people are usually travelling from one specific location to another, and this is actually true, since\n",
    "#quite a lot of people will be taking trips from highly occupied residential areas, to their workplace/institutes, etc.\n",
    "##We can take an example of people travelling from HSR layout/Koramangala to various co-working spaces in Bangalore, \n",
    "#so the amount of #picks from residential areas could be highest, and the amount of drops at the co-working spaces could be\n",
    "#highest"
   ]
  },
  {
   "cell_type": "code",
   "execution_count": null,
   "metadata": {},
   "outputs": [],
   "source": []
  }
 ],
 "metadata": {
  "kernelspec": {
   "display_name": "Python 3",
   "language": "python",
   "name": "python3"
  },
  "language_info": {
   "codemirror_mode": {
    "name": "ipython",
    "version": 3
   },
   "file_extension": ".py",
   "mimetype": "text/x-python",
   "name": "python",
   "nbconvert_exporter": "python",
   "pygments_lexer": "ipython3",
   "version": "3.7.4"
  }
 },
 "nbformat": 4,
 "nbformat_minor": 2
}
